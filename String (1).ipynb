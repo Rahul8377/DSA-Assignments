{
 "cells": [
  {
   "cell_type": "markdown",
   "id": "d77c9c2c",
   "metadata": {},
   "source": [
    "# <aside>\n",
    "💡 **Question 1**\n",
    "\n",
    "Given two strings s1 and s2, return *the lowest **ASCII** sum of deleted characters to make two strings equal*.\n",
    "\n",
    "**Example 1:**\n",
    "\n",
    "**Input:** s1 = \"sea\", s2 = \"eat\"\n",
    "\n",
    "**Output:** 231\n",
    "\n",
    "**Explanation:** Deleting \"s\" from \"sea\" adds the ASCII value of \"s\" (115) to the sum.\n",
    "\n",
    "Deleting \"t\" from \"eat\" adds 116 to the sum.\n",
    "\n",
    "At the end, both strings are equal, and 115 + 116 = 231 is the minimum sum possible to achieve this.\n",
    "\n",
    "</aside>"
   ]
  },
  {
   "cell_type": "markdown",
   "id": "2bb8b1b5",
   "metadata": {},
   "source": [
    "# Solution"
   ]
  },
  {
   "cell_type": "markdown",
   "id": "bf6bf611",
   "metadata": {},
   "source": [
    "To find the lowest ASCII sum of deleted characters to make two strings equal, we can use dynamic programming to solve this problem. We'll create a 2D table to store the minimum ASCII sum for each prefix of the two strings.\n",
    "\n",
    "Here's a Python implementation of the solution:"
   ]
  },
  {
   "cell_type": "code",
   "execution_count": 1,
   "id": "9e77e429",
   "metadata": {},
   "outputs": [
    {
     "name": "stdout",
     "output_type": "stream",
     "text": [
      "231\n"
     ]
    }
   ],
   "source": [
    "def minimumDeleteSum(s1, s2):\n",
    "    m, n = len(s1), len(s2)\n",
    "    \n",
    "    # Create a 2D table to store the minimum ASCII sum\n",
    "    dp = [[0] * (n + 1) for _ in range(m + 1)]\n",
    "    \n",
    "    # Fill the first row and column\n",
    "    for i in range(1, m + 1):\n",
    "        dp[i][0] = dp[i-1][0] + ord(s1[i-1])\n",
    "    for j in range(1, n + 1):\n",
    "        dp[0][j] = dp[0][j-1] + ord(s2[j-1])\n",
    "    \n",
    "    # Fill the remaining cells\n",
    "    for i in range(1, m + 1):\n",
    "        for j in range(1, n + 1):\n",
    "            if s1[i-1] == s2[j-1]:\n",
    "                dp[i][j] = dp[i-1][j-1]  # Characters are equal, no deletion needed\n",
    "            else:\n",
    "                dp[i][j] = min(dp[i-1][j] + ord(s1[i-1]),  # Delete character from s1\n",
    "                               dp[i][j-1] + ord(s2[j-1]))  # Delete character from s2\n",
    "    \n",
    "    return dp[m][n]  # Minimum ASCII sum for the whole strings\n",
    "\n",
    "\n",
    "# Example usage\n",
    "s1 = \"sea\"\n",
    "s2 = \"eat\"\n",
    "result = minimumDeleteSum(s1, s2)\n",
    "print(result)  # Output: 231\n"
   ]
  },
  {
   "cell_type": "markdown",
   "id": "244eab38",
   "metadata": {},
   "source": [
    "In this implementation, we use a 2D table dp where dp[i][j] represents the minimum ASCII sum to make the prefixes s1[:i] and s2[:j] equal. We fill the table by considering three cases:\n",
    "\n",
    "If the characters at indices i-1 and j-1 are equal, then no deletion is needed. The minimum sum for this case is the same as the previous prefix, so dp[i][j] = dp[i-1][j-1].\n",
    "If the characters are not equal, we have two choices: delete the character from s1 or delete the character from s2. We choose the minimum sum among these two options: dp[i][j] = min(dp[i-1][j] + ord(s1[i-1]), dp[i][j-1] + ord(s2[j-1])), where ord(c) returns the ASCII value of character c.\n",
    "The initial values of the first row and column are computed by summing the ASCII values of the characters in the prefixes.\n",
    "Finally, we return dp[m][n], where m and n are the lengths of s1 and s2 respectively. This represents the minimum ASCII sum to make the entire strings s1 and s2 equal."
   ]
  },
  {
   "cell_type": "markdown",
   "id": "a59e0605",
   "metadata": {},
   "source": [
    "# <aside>\n",
    "💡 **Question 2**\n",
    "\n",
    "Given a string s containing only three types of characters: '(', ')' and '*', return true *if* s *is **valid***.\n",
    "\n",
    "The following rules define a **valid** string:\n",
    "\n",
    "- Any left parenthesis '(' must have a corresponding right parenthesis ')'.\n",
    "- Any right parenthesis ')' must have a corresponding left parenthesis '('.\n",
    "- Left parenthesis '(' must go before the corresponding right parenthesis ')'.\n",
    "- '*' could be treated as a single right parenthesis ')' or a single left parenthesis '(' or an empty string \"\".\n",
    "\n",
    "**Example 1:**\n",
    "\n",
    "**Input:** s = \"()\"\n",
    "\n",
    "**Output:**\n",
    "\n",
    "true\n",
    "\n",
    "</aside>"
   ]
  },
  {
   "cell_type": "code",
   "execution_count": 2,
   "id": "e5706b9c",
   "metadata": {},
   "outputs": [],
   "source": [
    "def checkValidString(s):\n",
    "    stack = []  # Stack to store indices of left parentheses and asterisks\n",
    "    \n",
    "    # Scan the string from left to right\n",
    "    for i, char in enumerate(s):\n",
    "        if char == '(' or char == '*':\n",
    "            stack.append(i)\n",
    "        else:\n",
    "            if not stack:\n",
    "                return False  # Unmatched right parenthesis\n",
    "            if s[stack[-1]] == '(':\n",
    "                stack.pop()\n",
    "            else:\n",
    "                stack.pop()  # Match asterisk as empty string\n",
    "    \n",
    "    # Now, stack contains indices of unmatched left parentheses and asterisks\n",
    "    \n",
    "    balance = 0  # Count of unmatched left parentheses\n",
    "    \n",
    "    # Scan the stack from right to left\n",
    "    while stack:\n",
    "        idx = stack.pop()\n",
    "        if s[idx] == '(':\n",
    "            balance += 1\n",
    "        else:\n",
    "            if balance > 0:\n",
    "                balance -= 1\n",
    "            else:\n",
    "                return False  # Unmatched asterisk\n",
    "    \n",
    "    return True\n"
   ]
  },
  {
   "cell_type": "markdown",
   "id": "453ce671",
   "metadata": {},
   "source": [
    "# <aside>\n",
    "💡 **Question 3**\n",
    "\n",
    "Given two strings word1 and word2, return *the minimum number of **steps** required to make* word1 *and* word2 *the same*.\n",
    "\n",
    "In one **step**, you can delete exactly one character in either string.\n",
    "\n",
    "**Example 1:**\n",
    "\n",
    "**Input:** word1 = \"sea\", word2 = \"eat\"\n",
    "\n",
    "**Output:** 2\n",
    "\n",
    "**Explanation:** You need one step to make \"sea\" to \"ea\" and another step to make \"eat\" to \"ea\".\n",
    "\n",
    "</aside>"
   ]
  },
  {
   "cell_type": "markdown",
   "id": "ebcc49ee",
   "metadata": {},
   "source": [
    "# Solution"
   ]
  },
  {
   "cell_type": "markdown",
   "id": "334c7c4b",
   "metadata": {},
   "source": [
    "To find the minimum number of steps required to make two strings word1 and word2 the same, we can use dynamic programming to solve this problem. We'll create a 2D table to store the minimum number of steps for each prefix of the two strings.\n",
    "\n",
    "Here's a Python implementation of the solution:"
   ]
  },
  {
   "cell_type": "markdown",
   "id": "f8656712",
   "metadata": {},
   "source": [
    "def minDistance(word1, word2):\n",
    "    m, n = len(word1), len(word2)\n",
    "    \n",
    "    # Create a 2D table to store the minimum number of steps\n",
    "    dp = [[0] * (n + 1) for _ in range(m + 1)]\n",
    "    \n",
    "    # Fill the first row and column\n",
    "    for i in range(1, m + 1):\n",
    "        dp[i][0] = dp[i-1][0] + 1\n",
    "    for j in range(1, n + 1):\n",
    "        dp[0][j] = dp[0][j-1] + 1\n",
    "    \n",
    "    # Fill the remaining cells\n",
    "    for i in range(1, m + 1):\n",
    "        for j in range(1, n + 1):\n",
    "            if word1[i-1] == word2[j-1]:\n",
    "                dp[i][j] = dp[i-1][j-1]  # Characters are equal, no deletion needed\n",
    "            else:\n",
    "                dp[i][j] = min(dp[i-1][j] + 1,  # Delete character from word1\n",
    "                               dp[i][j-1] + 1)  # Delete character from word2\n",
    "    \n",
    "    return dp[m][n]  # Minimum number of steps for the whole strings\n",
    "\n",
    "\n",
    "# Example usage\n",
    "word1 = \"sea\"\n",
    "word2 = \"eat\"\n",
    "result = minDistance(word1, word2)\n",
    "print(result)  # Output: 2\n"
   ]
  },
  {
   "cell_type": "markdown",
   "id": "ad93c9f5",
   "metadata": {},
   "source": [
    "In this implementation, we use a 2D table dp where dp[i][j] represents the minimum number of steps to make the prefixes word1[:i] and word2[:j] the same. We fill the table by considering two cases:\n",
    "\n",
    "If the characters at indices i-1 and j-1 are equal, then no deletion is needed. The minimum number of steps for this case is the same as the previous prefix, so dp[i][j] = dp[i-1][j-1].\n",
    "If the characters are not equal, we have two choices: delete the character from word1 or delete the character from word2. We choose the minimum number of steps among these two options: dp[i][j] = min(dp[i-1][j] + 1, dp[i][j-1] + 1).\n",
    "The initial values of the first row and column are computed by adding 1 to the previous prefix's number of steps because deleting a character corresponds to one step.\n",
    "\n",
    "Finally, we return dp[m][n], where m and n are the lengths of word1 and word2 respectively. This represents the minimum number of steps to make the entire strings word1 and word2 the same."
   ]
  },
  {
   "cell_type": "markdown",
   "id": "a837825b",
   "metadata": {},
   "source": [
    "# Solution"
   ]
  },
  {
   "cell_type": "markdown",
   "id": "4da8ed00",
   "metadata": {},
   "source": [
    "To construct a binary tree from a string consisting of parentheses and integers, we can use recursion. We'll define a recursive function that constructs the binary tree based on the provided string.\n",
    "\n",
    "Here's a Python implementation of the solution:"
   ]
  },
  {
   "cell_type": "code",
   "execution_count": 3,
   "id": "c0702d74",
   "metadata": {},
   "outputs": [],
   "source": [
    "class TreeNode:\n",
    "    def __init__(self, val=0, left=None, right=None):\n",
    "        self.val = val\n",
    "        self.left = left\n",
    "        self.right = right\n",
    "\n",
    "\n",
    "def str2tree(s):\n",
    "    if not s:\n",
    "        return None\n",
    "\n",
    "    # Find the value of the root node\n",
    "    i = 0\n",
    "    while i < len(s) and (s[i].isdigit() or s[i] == '-'):\n",
    "        i += 1\n",
    "    val = int(s[:i])\n",
    "\n",
    "    # Create the root node\n",
    "    root = TreeNode(val)\n",
    "\n",
    "    # Base case: if the entire string is just the value of the root node\n",
    "    if i == len(s):\n",
    "        return root\n",
    "\n",
    "    # Find the substring representing the left child's subtree\n",
    "    j = i\n",
    "    count = 0  # parentheses counter\n",
    "    while j < len(s):\n",
    "        if s[j] == '(':\n",
    "            count += 1\n",
    "        elif s[j] == ')':\n",
    "            count -= 1\n",
    "\n",
    "        if count == 0:\n",
    "            break\n",
    "        j += 1\n",
    "\n",
    "    # Recursive call to construct the left child's subtree\n",
    "    root.left = str2tree(s[i+1:j])\n",
    "\n",
    "    # Base case: if there is no right child's subtree\n",
    "    if j == len(s) - 1:\n",
    "        return root\n",
    "\n",
    "    # Recursive call to construct the right child's subtree\n",
    "    root.right = str2tree(s[j+2:-1])\n",
    "\n",
    "    return root\n",
    "\n",
    "\n",
    "# Example usage\n",
    "s = \"4(2(3)(1))(6(5))\"\n",
    "root = str2tree(s)\n"
   ]
  },
  {
   "cell_type": "markdown",
   "id": "b1ded69b",
   "metadata": {},
   "source": [
    "In this implementation, we define a TreeNode class to represent each node of the binary tree. The str2tree function takes a string s as input and returns the root node of the constructed binary tree.\n",
    "\n",
    "To construct the binary tree, we follow these steps:\n",
    "\n",
    "If the input string s is empty, we return None to indicate an empty tree.\n",
    "We find the value of the root node by scanning the string until we reach a non-digit character (excluding the '-' sign if present). We convert the substring representing the value to an integer and create the root node with that value.\n",
    "If the entire string is just the value of the root node, we return the root node as the base case.\n",
    "We find the substring representing the left child's subtree by finding the matching closing parenthesis for the opening parenthesis after the root node's value. We use a parentheses counter to keep track of the opening and closing parentheses.\n",
    "We make a recursive call to the str2tree function to construct the left child's subtree using the substring found in the previous step.\n",
    "If there is no substring remaining after the left child's subtree, we return the root node as the base case.\n",
    "We find the substring representing the right child's subtree by removing the left child's subtree and the enclosing parentheses from the original string.\n",
    "We make a recursive call to the str2tree function to construct the right child's subtree using the remaining substring.\n",
    "Finally, we assign the left and right child's subtrees to the root node and return the root node of the constructed binary tree.\n",
    "Note that this implementation assumes that the input string is a valid representation of a binary tree following the specified format"
   ]
  },
  {
   "cell_type": "markdown",
   "id": "e44567ad",
   "metadata": {},
   "source": [
    "# <aside>\n",
    "💡 **Question 5**\n",
    "\n",
    "Given an array of characters chars, compress it using the following algorithm:\n",
    "\n",
    "Begin with an empty string s. For each group of **consecutive repeating characters** in chars:\n",
    "\n",
    "- If the group's length is 1, append the character to s.\n",
    "- Otherwise, append the character followed by the group's length.\n",
    "\n",
    "The compressed string s **should not be returned separately**, but instead, be stored **in the input character array chars**. Note that group lengths that are 10 or longer will be split into multiple characters in chars.\n",
    "\n",
    "After you are done **modifying the input array,** return *the new length of the array*.\n",
    "\n",
    "You must write an algorithm that uses only constant extra space.\n",
    "\n",
    "**Example 1:**\n",
    "\n",
    "**Input:** chars = [\"a\",\"a\",\"b\",\"b\",\"c\",\"c\",\"c\"]\n",
    "\n",
    "**Output:** Return 6, and the first 6 characters of the input array should be: [\"a\",\"2\",\"b\",\"2\",\"c\",\"3\"]\n",
    "\n",
    "**Explanation:**\n",
    "\n",
    "The groups are \"aa\", \"bb\", and \"ccc\". This compresses to \"a2b2c3\".\n",
    "\n",
    "</aside>"
   ]
  },
  {
   "cell_type": "markdown",
   "id": "0a7a4c09",
   "metadata": {},
   "source": [
    "# Solution"
   ]
  },
  {
   "cell_type": "markdown",
   "id": "3d9bea3e",
   "metadata": {},
   "source": [
    "To compress an array of characters chars according to the specified algorithm, we can use two pointers: read and write. The read pointer scans the array to find consecutive repeating characters, while the write pointer updates the array in-place with the compressed characters.\n",
    "\n",
    "Here's a Python implementation of the solution:"
   ]
  },
  {
   "cell_type": "code",
   "execution_count": 4,
   "id": "93fc0e08",
   "metadata": {},
   "outputs": [
    {
     "name": "stdout",
     "output_type": "stream",
     "text": [
      "6\n",
      "['a', '2', 'b', '2', 'c', '3']\n"
     ]
    }
   ],
   "source": [
    "def compress(chars):\n",
    "    write = 0  # Write pointer\n",
    "    count = 1  # Count of consecutive repeating characters\n",
    "\n",
    "    for read in range(1, len(chars)):\n",
    "        if chars[read] == chars[read - 1]:\n",
    "            count += 1\n",
    "        else:\n",
    "            chars[write] = chars[read - 1]  # Write the current character\n",
    "\n",
    "            if count > 1:\n",
    "                count_str = str(count)\n",
    "\n",
    "                for i in range(len(count_str)):\n",
    "                    write += 1\n",
    "                    chars[write] = count_str[i]  # Write the count as separate characters\n",
    "\n",
    "            write += 1  # Move the write pointer to the next position\n",
    "            count = 1  # Reset the count for the next group\n",
    "\n",
    "    chars[write] = chars[-1]  # Write the last character\n",
    "\n",
    "    if count > 1:\n",
    "        count_str = str(count)\n",
    "\n",
    "        for i in range(len(count_str)):\n",
    "            write += 1\n",
    "            chars[write] = count_str[i]  # Write the count as separate characters\n",
    "\n",
    "    return write + 1  # Return the new length of the array\n",
    "\n",
    "\n",
    "# Example usage\n",
    "chars = [\"a\", \"a\", \"b\", \"b\", \"c\", \"c\", \"c\"]\n",
    "new_length = compress(chars)\n",
    "print(new_length)  # Output: 6\n",
    "print(chars[:new_length])  # Output: [\"a\", \"2\", \"b\", \"2\", \"c\", \"3\"]\n"
   ]
  },
  {
   "cell_type": "markdown",
   "id": "2f46ee90",
   "metadata": {},
   "source": [
    "In this implementation, we start with two pointers: read and write. The read pointer scans the array from the second character to the end. The write pointer updates the array in-place with the compressed characters.\n",
    "\n",
    "We initialize a variable count to 1, representing the count of consecutive repeating characters. We iterate over the array with the read pointer and perform the following actions:\n",
    "\n",
    "If the current character is the same as the previous character, we increment the count variable.\n",
    "If the current character is different from the previous character, we:\n",
    "Write the previous character at the position pointed by the write pointer.\n",
    "If the count is greater than 1, we convert the count to a string and write each digit as separate characters at subsequent positions.\n",
    "Move the write pointer to the next position.\n",
    "Reset the count to 1 for the next group of consecutive repeating characters.\n",
    "After the loop, we need to write the last character and its count if it is greater than 1. Finally, we return write + 1, which represents the new length of the array after compression.\n",
    "\n",
    "Note that the input array chars is modified in-place to store the compressed characters. The compressed string is not returned separately, as per the requirements of the problem statement."
   ]
  },
  {
   "cell_type": "markdown",
   "id": "7bc968af",
   "metadata": {},
   "source": [
    "# <aside>\n",
    "💡 **Question 6**\n",
    "\n",
    "Given two strings s and p, return *an array of all the start indices of* p*'s anagrams in* s. You may return the answer in **any order**.\n",
    "\n",
    "An **Anagram** is a word or phrase formed by rearranging the letters of a different word or phrase, typically using all the original letters exactly once.\n",
    "\n",
    "**Example 1:**\n",
    "\n",
    "**Input:** s = \"cbaebabacd\", p = \"abc\"\n",
    "\n",
    "**Output:** [0,6]\n",
    "\n",
    "**Explanation:**\n",
    "\n",
    "The substring with start index = 0 is \"cba\", which is an anagram of \"abc\".\n",
    "\n",
    "The substring with start index = 6 is \"bac\", which is an anagram of \"abc\".\n",
    "\n",
    "</aside>"
   ]
  },
  {
   "cell_type": "markdown",
   "id": "18dde3d5",
   "metadata": {},
   "source": [
    "To find the start indices of p's anagrams in s, we can use a sliding window approach along with a frequency map to keep track of the characters in p. We'll iterate over s and maintain a window of length p. At each step, we'll check if the window's character frequencies match those of p. If they match, we'll add the start index of the window to the result.\n",
    "\n",
    "Here's a Python implementation of the solution:"
   ]
  },
  {
   "cell_type": "markdown",
   "id": "dbeddc1f",
   "metadata": {},
   "source": [
    "# "
   ]
  },
  {
   "cell_type": "code",
   "execution_count": 6,
   "id": "bf453b08",
   "metadata": {},
   "outputs": [
    {
     "name": "stdout",
     "output_type": "stream",
     "text": [
      "[0, 6]\n"
     ]
    }
   ],
   "source": [
    "from collections import Counter\n",
    "\n",
    "def findAnagrams(s, p):\n",
    "    result = []\n",
    "    window_size = len(p)\n",
    "    target_count = Counter(p)  # Frequency map of characters in p\n",
    "    window_count = Counter(s[:window_size])  # Frequency map of characters in the initial window\n",
    "\n",
    "    if window_count == target_count:\n",
    "        result.append(0)\n",
    "\n",
    "    # Slide the window over s\n",
    "    for i in range(1, len(s) - window_size + 1):\n",
    "        left_char, right_char = s[i - 1], s[i + window_size - 1]\n",
    "\n",
    "        # Update the window's character frequencies\n",
    "        window_count[left_char] -= 1\n",
    "        if window_count[left_char] == 0:\n",
    "            del window_count[left_char]\n",
    "        window_count[right_char] += 1\n",
    "\n",
    "        # Check if the window's character frequencies match those of p\n",
    "        if window_count == target_count:\n",
    "            result.append(i)\n",
    "\n",
    "    return result\n",
    "\n",
    "\n",
    "# Example usage\n",
    "s = \"cbaebabacd\"\n",
    "p = \"abc\"\n",
    "indices = findAnagrams(s, p)\n",
    "print(indices)  # Output: [0, 6]\n"
   ]
  },
  {
   "cell_type": "markdown",
   "id": "749befd6",
   "metadata": {},
   "source": [
    "In this implementation, we use the Counter class from the collections module to create frequency maps of characters in p and the window. The frequency maps are represented as dictionaries.\n",
    "\n",
    "We start by initializing an empty result list to store the start indices of the anagrams. We also set the window_size variable to the length of p.\n",
    "\n",
    "We create two frequency maps: target_count for p and window_count for the initial window of s. If the window_count matches the target_count, we add the start index 0 to the result.\n",
    "\n",
    "Next, we slide the window over s using a loop. At each step, we update the window_count by subtracting the count of the leftmost character that is no longer part of the window and adding the count of the rightmost character that just entered the window.\n",
    "\n",
    "After updating the window_count, we check if it matches the target_count. If they match, we add the current start index i to the result.\n",
    "\n",
    "Finally, we return the result list, which contains the start indices of p's anagrams in s.\n",
    "\n",
    "The time complexity of this solution is O(n), where n is the length of s."
   ]
  },
  {
   "cell_type": "markdown",
   "id": "72b29614",
   "metadata": {},
   "source": [
    "# <aside>\n",
    "💡 **Question 7**\n",
    "\n",
    "Given an encoded string, return its decoded string.\n",
    "\n",
    "The encoding rule is: k[encoded_string], where the encoded_string inside the square brackets is being repeated exactly k times. Note that k is guaranteed to be a positive integer.\n",
    "\n",
    "You may assume that the input string is always valid; there are no extra white spaces, square brackets are well-formed, etc. Furthermore, you may assume that the original data does not contain any digits and that digits are only for those repeat numbers, k. For example, there will not be input like 3a or 2[4].\n",
    "\n",
    "The test cases are generated so that the length of the output will never exceed 105.\n",
    "\n",
    "**Example 1:**\n",
    "\n",
    "**Input:** s = \"3[a]2[bc]\"\n",
    "\n",
    "**Output:** \"aaabcbc\"\n",
    "\n",
    "</aside>"
   ]
  },
  {
   "cell_type": "code",
   "execution_count": 7,
   "id": "4110c9e5",
   "metadata": {},
   "outputs": [
    {
     "name": "stdout",
     "output_type": "stream",
     "text": [
      "aaabcbc\n"
     ]
    }
   ],
   "source": [
    "def decodeString(s):\n",
    "    stack = []\n",
    "    current_string = \"\"\n",
    "    current_count = 0\n",
    "\n",
    "    for char in s:\n",
    "        if char.isdigit():\n",
    "            # Accumulate the digit to form the count\n",
    "            current_count = current_count * 10 + int(char)\n",
    "        elif char == '[':\n",
    "            # Push the current count and current string to the stack\n",
    "            stack.append((current_count, current_string))\n",
    "            current_count = 0\n",
    "            current_string = \"\"\n",
    "        elif char == ']':\n",
    "            # Retrieve the count and string from the top of the stack\n",
    "            count, prev_string = stack.pop()\n",
    "            current_string = prev_string + current_string * count\n",
    "        else:\n",
    "            # Append the character to the current string\n",
    "            current_string += char\n",
    "\n",
    "    return current_string\n",
    "\n",
    "\n",
    "# Example usage\n",
    "s = \"3[a]2[bc]\"\n",
    "decoded_string = decodeString(s)\n",
    "print(decoded_string)  # Output: \"aaabcbc\"\n"
   ]
  },
  {
   "cell_type": "markdown",
   "id": "a60a0c6d",
   "metadata": {},
   "source": [
    "In this implementation, we iterate over each character in the input string s. We maintain a stack to store the counts and strings that we encounter.\n",
    "\n",
    "We also keep track of the current_string that we are building and the current_count that we are accumulating. Whenever we encounter a digit, we update the current_count by multiplying it by 10 and adding the integer value of the digit.\n",
    "\n",
    "If we encounter an opening bracket [, we push the current_count and current_string to the stack and reset them to start building a new substring.\n",
    "\n",
    "If we encounter a closing bracket ], we retrieve the count and previous string from the top of the stack. We then update the current_string by appending prev_string repeated count times.\n",
    "\n",
    "For any other character that is not a digit or a bracket, we simply append it to the current_string.\n",
    "\n",
    "After iterating over all the characters, the current_string will contain the decoded string, which we return as the result.\n",
    "\n",
    "The time complexity of this solution is O(n), where n is the length of the input string s.\n",
    "\n",
    "\n",
    "\n",
    "\n",
    "\n",
    "\n"
   ]
  },
  {
   "cell_type": "markdown",
   "id": "bed2dae5",
   "metadata": {},
   "source": [
    "# <aside>\n",
    "💡 **Question 8**\n",
    "\n",
    "Given two strings s and goal, return true *if you can swap two letters in* s *so the result is equal to* goal*, otherwise, return* false*.*\n",
    "\n",
    "Swapping letters is defined as taking two indices i and j (0-indexed) such that i != j and swapping the characters at s[i] and s[j].\n",
    "\n",
    "- For example, swapping at indices 0 and 2 in \"abcd\" results in \"cbad\".\n",
    "\n",
    "**Example 1:**\n",
    "\n",
    "**Input:** s = \"ab\", goal = \"ba\"\n",
    "\n",
    "**Output:** true\n",
    "\n",
    "**Explanation:** You can swap s[0] = 'a' and s[1] = 'b' to get \"ba\", which is equal to goal.\n",
    "\n",
    "</aside>"
   ]
  },
  {
   "cell_type": "markdown",
   "id": "fed58981",
   "metadata": {},
   "source": [
    "# Solution"
   ]
  },
  {
   "cell_type": "code",
   "execution_count": 9,
   "id": "38dc33df",
   "metadata": {},
   "outputs": [
    {
     "name": "stdout",
     "output_type": "stream",
     "text": [
      "True\n"
     ]
    }
   ],
   "source": [
    "def buddyStrings(s, goal):\n",
    "    if len(s) != len(goal):\n",
    "        return False\n",
    "\n",
    "    if s == goal:\n",
    "        # Check if there are at least two identical characters in s\n",
    "        seen = set()\n",
    "        for char in s:\n",
    "            if char in seen:\n",
    "                return True\n",
    "            seen.add(char)\n",
    "        return False\n",
    "\n",
    "    differences = []\n",
    "    for i in range(len(s)):\n",
    "        if s[i] != goal[i]:\n",
    "            differences.append(i)\n",
    "\n",
    "    return len(differences) == 2 and s[differences[0]] == goal[differences[1]] and s[differences[1]] == goal[differences[0]]\n",
    "\n",
    "\n",
    "# Example usage\n",
    "s = \"ab\"\n",
    "goal = \"ba\"\n",
    "can_swap = buddyStrings(s, goal)\n",
    "print(can_swap)  # Output: True\n"
   ]
  },
  {
   "cell_type": "markdown",
   "id": "0ce4fdfa",
   "metadata": {},
   "source": [
    "In this implementation, we first check if the lengths of s and goal are equal. If they are not, we immediately return False since we cannot swap characters if the strings have different lengths.\n",
    "\n",
    "Next, we handle the case where s is equal to goal. In this case, we need to check if there are at least two identical characters in s. We use a seen set to keep track of the characters we have seen so far. If we encounter a character that is already in the set, we return True. If we reach the end of the loop without finding two identical characters, we return False.\n",
    "\n",
    "If s is not equal to goal, we iterate over the characters of s and goal simultaneously. We keep track of the indices where the characters are different and store them in the differences list.\n",
    "\n",
    "Finally, we check if there are exactly two differences and if swapping the characters at the corresponding indices in s would transform it into goal.\n",
    "\n",
    "The time complexity of this solution is O(n), where n is the length of the input strings s and goal."
   ]
  },
  {
   "cell_type": "code",
   "execution_count": null,
   "id": "f1e85d1a",
   "metadata": {},
   "outputs": [],
   "source": []
  }
 ],
 "metadata": {
  "kernelspec": {
   "display_name": "Python 3 (ipykernel)",
   "language": "python",
   "name": "python3"
  },
  "language_info": {
   "codemirror_mode": {
    "name": "ipython",
    "version": 3
   },
   "file_extension": ".py",
   "mimetype": "text/x-python",
   "name": "python",
   "nbconvert_exporter": "python",
   "pygments_lexer": "ipython3",
   "version": "3.9.7"
  }
 },
 "nbformat": 4,
 "nbformat_minor": 5
}
