{
 "cells": [
  {
   "cell_type": "markdown",
   "id": "b20e1b1a",
   "metadata": {},
   "source": [
    "# Solution -1"
   ]
  },
  {
   "cell_type": "markdown",
   "id": "4151adf6",
   "metadata": {},
   "source": [
    "Check if the total number of elements in the original array (original.length) is equal to m * n. If it's not, return an empty 2D array.\n",
    "\n",
    "Create an empty 2D array with m rows and n columns.\n",
    "\n",
    "Initialize two variables, rowIndex and colIndex, to keep track of the current row and column indices in the 2D array. Set both of them to 0 initially.\n",
    "\n",
    "Iterate through the elements of the original array using a loop.\n",
    "\n",
    "Inside the loop, assign the current element to the corresponding position in the 2D array using rowIndex and colIndex. Then increment colIndex by 1.\n",
    "\n",
    "Check if colIndex is equal to n. If it is, reset colIndex to 0 and increment rowIndex by 1.\n",
    "\n",
    "Finally, return the constructed 2D array.\n",
    "\n",
    "Here's the implementation in Python:"
   ]
  },
  {
   "cell_type": "code",
   "execution_count": 1,
   "id": "c4778f66",
   "metadata": {},
   "outputs": [],
   "source": [
    "def convert_to_2d_array(original, m, n):\n",
    "    if len(original) != m * n:\n",
    "        return []\n",
    "\n",
    "    result = [[0] * n for _ in range(m)]\n",
    "    rowIndex = 0\n",
    "    colIndex = 0\n",
    "\n",
    "    for num in original:\n",
    "        result[rowIndex][colIndex] = num\n",
    "        colIndex += 1\n",
    "\n",
    "        if colIndex == n:\n",
    "            colIndex = 0\n",
    "            rowIndex += 1\n",
    "\n",
    "    return result\n"
   ]
  },
  {
   "cell_type": "code",
   "execution_count": 2,
   "id": "b19dbcd9",
   "metadata": {},
   "outputs": [
    {
     "name": "stdout",
     "output_type": "stream",
     "text": [
      "[[1, 2], [3, 4]]\n"
     ]
    }
   ],
   "source": [
    "original = [1, 2, 3, 4]\n",
    "m = 2\n",
    "n = 2\n",
    "print(convert_to_2d_array(original, m, n))\n"
   ]
  },
  {
   "cell_type": "markdown",
   "id": "244ca84b",
   "metadata": {},
   "source": [
    "# Solution- 2"
   ]
  },
  {
   "cell_type": "markdown",
   "id": "0f789f36",
   "metadata": {},
   "source": [
    "To solve this problem, we need to find the number of complete rows we can form using the given number of coins. We can approach this problem using a simple iterative process.\n",
    "\n",
    "Initialize a variable row to 0, which represents the current row number.\n",
    "\n",
    "Initialize a variable coins to the given value n, which represents the remaining number of coins.\n",
    "\n",
    "Iterate while coins is greater than or equal to row + 1:\n",
    "    \n",
    "Decrement coins by row + 1 to represent using the coins for the current row.\n",
    "\n",
    "Increment row by 1 to move to the next row.\n",
    "\n",
    "Return the value of row, which represents the number of complete rows.\n",
    "\n",
    "Here's the implementation in Python:"
   ]
  },
  {
   "cell_type": "code",
   "execution_count": 3,
   "id": "3b64b070",
   "metadata": {},
   "outputs": [],
   "source": [
    "def arrangeCoins(n):\n",
    "    row = 0\n",
    "    coins = n\n",
    "\n",
    "    while coins >= row + 1:\n",
    "        coins -= row + 1\n",
    "        row += 1\n",
    "\n",
    "    return row\n"
   ]
  },
  {
   "cell_type": "code",
   "execution_count": 4,
   "id": "7d67ae7d",
   "metadata": {},
   "outputs": [
    {
     "name": "stdout",
     "output_type": "stream",
     "text": [
      "2\n"
     ]
    }
   ],
   "source": [
    "n = 5\n",
    "print(arrangeCoins(n))\n"
   ]
  },
  {
   "cell_type": "markdown",
   "id": "4690d90b",
   "metadata": {},
   "source": [
    "# Solution -3"
   ]
  },
  {
   "cell_type": "markdown",
   "id": "d8bd37b8",
   "metadata": {},
   "source": [
    "Here's the step-by-step approach:\n",
    "\n",
    "Initialize two pointers, left and right, to point to the start and end of the input array nums.\n",
    "\n",
    "Create an empty result array to store the squared numbers.\n",
    "\n",
    "Iterate from the end of the array to the beginning while left is less than or equal to right:\n",
    "    \n",
    "Calculate the squares of the numbers at indices left and right.\n",
    "\n",
    "Compare the squared values. If the squared value at left is greater than or equal to the squared value at right, append the squared value at left to the result array and increment left by 1.\n",
    "\n",
    "Otherwise, append the squared value at right to the result array and decrement right by 1.\n",
    "\n",
    "After the loop, there might be remaining elements on either the left or right side. Append the squared values of the remaining elements to the result array.\n",
    "\n",
    "Reverse the result array to obtain the squared numbers in non-decreasing order.\n",
    "\n",
    "Return the result array.\n",
    "\n",
    "Here's the implementation in Python:"
   ]
  },
  {
   "cell_type": "code",
   "execution_count": 6,
   "id": "07a8bcef",
   "metadata": {},
   "outputs": [],
   "source": [
    "def sortedSquares(nums):\n",
    "    left = 0\n",
    "    right = len(nums) - 1\n",
    "    result = []\n",
    "\n",
    "    while left <= right:\n",
    "        square_left = nums[left] ** 2\n",
    "        square_right = nums[right] ** 2\n",
    "\n",
    "        if square_left >= square_right:\n",
    "            result.append(square_left)\n",
    "            left += 1\n",
    "        else:\n",
    "            result.append(square_right)\n",
    "            right -= 1\n",
    "\n",
    "    # Append remaining elements\n",
    "    while left < len(nums):\n",
    "        result.append(nums[left] ** 2)\n",
    "        left += 1\n",
    "\n",
    "    while right >= 0:\n",
    "        result.append(nums[right] ** 2)\n",
    "        right -= 1\n",
    "\n",
    "    # Reverse the result array\n",
    "    result.reverse()\n",
    "\n",
    "    return result\n"
   ]
  },
  {
   "cell_type": "code",
   "execution_count": 7,
   "id": "f039585b",
   "metadata": {},
   "outputs": [
    {
     "name": "stdout",
     "output_type": "stream",
     "text": [
      "[16, 1, 0, 100, 9, 0, 1, 9, 16, 100]\n"
     ]
    }
   ],
   "source": [
    "nums = [-4, -1, 0, 3, 10]\n",
    "print(sortedSquares(nums))\n"
   ]
  },
  {
   "cell_type": "markdown",
   "id": "ebedb2bb",
   "metadata": {},
   "source": [
    "# Solution- 4"
   ]
  },
  {
   "cell_type": "markdown",
   "id": "e4cf6f59",
   "metadata": {},
   "source": [
    "To solve this problem, we can use sets to find the distinct integers that are present in one array but not in the other.\n",
    "\n",
    "Here's the step-by-step approach:\n",
    "\n",
    "Create two sets, set1 and set2, from the input arrays nums1 and nums2, respectively, to store the distinct integers.\n",
    "\n",
    "Find the distinct integers in nums1 that are not present in nums2 by subtracting set2 from set1. Store the result in result1.\n",
    "\n",
    "Find the distinct integers in nums2 that are not present in nums1 by subtracting set1 from set2. Store the result in result2.\n",
    "\n",
    "Return a list [result1, result2].\n",
    "\n",
    "Here's the implementation in Python:"
   ]
  },
  {
   "cell_type": "code",
   "execution_count": 8,
   "id": "0738f1ca",
   "metadata": {},
   "outputs": [],
   "source": [
    "def findDisappearedNumbers(nums1, nums2):\n",
    "    set1 = set(nums1)\n",
    "    set2 = set(nums2)\n",
    "\n",
    "    result1 = list(set1 - set2)\n",
    "    result2 = list(set2 - set1)\n",
    "\n",
    "    return [result1, result2]\n"
   ]
  },
  {
   "cell_type": "code",
   "execution_count": 9,
   "id": "f1088f5d",
   "metadata": {},
   "outputs": [
    {
     "name": "stdout",
     "output_type": "stream",
     "text": [
      "[[1, 3], [4, 6]]\n"
     ]
    }
   ],
   "source": [
    "nums1 = [1, 2, 3]\n",
    "nums2 = [2, 4, 6]\n",
    "print(findDisappearedNumbers(nums1, nums2))\n"
   ]
  },
  {
   "cell_type": "markdown",
   "id": "c2e3b67f",
   "metadata": {},
   "source": [
    "# Solution  -5"
   ]
  },
  {
   "cell_type": "markdown",
   "id": "befa4823",
   "metadata": {},
   "source": [
    "To solve this problem, we can iterate through each element in arr1 and check if there exists any element in arr2 that satisfies the given condition: |arr1[i] - arr2[j]| > d. If such an element is found, we increment a counter. Finally, we return the value of the counter.\n",
    "\n",
    "Here's the step-by-step approach:\n",
    "\n",
    "Initialize a counter variable distance to 0.\n",
    "\n",
    "Iterate through each element num1 in arr1.\n",
    "\n",
    "For each num1, iterate through each element num2 in arr2.\n",
    "\n",
    "Check if the absolute difference between num1 and num2 is greater than d.\n",
    "\n",
    "If the condition is satisfied for any num2, increment distance by 1 and break out of the inner loop.\n",
    "\n",
    "Return the value of distance."
   ]
  },
  {
   "cell_type": "code",
   "execution_count": 11,
   "id": "e4dda9e9",
   "metadata": {},
   "outputs": [],
   "source": [
    "def findTheDistanceValue(arr1, arr2, d):\n",
    "    distance = 0\n",
    "\n",
    "    for num1 in arr1:\n",
    "        for num2 in arr2:\n",
    "            if abs(num1 - num2) <= d:\n",
    "                break\n",
    "        else:\n",
    "            distance += 1\n",
    "\n",
    "    return distance\n"
   ]
  },
  {
   "cell_type": "code",
   "execution_count": 12,
   "id": "5347bdf2",
   "metadata": {},
   "outputs": [
    {
     "name": "stdout",
     "output_type": "stream",
     "text": [
      "2\n"
     ]
    }
   ],
   "source": [
    "arr1 = [4, 5, 8]\n",
    "arr2 = [10, 9, 1, 8]\n",
    "d = 2\n",
    "print(findTheDistanceValue(arr1, arr2, d))\n"
   ]
  },
  {
   "cell_type": "markdown",
   "id": "ab29db5d",
   "metadata": {},
   "source": [
    "# Solution- 6"
   ]
  },
  {
   "cell_type": "markdown",
   "id": "dda23a2c",
   "metadata": {},
   "source": [
    "To solve this problem, we can utilize the fact that all the integers in nums are in the range [1, n], where n is the length of the array. Since each integer appears either once or twice, we can use the array itself to mark the presence of a number.\n",
    "\n",
    "Here's the step-by-step approach:\n",
    "\n",
    "Initialize an empty result array to store the integers that appear twice.\n",
    "\n",
    "Iterate through each element num in nums.\n",
    "\n",
    "Calculate the absolute value of num and decrement it by 1 to convert it into a valid index in the array.\n",
    "\n",
    "Check if the value at the calculated index is positive.\n",
    "\n",
    "If it's positive, multiply it by -1 to mark its presence (negative value indicates the presence).\n",
    "\n",
    "If it's negative, it means we have encountered the number before, so append the absolute value of num to the result array.\n",
    "\n",
    "Return the result array.\n",
    "\n",
    "Since we are only using the array nums to mark the presence of numbers and the size of the result array is limited to the number of elements that appear twice, both the space complexity and time complexity of this solution are O(n).\n",
    "\n",
    "Here's the implementation in Python:"
   ]
  },
  {
   "cell_type": "code",
   "execution_count": 13,
   "id": "04282fed",
   "metadata": {},
   "outputs": [],
   "source": [
    "def findDuplicates(nums):\n",
    "    result = []\n",
    "\n",
    "    for num in nums:\n",
    "        index = abs(num) - 1\n",
    "\n",
    "        if nums[index] > 0:\n",
    "            nums[index] *= -1\n",
    "        else:\n",
    "            result.append(abs(num))\n",
    "\n",
    "    return result\n"
   ]
  },
  {
   "cell_type": "code",
   "execution_count": 14,
   "id": "eaa511fe",
   "metadata": {},
   "outputs": [
    {
     "name": "stdout",
     "output_type": "stream",
     "text": [
      "[2, 3]\n"
     ]
    }
   ],
   "source": [
    "nums = [4, 3, 2, 7, 8, 2, 3, 1]\n",
    "print(findDuplicates(nums))\n"
   ]
  },
  {
   "cell_type": "markdown",
   "id": "d693e6f3",
   "metadata": {},
   "source": [
    "# Solution -7"
   ]
  },
  {
   "cell_type": "markdown",
   "id": "46c83cbe",
   "metadata": {},
   "source": [
    "To find the minimum element in a sorted rotated array of unique elements, we can use a modified binary search algorithm. Since the array is sorted and rotated, the minimum element will always be the smallest element present in the array.\n",
    "\n",
    "Here's the step-by-step approach:\n",
    "\n",
    "Initialize two pointers, left and right, to point to the start and end of the array, respectively.\n",
    "\n",
    "Perform binary search until left is less than right.\n",
    "\n",
    "Calculate the middle index as mid = left + (right - left) // 2.\n",
    "\n",
    "Check if the element at the middle index is greater than the element at the right index.\n",
    "\n",
    "If it is, the minimum element must be present in the right half of the array. Update left = mid + 1.\n",
    "\n",
    "If it is not, the minimum element must be present in the left half of the array or could be the element at the middle index itself. Update right = mid.\n",
    "\n",
    "At the end of the binary search, the value at left will be the minimum element in the array.\n",
    "\n",
    "Return the value at left.\n",
    "\n",
    "The time complexity of this algorithm is O(log n) as we are performing binary search on the array."
   ]
  },
  {
   "cell_type": "code",
   "execution_count": 15,
   "id": "3eafe4ce",
   "metadata": {},
   "outputs": [],
   "source": [
    "def findMin(nums):\n",
    "    left = 0\n",
    "    right = len(nums) - 1\n",
    "\n",
    "    while left < right:\n",
    "        mid = left + (right - left) // 2\n",
    "\n",
    "        if nums[mid] > nums[right]:\n",
    "            left = mid + 1\n",
    "        else:\n",
    "            right = mid\n",
    "\n",
    "    return nums[left]\n"
   ]
  },
  {
   "cell_type": "code",
   "execution_count": 16,
   "id": "fddeed49",
   "metadata": {},
   "outputs": [
    {
     "name": "stdout",
     "output_type": "stream",
     "text": [
      "1\n"
     ]
    }
   ],
   "source": [
    "nums = [3, 4, 5, 1, 2]\n",
    "print(findMin(nums))\n"
   ]
  },
  {
   "cell_type": "markdown",
   "id": "28043851",
   "metadata": {},
   "source": [
    "# Solution -8"
   ]
  },
  {
   "cell_type": "markdown",
   "id": "7d0463a4",
   "metadata": {},
   "source": [
    "To solve this problem, we can follow these steps:\n",
    "\n",
    "Sort the changed array in ascending order.\n",
    "\n",
    "Initialize an empty list called original.\n",
    "\n",
    "Iterate through each element num in the sorted changed array.\n",
    "\n",
    "Check if num is divisible by 2.\n",
    "\n",
    "If it is, divide num by 2 and append it to the original list.\n",
    "\n",
    "If it is not, return an empty list since changed is not a doubled array.\n",
    "\n",
    "Return the original list."
   ]
  },
  {
   "cell_type": "code",
   "execution_count": 17,
   "id": "7244c164",
   "metadata": {},
   "outputs": [],
   "source": [
    "def findOriginalArray(changed):\n",
    "    sorted_changed = sorted(changed)\n",
    "    original = []\n",
    "\n",
    "    for num in sorted_changed:\n",
    "        if num % 2 == 0:\n",
    "            original.append(num // 2)\n",
    "        else:\n",
    "            return []\n",
    "\n",
    "    return original\n"
   ]
  },
  {
   "cell_type": "code",
   "execution_count": 18,
   "id": "d0b04f70",
   "metadata": {},
   "outputs": [
    {
     "name": "stdout",
     "output_type": "stream",
     "text": [
      "[]\n"
     ]
    }
   ],
   "source": [
    "changed = [1, 3, 4, 2, 6, 8]\n",
    "print(findOriginalArray(changed))\n"
   ]
  },
  {
   "cell_type": "code",
   "execution_count": null,
   "id": "6fde825e",
   "metadata": {},
   "outputs": [],
   "source": []
  }
 ],
 "metadata": {
  "kernelspec": {
   "display_name": "Python 3 (ipykernel)",
   "language": "python",
   "name": "python3"
  },
  "language_info": {
   "codemirror_mode": {
    "name": "ipython",
    "version": 3
   },
   "file_extension": ".py",
   "mimetype": "text/x-python",
   "name": "python",
   "nbconvert_exporter": "python",
   "pygments_lexer": "ipython3",
   "version": "3.9.7"
  }
 },
 "nbformat": 4,
 "nbformat_minor": 5
}
