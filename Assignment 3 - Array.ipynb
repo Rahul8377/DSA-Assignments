{
 "cells": [
  {
   "cell_type": "markdown",
   "id": "025bda09",
   "metadata": {},
   "source": [
    "# Assignment- 3 Array"
   ]
  },
  {
   "cell_type": "markdown",
   "id": "2edec41b",
   "metadata": {},
   "source": [
    "# Question 1\n",
    "Given an integer array nums of length n and an integer target, find three integers\n",
    "in nums such that the sum is closest to the target.\n",
    "Return the sum of the three integers.\n",
    "\n",
    "You may assume that each input would have exactly one solution.\n",
    "\n",
    "Example 1:\n",
    "    \n",
    "Input: nums = [-1,2,1,-4], target = 1\n",
    "    \n",
    "Output: 2\n",
    "\n",
    "Explanation: The sum that is closest to the target is 2. (-1 + 2 + 1 = 2)."
   ]
  },
  {
   "cell_type": "markdown",
   "id": "76b9550c",
   "metadata": {},
   "source": [
    "# Solution -"
   ]
  },
  {
   "cell_type": "markdown",
   "id": "1cf92a7c",
   "metadata": {},
   "source": [
    "Algorithm to find three integers in the array that sum closest to the target:\n",
    "\n",
    "Sort the input array nums in ascending order.\n",
    "\n",
    "1.Initialize a variable closestSum to store the sum closest to the target. Set it initially to a large value, such as infinity.\n",
    "2.Iterate through the array nums from index i 0 to n-3 (exclusive), where n is the length of the array. This ensures we have enough elements for the three integers.\n",
    "3.Within this iteration, initialize two pointers left and right.\n",
    "4.For each i, initialize left = i + 1 and right = n - 1.\n",
    "While left < right:\n",
    "5.Calculate the sum currentSum = nums[i] + nums[left] + nums[right].\n",
    "6.If currentSum is equal to the target, return the target since we have found a perfect match.\n",
    "7.If the absolute difference between currentSum and target is smaller than the absolute difference between closestSum and target, update closestSum = currentSum.\n",
    "8.If currentSum is less than target, increment left by 1.\n",
    "9.If currentSum is greater than target, decrement right by 1.\n",
    "After the iteration is complete, return the value of closestSum, which will be the sum of the three integers closest to the target.\n",
    "Here's the implementation of the above algorithm in Python:"
   ]
  },
  {
   "cell_type": "code",
   "execution_count": 8,
   "id": "53803497",
   "metadata": {},
   "outputs": [],
   "source": [
    "def threeSumClosest(nums, target):\n",
    "    nums.sort()\n",
    "    n = len(nums)\n",
    "    closestSum = float('inf')\n",
    "\n",
    "    for i in range(n - 2):\n",
    "        left = i + 1\n",
    "        right = n - 1\n",
    "\n",
    "        while left < right:\n",
    "            currentSum = nums[i] + nums[left] + nums[right]\n",
    "\n",
    "            if currentSum == target:\n",
    "                return target\n",
    "\n",
    "            if abs(currentSum - target) < abs(closestSum - target):\n",
    "                closestSum = currentSum\n",
    "\n",
    "            if currentSum < target:\n",
    "                left += 1\n",
    "            elif currentSum > target:\n",
    "                right -= 1\n",
    "\n",
    "    return closestSum\n"
   ]
  },
  {
   "cell_type": "code",
   "execution_count": 9,
   "id": "ff81a81e",
   "metadata": {},
   "outputs": [
    {
     "name": "stdout",
     "output_type": "stream",
     "text": [
      "2\n"
     ]
    }
   ],
   "source": [
    "nums = [-1, 2, 1, -4]\n",
    "target = 1\n",
    "result = threeSumClosest(nums, target)\n",
    "print(result)\n"
   ]
  },
  {
   "cell_type": "markdown",
   "id": "eda74287",
   "metadata": {},
   "source": [
    "# Question 2\n",
    "Given an array nums of n integers, return an array of all the unique quadruplets\n",
    "\n",
    "[nums[a], nums[b], nums[c], nums[d]] such that:\n",
    "\n",
    "           ● 0 <= a, b, c, d < n\n",
    "           \n",
    "           ● a, b, c, and d are distinct.\n",
    "           \n",
    "           ● nums[a] + nums[b] + nums[c] + nums[d] == target\n",
    "\n",
    "You may return the answer in any order.\n",
    "\n",
    "Example 1:\n",
    "\n",
    "Input: nums = [1,0,-1,0,-2,2], target = 0\n",
    "\n",
    "Output: [[-2,-1,1,2],[-2,0,0,2],[-1,0,0,1]]"
   ]
  },
  {
   "cell_type": "markdown",
   "id": "058fcf7f",
   "metadata": {},
   "source": [
    "# Solution-"
   ]
  },
  {
   "cell_type": "markdown",
   "id": "2c9fde17",
   "metadata": {},
   "source": [
    "Algorithm to find all unique quadruplets that sum to the target:\n",
    "\n",
    "Sort the input array nums in ascending order.\n",
    "Initialize an empty list result to store the unique quadruplets.\n",
    "\n",
    "Iterate through the array nums from index i 0 to n-4 (exclusive), where n is the length of the array. This ensures we have enough elements for the four integers.\n",
    "\n",
    "Within this iteration, check if i is greater than 0 and nums[i] is equal to nums[i-1]. If so, continue to the next iteration to avoid duplicates.\n",
    "\n",
    "Iterate through the array from index j i+1 to n-3 (exclusive).\n",
    "\n",
    "Within this inner iteration, check if j is greater than i+1 and nums[j] is equal to nums[j-1]. If so, continue to the next iteration to avoid duplicates.\n",
    "\n",
    "Initialize two pointers left and right.\n",
    "\n",
    "For each j, initialize left = j + 1 and right = n - 1.\n",
    "\n",
    "While left < right:\n",
    "Calculate the sum currentSum = nums[i] + nums[j] + nums[left] + nums[right].\n",
    "\n",
    "If currentSum is equal to the target, add the quadruplet [nums[i], nums[j], nums[left], nums[right]] to the result.\n",
    "\n",
    "If currentSum is less than target, increment left by 1.\n",
    "\n",
    "If currentSum is greater than target, decrement right by 1.\n",
    "\n",
    "After the iteration is complete, return the result, which will contain all the unique quadruplets that sum to the target.\n",
    "Here's the implementation of the above algorithm in Python:\n"
   ]
  },
  {
   "cell_type": "code",
   "execution_count": 10,
   "id": "db19975d",
   "metadata": {},
   "outputs": [],
   "source": [
    "def fourSum(nums, target):\n",
    "    nums.sort()\n",
    "    n = len(nums)\n",
    "    result = []\n",
    "\n",
    "    for i in range(n - 3):\n",
    "        if i > 0 and nums[i] == nums[i - 1]:\n",
    "            continue\n",
    "\n",
    "        for j in range(i + 1, n - 2):\n",
    "            if j > i + 1 and nums[j] == nums[j - 1]:\n",
    "                continue\n",
    "\n",
    "            left = j + 1\n",
    "            right = n - 1\n",
    "\n",
    "            while left < right:\n",
    "                currentSum = nums[i] + nums[j] + nums[left] + nums[right]\n",
    "\n",
    "                if currentSum == target:\n",
    "                    result.append([nums[i], nums[j], nums[left], nums[right]])\n",
    "\n",
    "                    while left < right and nums[left] == nums[left + 1]:\n",
    "                        left += 1\n",
    "\n",
    "                    while left < right and nums[right] == nums[right - 1]:\n",
    "                        right -= 1\n",
    "\n",
    "                    left += 1\n",
    "                    right -= 1\n",
    "\n",
    "                elif currentSum < target:\n",
    "                    left += 1\n",
    "                else:\n",
    "                    right -= 1\n",
    "\n",
    "    return result\n"
   ]
  },
  {
   "cell_type": "code",
   "execution_count": 11,
   "id": "791655ea",
   "metadata": {},
   "outputs": [
    {
     "name": "stdout",
     "output_type": "stream",
     "text": [
      "[[-2, -1, 1, 2], [-2, 0, 0, 2], [-1, 0, 0, 1]]\n"
     ]
    }
   ],
   "source": [
    "nums = [1, 0, -1, 0, -2, 2]\n",
    "target = 0\n",
    "result = fourSum(nums, target)\n",
    "print(result)\n"
   ]
  },
  {
   "cell_type": "markdown",
   "id": "675f6614",
   "metadata": {},
   "source": [
    "# <aside>\n",
    "💡 **Question 3**\n",
    "A permutation of an array of integers is an arrangement of its members into a\n",
    "sequence or linear order.\n",
    "\n",
    "For example, for arr = [1,2,3], the following are all the permutations of arr:\n",
    "[1,2,3], [1,3,2], [2, 1, 3], [2, 3, 1], [3,1,2], [3,2,1].\n",
    "\n",
    "The next permutation of an array of integers is the next lexicographically greater\n",
    "permutation of its integer. More formally, if all the permutations of the array are\n",
    "sorted in one container according to their lexicographical order, then the next\n",
    "permutation of that array is the permutation that follows it in the sorted container.\n",
    "\n",
    "If such an arrangement is not possible, the array must be rearranged as the\n",
    "lowest possible order (i.e., sorted in ascending order).\n",
    "\n",
    "● For example, the next permutation of arr = [1,2,3] is [1,3,2].\n",
    "● Similarly, the next permutation of arr = [2,3,1] is [3,1,2].\n",
    "● While the next permutation of arr = [3,2,1] is [1,2,3] because [3,2,1] does not\n",
    "have a lexicographical larger rearrangement.\n",
    "\n",
    "Given an array of integers nums, find the next permutation of nums.\n",
    "The replacement must be in place and use only constant extra memory.\n",
    "\n",
    "**Example 1:**\n",
    "Input: nums = [1,2,3]\n",
    "Output: [1,3,2]\n",
    "\n",
    "</aside>"
   ]
  },
  {
   "cell_type": "markdown",
   "id": "3fa4338d",
   "metadata": {},
   "source": [
    "# Solution - "
   ]
  },
  {
   "cell_type": "markdown",
   "id": "5f56dd81",
   "metadata": {},
   "source": [
    "To find the next lexicographically greater permutation of an array, we can follow these steps:\n",
    "\n",
    "Starting from the right side of the array, find the first pair of adjacent elements nums[i] and nums[i+1] such that nums[i] < nums[i+1]. This indicates the first element that can be swapped to generate a greater permutation.\n",
    "If no such pair is found, it means the given permutation is the highest possible order. In this case, reverse the entire array to obtain the lowest possible order.\n",
    "If a pair is found in step 1, perform the following steps:\n",
    "Starting from the right side of the array, find the first element nums[j] such that nums[j] > nums[i]. This element will be swapped with nums[i] to create the next greater permutation.\n",
    "Swap nums[i] and nums[j].\n",
    "Reverse the subarray starting from index i+1 to the end of the array. This ensures that the remaining elements are in the lowest possible order.\n",
    "The resulting array will be the next lexicographically greater permutation.\n",
    "Here's the implementation of the above steps in Python:"
   ]
  },
  {
   "cell_type": "code",
   "execution_count": 12,
   "id": "f6986770",
   "metadata": {},
   "outputs": [],
   "source": [
    "def nextPermutation(nums):\n",
    "    n = len(nums)\n",
    "    i = n - 2\n",
    "\n",
    "    # Find the first element from the right side that is smaller than its adjacent element\n",
    "    while i >= 0 and nums[i] >= nums[i + 1]:\n",
    "        i -= 1\n",
    "\n",
    "    if i >= 0:\n",
    "        j = n - 1\n",
    "\n",
    "        # Find the first element from the right side that is greater than nums[i]\n",
    "        while j >= 0 and nums[j] <= nums[i]:\n",
    "            j -= 1\n",
    "\n",
    "        # Swap nums[i] and nums[j]\n",
    "        nums[i], nums[j] = nums[j], nums[i]\n",
    "\n",
    "    # Reverse the subarray starting from index i+1\n",
    "    left = i + 1\n",
    "    right = n - 1\n",
    "    while left < right:\n",
    "        nums[left], nums[right] = nums[right], nums[left]\n",
    "        left += 1\n",
    "        right -= 1\n",
    "\n",
    "    return nums\n"
   ]
  },
  {
   "cell_type": "code",
   "execution_count": 13,
   "id": "e26e01e8",
   "metadata": {},
   "outputs": [
    {
     "name": "stdout",
     "output_type": "stream",
     "text": [
      "[1, 3, 2]\n"
     ]
    }
   ],
   "source": [
    "nums = [1, 2, 3]\n",
    "result = nextPermutation(nums)\n",
    "print(result)\n"
   ]
  },
  {
   "cell_type": "markdown",
   "id": "96c4c48b",
   "metadata": {},
   "source": [
    "# Question 4\n",
    "Given a sorted array of distinct integers and a target value, return the index if the\n",
    "target is found. If not, return the index where it would be if it were inserted in\n",
    "order.\n",
    "\n",
    "You must write an algorithm with O(log n) runtime complexity.\n",
    "\n",
    "Example 1:\n",
    "Input: nums = [1,3,5,6], target = 5\n",
    "Output: 2"
   ]
  },
  {
   "cell_type": "markdown",
   "id": "4385f3e9",
   "metadata": {},
   "source": [
    "# Solution - "
   ]
  },
  {
   "cell_type": "markdown",
   "id": "7605a253",
   "metadata": {},
   "source": [
    "To solve this problem with O(log n) runtime complexity, we can use a binary search algorithm. Here's a step-by-step algorithm to find the index of the target value in the sorted array:\n",
    "\n",
    "Initialize two pointers, left and right, to the start and end of the array, respectively.\n",
    "\n",
    "While left <= right, perform the following steps:\n",
    "\n",
    "Calculate the middle index as mid = (left + right) // 2.\n",
    "\n",
    "If the value at index mid is equal to the target, return mid.\n",
    "\n",
    "If the value at index mid is greater than the target, update right = mid - 1 to search in the left half of the array.\n",
    "\n",
    "If the value at index mid is less than the target, update left = mid + 1 to search in the right half of the array.\n",
    "\n",
    "If the target is not found in the array, return the left index, which represents the position where the target would be inserted in order.\n",
    "\n",
    "Here's the implementation of the above algorithm in Python:"
   ]
  },
  {
   "cell_type": "code",
   "execution_count": 14,
   "id": "0b3cc773",
   "metadata": {},
   "outputs": [],
   "source": [
    "def searchInsert(nums, target):\n",
    "    left = 0\n",
    "    right = len(nums) - 1\n",
    "\n",
    "    while left <= right:\n",
    "        mid = (left + right) // 2\n",
    "\n",
    "        if nums[mid] == target:\n",
    "            return mid\n",
    "        elif nums[mid] > target:\n",
    "            right = mid - 1\n",
    "        else:\n",
    "            left = mid + 1\n",
    "\n",
    "    return left\n"
   ]
  },
  {
   "cell_type": "code",
   "execution_count": 15,
   "id": "beba31f5",
   "metadata": {},
   "outputs": [
    {
     "name": "stdout",
     "output_type": "stream",
     "text": [
      "2\n"
     ]
    }
   ],
   "source": [
    "nums = [1, 3, 5, 6]\n",
    "target = 5\n",
    "result = searchInsert(nums, target)\n",
    "print(result)\n"
   ]
  },
  {
   "cell_type": "markdown",
   "id": "da61816b",
   "metadata": {},
   "source": [
    "# <aside>\n",
    "💡 **Question 5**\n",
    "You are given a large integer represented as an integer array digits, where each\n",
    "digits[i] is the ith digit of the integer. The digits are ordered from most significant\n",
    "to least significant in left-to-right order. The large integer does not contain any\n",
    "leading 0's.\n",
    "\n",
    "Increment the large integer by one and return the resulting array of digits.\n",
    "\n",
    "**Example 1:**\n",
    "Input: digits = [1,2,3]\n",
    "Output: [1,2,4]\n",
    "\n",
    "**Explanation:** The array represents the integer 123.\n",
    "Incrementing by one gives 123 + 1 = 124.\n",
    "Thus, the result should be [1,2,4].\n",
    "\n",
    "</aside>"
   ]
  },
  {
   "cell_type": "markdown",
   "id": "978d5f00",
   "metadata": {},
   "source": [
    "# Solution -"
   ]
  },
  {
   "cell_type": "markdown",
   "id": "6237d897",
   "metadata": {},
   "source": [
    "To increment a large integer represented as an array of digits, we can follow these steps:\n",
    "\n",
    "Start from the rightmost digit and add 1 to it. Set a carry variable to keep track of any carry generated during the addition.\n",
    "\n",
    "If the digit becomes 10 after adding 1, set it to 0 and update the carry variable to 1.\n",
    "\n",
    "Move to the next digit to the left and repeat steps 1 and 2 until either all digits have been processed or there is no carry left.\n",
    "If there is still a carry left after processing all digits, insert it as the most significant digit.\n",
    "\n",
    "Reverse the array to obtain the correct order of digits.\n",
    "\n",
    "Here's the implementation of the above steps in Python:"
   ]
  },
  {
   "cell_type": "code",
   "execution_count": 16,
   "id": "2b68895a",
   "metadata": {},
   "outputs": [],
   "source": [
    "def plusOne(digits):\n",
    "    n = len(digits)\n",
    "    carry = 1\n",
    "\n",
    "    for i in range(n - 1, -1, -1):\n",
    "        digits[i] += carry\n",
    "\n",
    "        if digits[i] == 10:\n",
    "            digits[i] = 0\n",
    "            carry = 1\n",
    "        else:\n",
    "            carry = 0\n",
    "            break\n",
    "\n",
    "    if carry == 1:\n",
    "        digits.insert(0, 1)\n",
    "\n",
    "    return digits\n"
   ]
  },
  {
   "cell_type": "code",
   "execution_count": 17,
   "id": "91d3a381",
   "metadata": {},
   "outputs": [
    {
     "name": "stdout",
     "output_type": "stream",
     "text": [
      "[1, 2, 4]\n"
     ]
    }
   ],
   "source": [
    "digits = [1, 2, 3]\n",
    "result = plusOne(digits)\n",
    "print(result)\n"
   ]
  },
  {
   "cell_type": "markdown",
   "id": "1c6822fe",
   "metadata": {},
   "source": [
    "# Question 6\n",
    "Given a non-empty array of integers nums, every element appears twice except\n",
    "for one. Find that single one.\n",
    "\n",
    "You must implement a solution with a linear runtime complexity and use only\n",
    "constant extra space.\n",
    "\n",
    "Example 1:\n",
    "Input: nums = [2,2,1]\n",
    "Output: 1"
   ]
  },
  {
   "cell_type": "markdown",
   "id": "beee7b0b",
   "metadata": {},
   "source": [
    "# Solution -"
   ]
  },
  {
   "cell_type": "markdown",
   "id": "ef361d34",
   "metadata": {},
   "source": [
    "#To find the single number in an array where every other element appears twice, we can use the bitwise XOR operation. The XOR operation has the property that XOR-ing a number with itself results in 0, and XOR-ing a number with 0 gives the number itself.\n",
    "\n",
    "Here's how the algorithm works:\n",
    "\n",
    "Initialize a variable result to 0.\n",
    "\n",
    "Iterate through the array nums and perform the bitwise XOR operation between result and each element of the array.\n",
    "\n",
    "At the end of the iteration, the value of result will be the single number that appears only once.\n",
    "\n",
    "The reason this works is that XOR-ing all the numbers together will cancel out the pairs, leaving only the single number that appears once."
   ]
  },
  {
   "cell_type": "code",
   "execution_count": 18,
   "id": "b6d584c9",
   "metadata": {},
   "outputs": [],
   "source": [
    "def singleNumber(nums):\n",
    "    result = 0\n",
    "    for num in nums:\n",
    "        result ^= num\n",
    "    return result\n"
   ]
  },
  {
   "cell_type": "code",
   "execution_count": 19,
   "id": "5e0eaedc",
   "metadata": {},
   "outputs": [
    {
     "name": "stdout",
     "output_type": "stream",
     "text": [
      "1\n"
     ]
    }
   ],
   "source": [
    "nums = [2, 2, 1]\n",
    "result = singleNumber(nums)\n",
    "print(result)\n"
   ]
  },
  {
   "cell_type": "markdown",
   "id": "40083a11",
   "metadata": {},
   "source": [
    "# Question 7\n",
    "You are given an inclusive range [lower, upper] and a sorted unique integer array\n",
    "nums, where all elements are within the inclusive range.\n",
    "\n",
    "A number x is considered missing if x is in the range [lower, upper] and x is not in\n",
    "nums.\n",
    "\n",
    "Return the shortest sorted list of ranges that exactly covers all the missing\n",
    "numbers. That is, no element of nums is included in any of the ranges, and each\n",
    "missing number is covered by one of the ranges.\n",
    "\n",
    "Example 1:\n",
    "Input: nums = [0,1,3,50,75], lower = 0, upper = 99\n",
    "Output: [[2,2],[4,49],[51,74],[76,99]]\n",
    "\n",
    "Explanation: The ranges are:\n",
    "[2,2]\n",
    "[4,49]\n",
    "[51,74]\n",
    "[76,99]"
   ]
  },
  {
   "cell_type": "markdown",
   "id": "86edf334",
   "metadata": {},
   "source": [
    "# Solution -"
   ]
  },
  {
   "cell_type": "markdown",
   "id": "087ffd3f",
   "metadata": {},
   "source": [
    "To find the shortest sorted list of ranges that covers all the missing numbers within a given range [lower, upper], we can iterate through the range and identify the missing numbers. As we find missing numbers, we create range intervals to cover them.\n",
    "\n",
    "Here's the step-by-step algorithm to solve this problem:\n",
    "\n",
    "Initialize an empty list result to store the ranges.\n",
    "\n",
    "If lower is less than the first element in nums, add the range [lower, nums[0]-1] to result.\n",
    "\n",
    "Iterate through nums starting from the second element and up to the last element:\n",
    "    \n",
    "If the current number nums[i] is greater than the previous number by more than 1, there is a missing range. Add the range [nums[i-1]+1, nums[i]-1] to result.\n",
    "\n",
    "If upper is greater than the last element in nums, add the range [nums[-1]+1, upper] to result.\n",
    "\n",
    "Return result."
   ]
  },
  {
   "cell_type": "code",
   "execution_count": 20,
   "id": "8690887a",
   "metadata": {},
   "outputs": [],
   "source": [
    "def findMissingRanges(nums, lower, upper):\n",
    "    result = []\n",
    "\n",
    "    if lower < nums[0]:\n",
    "        result.append([lower, nums[0] - 1])\n",
    "\n",
    "    for i in range(1, len(nums)):\n",
    "        if nums[i] - nums[i-1] > 1:\n",
    "            result.append([nums[i-1] + 1, nums[i] - 1])\n",
    "\n",
    "    if upper > nums[-1]:\n",
    "        result.append([nums[-1] + 1, upper])\n",
    "\n",
    "    return result\n"
   ]
  },
  {
   "cell_type": "code",
   "execution_count": 21,
   "id": "528494f4",
   "metadata": {},
   "outputs": [
    {
     "name": "stdout",
     "output_type": "stream",
     "text": [
      "[[2, 2], [4, 49], [51, 74], [76, 99]]\n"
     ]
    }
   ],
   "source": [
    "nums = [0, 1, 3, 50, 75]\n",
    "lower = 0\n",
    "upper = 99\n",
    "result = findMissingRanges(nums, lower, upper)\n",
    "print(result)\n"
   ]
  },
  {
   "cell_type": "markdown",
   "id": "d8e6da65",
   "metadata": {},
   "source": [
    "# Question 8\n",
    "Given an array of meeting time intervals where intervals[i] = [starti, endi],\n",
    "determine if a person could attend all meetings.\n",
    "\n",
    "Example 1:\n",
    "Input: intervals = [[0,30],[5,10],[15,20]]\n",
    "Output: false"
   ]
  },
  {
   "cell_type": "markdown",
   "id": "e87dddcb",
   "metadata": {},
   "source": [
    "# Solution -"
   ]
  },
  {
   "cell_type": "markdown",
   "id": "69cbe98d",
   "metadata": {},
   "source": [
    "To determine if a person could attend all meetings represented by an array of time intervals, we need to check if any two intervals overlap. If there are no overlapping intervals, it means the person can attend all meetings without any time conflicts.\n",
    "\n",
    "Here's the algorithm to solve this problem:\n",
    "\n",
    "Sort the intervals based on the start time in ascending order.\n",
    "\n",
    "Iterate through the sorted intervals starting from the second interval:\n",
    "    \n",
    "If the start time of the current interval is less than or equal to the end time of the previous interval, there is an overlap. Return False.\n",
    "\n",
    "If the loop completes without finding any overlaps, return True.\n",
    "\n",
    "Here's the implementation of the above algorithm in Python:"
   ]
  },
  {
   "cell_type": "code",
   "execution_count": 22,
   "id": "42f9d959",
   "metadata": {},
   "outputs": [],
   "source": [
    "def canAttendMeetings(intervals):\n",
    "    intervals.sort(key=lambda x: x[0])\n",
    "\n",
    "    for i in range(1, len(intervals)):\n",
    "        if intervals[i][0] < intervals[i-1][1]:\n",
    "            return False\n",
    "\n",
    "    return True\n"
   ]
  },
  {
   "cell_type": "code",
   "execution_count": 23,
   "id": "0ae46338",
   "metadata": {},
   "outputs": [
    {
     "name": "stdout",
     "output_type": "stream",
     "text": [
      "False\n"
     ]
    }
   ],
   "source": [
    "intervals = [[0, 30], [5, 10], [15, 20]]\n",
    "result = canAttendMeetings(intervals)\n",
    "print(result)\n"
   ]
  },
  {
   "cell_type": "code",
   "execution_count": null,
   "id": "d7c8dba1",
   "metadata": {},
   "outputs": [],
   "source": []
  }
 ],
 "metadata": {
  "kernelspec": {
   "display_name": "Python 3 (ipykernel)",
   "language": "python",
   "name": "python3"
  },
  "language_info": {
   "codemirror_mode": {
    "name": "ipython",
    "version": 3
   },
   "file_extension": ".py",
   "mimetype": "text/x-python",
   "name": "python",
   "nbconvert_exporter": "python",
   "pygments_lexer": "ipython3",
   "version": "3.9.7"
  }
 },
 "nbformat": 4,
 "nbformat_minor": 5
}
