{
 "cells": [
  {
   "cell_type": "markdown",
   "id": "ecab96db",
   "metadata": {},
   "source": [
    "# <aside>\n",
    "💡 **Question 1**\n",
    "\n",
    "Given an integer `n`, return *`true` if it is a power of three. Otherwise, return `false`*.\n",
    "\n",
    "An integer `n` is a power of three, if there exists an integer `x` such that `n == 3x`.\n",
    "\n",
    "**Example 1:**\n",
    "\n",
    "</aside>"
   ]
  },
  {
   "cell_type": "markdown",
   "id": "3335a6e2",
   "metadata": {},
   "source": [
    "To determine whether an integer n is a power of three, we can use a simple iterative approach. We repeatedly divide n by 3 as long as n is divisible by 3. If n eventually becomes 1, then it is a power of three; otherwise, it is not.\n",
    "\n",
    "Here's the Python function to implement this algorithm:"
   ]
  },
  {
   "cell_type": "code",
   "execution_count": 1,
   "id": "0da65ef0",
   "metadata": {},
   "outputs": [],
   "source": [
    "def is_power_of_three(n):\n",
    "    while n > 1 and n % 3 == 0:\n",
    "        n //= 3\n",
    "    return n == 1\n"
   ]
  },
  {
   "cell_type": "code",
   "execution_count": 2,
   "id": "ab4d886e",
   "metadata": {},
   "outputs": [
    {
     "name": "stdout",
     "output_type": "stream",
     "text": [
      "True\n"
     ]
    }
   ],
   "source": [
    "print(is_power_of_three(27))  # Output: True\n"
   ]
  },
  {
   "cell_type": "markdown",
   "id": "cc61aebc",
   "metadata": {},
   "source": [
    "# <aside>\n",
    "💡 **Question 2**\n",
    "\n",
    "You have a list `arr` of all integers in the range `[1, n]` sorted in a strictly increasing order. Apply the following algorithm on `arr`:\n",
    "\n",
    "- Starting from left to right, remove the first number and every other number afterward until you reach the end of the list.\n",
    "- Repeat the previous step again, but this time from right to left, remove the rightmost number and every other number from the remaining numbers.\n",
    "- Keep repeating the steps again, alternating left to right and right to left, until a single number remains.\n",
    "\n",
    "Given the integer `n`, return *the last number that remains in* `arr`.\n",
    "\n",
    "**Example 1:**\n",
    "\n",
    "```\n",
    "Input: n = 9\n",
    "Output: 6\n",
    "Explanation:\n",
    "arr = [1, 2,3, 4,5, 6,7, 8,9]\n",
    "arr = [2,4, 6,8]\n",
    "arr = [2, 6]\n",
    "arr = [6]\n",
    "\n",
    "```\n",
    "\n",
    "**Example 2:**\n",
    "\n",
    "</aside>"
   ]
  },
  {
   "cell_type": "markdown",
   "id": "87ee160b",
   "metadata": {},
   "source": [
    "# Solution"
   ]
  },
  {
   "cell_type": "markdown",
   "id": "29bdcc02",
   "metadata": {},
   "source": [
    "To find the last number that remains in the given list arr after applying the described algorithm, we can simulate the process step by step. Instead of actually removing elements from the list, we can keep track of the starting number and the step size in each iteration and update the list size accordingly.\n",
    "\n",
    "Here's the Python function to find the last number that remains:"
   ]
  },
  {
   "cell_type": "code",
   "execution_count": 3,
   "id": "7b7f1063",
   "metadata": {},
   "outputs": [
    {
     "name": "stdout",
     "output_type": "stream",
     "text": [
      "6\n"
     ]
    }
   ],
   "source": [
    "def last_remaining(n):\n",
    "    left_to_right = True\n",
    "    remaining = n\n",
    "    step = 1\n",
    "    start = 1\n",
    "    \n",
    "    while remaining > 1:\n",
    "        if left_to_right or remaining % 2 == 1:\n",
    "            start += step\n",
    "        remaining //= 2\n",
    "        step *= 2\n",
    "        left_to_right = not left_to_right\n",
    "        \n",
    "    return start\n",
    "\n",
    "# Test examples\n",
    "print(last_remaining(9))  # Output: 6\n"
   ]
  },
  {
   "cell_type": "markdown",
   "id": "010dd2f6",
   "metadata": {},
   "source": [
    "Explanation:\n",
    "\n",
    "For n = 9, the steps are as follows:\n",
    "\n",
    "arr = [1, 2, 3, 4, 5, 6, 7, 8, 9]\n",
    "\n",
    "Left to right: arr = [2, 4, 6, 8]\n",
    "\n",
    "Right to left: arr = [2, 6]\n",
    "\n",
    "Left to right: arr = [6]\n",
    "\n",
    "The last number remaining in the list is 6."
   ]
  },
  {
   "cell_type": "markdown",
   "id": "4f58f850",
   "metadata": {},
   "source": [
    "# <aside>\n",
    "💡 **Question 3**\n",
    "\n",
    "****Given a set represented as a string, write a recursive code to print all subsets of it. The subsets can be printed in any order.\n",
    "\n",
    "**Example 1:**\n",
    "\n",
    "Input :  set = “abc”\n",
    "\n",
    "Output : { “”, “a”, “b”, “c”, “ab”, “ac”, “bc”, “abc”}\n",
    "\n",
    "**Example 2:**\n",
    "\n",
    "Input : set = “abcd”\n",
    "\n",
    "Output : { “”, “a” ,”ab” ,”abc” ,”abcd”, “abd” ,”ac” ,”acd”, “ad” ,”b”, “bc” ,”bcd” ,”bd” ,”c” ,”cd” ,”d” }\n",
    "\n",
    "</aside>"
   ]
  },
  {
   "cell_type": "markdown",
   "id": "7abaa06d",
   "metadata": {},
   "source": [
    "# Solution"
   ]
  },
  {
   "cell_type": "markdown",
   "id": "761deda0",
   "metadata": {},
   "source": [
    "To print all subsets of a given set represented as a string, we can use a recursive approach. For each character in the string, we have two choices: either include it in the subset or exclude it. We can recursively generate all possible subsets by considering both choices for each character.\n",
    "\n",
    "Here's the Python function to print all subsets of a given set:"
   ]
  },
  {
   "cell_type": "code",
   "execution_count": 4,
   "id": "0c321ffd",
   "metadata": {},
   "outputs": [
    {
     "name": "stdout",
     "output_type": "stream",
     "text": [
      "{  } { c } { b } { bc } { a } { ac } { ab } { abc } \n",
      "{  } { d } { c } { cd } { b } { bd } { bc } { bcd } { a } { ad } { ac } { acd } { ab } { abd } { abc } { abcd } "
     ]
    }
   ],
   "source": [
    "def print_subsets(set_str, current_set=\"\", index=0):\n",
    "    if index == len(set_str):\n",
    "        print(\"{\", current_set, \"}\", end=\" \")\n",
    "        return\n",
    "\n",
    "    # Exclude the current character\n",
    "    print_subsets(set_str, current_set, index + 1)\n",
    "\n",
    "    # Include the current character\n",
    "    print_subsets(set_str, current_set + set_str[index], index + 1)\n",
    "\n",
    "# Test examples\n",
    "print_subsets(\"abc\")\n",
    "print()  # Newline\n",
    "print_subsets(\"abcd\")\n"
   ]
  },
  {
   "cell_type": "markdown",
   "id": "0d3ae741",
   "metadata": {},
   "source": [
    "# <aside>\n",
    "💡 **Question 4**\n",
    "\n",
    "Given a string calculate length of the string using recursion.\n",
    "\n",
    "**Examples:**\n",
    "\n",
    "</aside>"
   ]
  },
  {
   "cell_type": "markdown",
   "id": "f59b0b08",
   "metadata": {},
   "source": [
    "To calculate the length of a string using recursion, we can define a recursive function that keeps dividing the string into smaller parts until we reach the base case where the string becomes empty. At each step, we can remove the first character of the string and continue the recursion with the remaining part.\n",
    "\n",
    "Here's the Python function to calculate the length of a string using recursion:"
   ]
  },
  {
   "cell_type": "code",
   "execution_count": 6,
   "id": "90adacc2",
   "metadata": {},
   "outputs": [
    {
     "name": "stdout",
     "output_type": "stream",
     "text": [
      "5\n",
      "9\n"
     ]
    }
   ],
   "source": [
    "def string_length_recursive(s):\n",
    "    # Base case: If the string is empty, return 0\n",
    "    if not s:\n",
    "        return 0\n",
    "    # Recursive case: Return 1 + length of the string without the first character\n",
    "    return 1 + string_length_recursive(s[1:])\n",
    "\n",
    "# Test examples\n",
    "print(string_length_recursive(\"hello\"))  # Output: 5\n",
    "print(string_length_recursive(\"recursion\"))  # Output: 9\n"
   ]
  },
  {
   "cell_type": "markdown",
   "id": "93cc9bab",
   "metadata": {},
   "source": [
    "# <aside>\n",
    "💡 **Question 5**\n",
    "\n",
    "We are given a string S, we need to find count of all contiguous substrings starting and ending with same character.\n",
    "\n",
    "**Examples :**\n",
    "\n",
    "</aside>\n",
    "Input  : S = \"abcab\"\n",
    "Output : 7\n",
    "There are 15 substrings of \"abcab\"\n",
    "a, ab, abc, abca, abcab, b, bc, bca\n",
    "bcab, c, ca, cab, a, ab, b\n",
    "Out of the above substrings, there\n",
    "are 7 substrings : a, abca, b, bcab,\n",
    "c, a and b.\n",
    "\n",
    "Input  : S = \"aba\"\n",
    "Output : 4\n",
    "The substrings are a, b, a and aba"
   ]
  },
  {
   "cell_type": "markdown",
   "id": "7c864497",
   "metadata": {},
   "source": [
    "# Solution"
   ]
  },
  {
   "cell_type": "markdown",
   "id": "eed1f7e1",
   "metadata": {},
   "source": [
    "To find the count of all contiguous substrings starting and ending with the same character, we can use a simple approach where we iterate through the string and count the substrings at each position by considering the characters on both sides.\n",
    "\n",
    "Here's the Python function to calculate the count of such substrings:"
   ]
  },
  {
   "cell_type": "code",
   "execution_count": 7,
   "id": "62517eff",
   "metadata": {},
   "outputs": [
    {
     "name": "stdout",
     "output_type": "stream",
     "text": [
      "7\n",
      "4\n"
     ]
    }
   ],
   "source": [
    "def count_contiguous_substrings(S):\n",
    "    count = 0\n",
    "    n = len(S)\n",
    "\n",
    "    for i in range(n):\n",
    "        # Count substrings where S[i] is the starting and ending character\n",
    "        for j in range(i, n):\n",
    "            if S[i] == S[j]:\n",
    "                count += 1\n",
    "\n",
    "    return count\n",
    "\n",
    "# Test examples\n",
    "print(count_contiguous_substrings(\"abcab\"))  # Output: 7\n",
    "print(count_contiguous_substrings(\"aba\"))    # Output: 4\n"
   ]
  },
  {
   "cell_type": "markdown",
   "id": "2227237d",
   "metadata": {},
   "source": [
    "# <aside>\n",
    "💡 **Question 6**\n",
    "\n",
    "The [tower of Hanoi](https://en.wikipedia.org/wiki/Tower_of_Hanoi) is a famous puzzle where we have three rods and **N** disks. The objective of the puzzle is to move the entire stack to another rod. You are given the number of discs **N**. Initially, these discs are in the rod 1. You need to print all the steps of discs movement so that all the discs reach the 3rd rod. Also, you need to find the total moves.**Note:** The discs are arranged such that the **top disc is numbered 1** and the **bottom-most disc is numbered N**. Also, all the discs have **different sizes** and a bigger disc **cannot** be put on the top of a smaller disc. Refer the provided link to get a better clarity about the puzzle.\n",
    "\n",
    "**Example 1:**\n",
    "\n",
    "</aside>\n",
    "\n",
    "Input:\n",
    "N = 2\n",
    "Output:\n",
    "move disk 1 from rod 1 to rod 2\n",
    "move disk 2 from rod 1 to rod 3\n",
    "move disk 1 from rod 2 to rod 3\n",
    "3\n",
    "Explanation:For N=2 , steps will be\n",
    "as follows in the example and total\n",
    "3 steps will be taken.\n",
    "\n",
    "Example 2:\n",
    "\n",
    "Input:\n",
    "N = 3\n",
    "Output:\n",
    "move disk 1 from rod 1 to rod 3\n",
    "move disk 2 from rod 1 to rod 2\n",
    "move disk 1 from rod 3 to rod 2\n",
    "move disk 3 from rod 1 to rod 3\n",
    "move disk 1 from rod 2 to rod 1\n",
    "move disk 2 from rod 2 to rod 3\n",
    "move disk 1 from rod 1 to rod 3\n",
    "7\n",
    "Explanation:For N=3 , steps will be\n",
    "as follows in the example and total\n",
    "7 steps will be taken."
   ]
  },
  {
   "cell_type": "markdown",
   "id": "f2508012",
   "metadata": {},
   "source": [
    "To solve the Tower of Hanoi problem and print all the steps of disc movement to move N discs from the first rod to the third rod, we can use a recursive approach as shown in the previous response.\n",
    "\n",
    "However, it seems like the question text you provided already gives the correct output for the given inputs. I will rewrite the Python function to solve the Tower of Hanoi problem and print the steps as provided in the example.\n",
    "\n",
    "Here's the Python function to solve the Tower of Hanoi problem and print the steps:"
   ]
  },
  {
   "cell_type": "code",
   "execution_count": 8,
   "id": "1993d2a9",
   "metadata": {},
   "outputs": [
    {
     "name": "stdout",
     "output_type": "stream",
     "text": [
      "move disk 1 from rod 1 to rod 2\n",
      "move disk 2 from rod 1 to rod 3\n",
      "move disk 1 from rod 2 to rod 3\n",
      "3\n",
      "move disk 1 from rod 1 to rod 3\n",
      "move disk 2 from rod 1 to rod 2\n",
      "move disk 1 from rod 3 to rod 2\n",
      "move disk 3 from rod 1 to rod 3\n",
      "move disk 1 from rod 2 to rod 1\n",
      "move disk 2 from rod 2 to rod 3\n",
      "move disk 1 from rod 1 to rod 3\n",
      "7\n"
     ]
    }
   ],
   "source": [
    "def tower_of_hanoi(n, source_rod, auxiliary_rod, target_rod):\n",
    "    if n == 1:\n",
    "        print(\"move disk 1 from\", source_rod, \"to\", target_rod)\n",
    "        return 1\n",
    "\n",
    "    count = 0\n",
    "    count += tower_of_hanoi(n - 1, source_rod, target_rod, auxiliary_rod)\n",
    "    print(\"move disk\", n, \"from\", source_rod, \"to\", target_rod)\n",
    "    count += 1\n",
    "    count += tower_of_hanoi(n - 1, auxiliary_rod, source_rod, target_rod)\n",
    "    return count\n",
    "\n",
    "# Test example 1\n",
    "N = 2\n",
    "total_moves = tower_of_hanoi(N, 'rod 1', 'rod 2', 'rod 3')\n",
    "print(total_moves)\n",
    "\n",
    "# Test example 2\n",
    "N = 3\n",
    "total_moves = tower_of_hanoi(N, 'rod 1', 'rod 2', 'rod 3')\n",
    "print(total_moves)\n"
   ]
  },
  {
   "cell_type": "markdown",
   "id": "cfa1d008",
   "metadata": {},
   "source": [
    "# <aside>\n",
    "💡 **Question 7**\n",
    "\n",
    "Given a string **str**, the task is to print all the permutations of **str**. A **permutation** is an arrangement of all or part of a set of objects, with regard to the order of the arrangement. For instance, the words ‘bat’ and ‘tab’ represents two distinct permutation (or arrangements) of a similar three letter word.\n",
    "\n",
    "**Examples:**\n",
    "\n",
    "> Input: str = “cd”\n",
    "> \n",
    "> \n",
    "> **Output:** cd dc\n",
    "> \n",
    "> **Input:** str = “abb”\n",
    "> \n",
    "> **Output:** abb abb bab bba bab bba\n",
    "> \n",
    "</aside>"
   ]
  },
  {
   "cell_type": "markdown",
   "id": "05436c8c",
   "metadata": {},
   "source": [
    "To find all the permutations of a given string str, we can use a recursive approach. The idea is to fix one character at a time and then recursively find all permutations of the remaining characters.\n",
    "\n",
    "Here's the Python function to print all permutations of a given string:"
   ]
  },
  {
   "cell_type": "code",
   "execution_count": 10,
   "id": "2d4f3aca",
   "metadata": {},
   "outputs": [
    {
     "name": "stdout",
     "output_type": "stream",
     "text": [
      "cd dc \n",
      "abb abb bab bba bab bba "
     ]
    }
   ],
   "source": [
    "def find_permutations(str):\n",
    "    def permute(current_str, remaining_str):\n",
    "        if not remaining_str:\n",
    "            print(current_str, end=\" \")\n",
    "            return\n",
    "\n",
    "        for i in range(len(remaining_str)):\n",
    "            new_current = current_str + remaining_str[i]\n",
    "            new_remaining = remaining_str[:i] + remaining_str[i + 1:]\n",
    "            permute(new_current, new_remaining)\n",
    "\n",
    "    permute(\"\", str)\n",
    "\n",
    "# Test examples\n",
    "find_permutations(\"cd\")  # Output: cd dc\n",
    "print()  # Newline\n",
    "find_permutations(\"abb\")  # Output: abb abb bab bba bab bba\n"
   ]
  },
  {
   "cell_type": "markdown",
   "id": "61ded8ec",
   "metadata": {},
   "source": [
    "# <aside>\n",
    "💡 **Question 8**\n",
    "\n",
    "Given a string, count total number of consonants in it. A consonant is an English alphabet character that is not vowel (a, e, i, o and u). Examples of constants are b, c, d, f, and g.\n",
    "\n",
    "**Examples :**\n",
    "\n",
    "</aside>Input : abc de\n",
    "Output : 3\n",
    "There are three consonants b, c and d.\n",
    "\n",
    "Input : geeksforgeeks portal\n",
    "Output : 12"
   ]
  },
  {
   "cell_type": "markdown",
   "id": "841b3318",
   "metadata": {},
   "source": [
    "To count the total number of consonants in a given string, we can iterate through each character of the string and check if it is a consonant (not a vowel or any non-alphabetic character). We can use a set to check if a character is a vowel efficiently.\n",
    "\n",
    "Here's the Python function to count the number of consonants in a string:\n",
    "\n",
    "python\n"
   ]
  },
  {
   "cell_type": "code",
   "execution_count": 11,
   "id": "892e2de3",
   "metadata": {},
   "outputs": [
    {
     "name": "stdout",
     "output_type": "stream",
     "text": [
      "3\n",
      "12\n"
     ]
    }
   ],
   "source": [
    "def count_consonants(s):\n",
    "    vowels = set(\"aeiouAEIOU\")\n",
    "    consonant_count = 0\n",
    "\n",
    "    for char in s:\n",
    "        if char.isalpha() and char not in vowels:\n",
    "            consonant_count += 1\n",
    "\n",
    "    return consonant_count\n",
    "\n",
    "# Test examples\n",
    "print(count_consonants(\"abc de\"))  # Output: 3\n",
    "print(count_consonants(\"geeksforgeeks portal\"))  # Output: 12\n"
   ]
  },
  {
   "cell_type": "code",
   "execution_count": null,
   "id": "1483eb9c",
   "metadata": {},
   "outputs": [],
   "source": []
  }
 ],
 "metadata": {
  "kernelspec": {
   "display_name": "Python 3 (ipykernel)",
   "language": "python",
   "name": "python3"
  },
  "language_info": {
   "codemirror_mode": {
    "name": "ipython",
    "version": 3
   },
   "file_extension": ".py",
   "mimetype": "text/x-python",
   "name": "python",
   "nbconvert_exporter": "python",
   "pygments_lexer": "ipython3",
   "version": "3.9.7"
  }
 },
 "nbformat": 4,
 "nbformat_minor": 5
}
