{
 "cells": [
  {
   "cell_type": "markdown",
   "id": "38e59cf0",
   "metadata": {},
   "source": [
    "# Assignment Questions 12"
   ]
  },
  {
   "cell_type": "markdown",
   "id": "4d150732",
   "metadata": {},
   "source": [
    "# <aside>\n",
    "💡 **Question 1**\n",
    "\n",
    "Given a singly linked list, delete **middle** of the linked list. For example, if given linked list is 1->2->**3**->4->5 then linked list should be modified to 1->2->4->5.If there are **even** nodes, then there would be **two middle** nodes, we need to delete the second middle element. For example, if given linked list is 1->2->3->4->5->6 then it should be modified to 1->2->3->5->6.If the input linked list is NULL or has 1 node, then it should return NULL\n",
    "\n",
    "**Example 1:**\n",
    "    \n",
    "    Input:\n",
    "LinkedList: 1->2->3->4->5\n",
    "Output:1 2 4 5\n",
    "\n",
    "    Example 2:\n",
    "    Input:\n",
    "LinkedList: 2->4->6->7->5->1\n",
    "Output:2 4 6 5 1\n",
    "\n",
    "</aside>"
   ]
  },
  {
   "cell_type": "markdown",
   "id": "06d5a901",
   "metadata": {},
   "source": [
    "# Solution"
   ]
  },
  {
   "cell_type": "markdown",
   "id": "cc26351e",
   "metadata": {},
   "source": [
    "To delete the middle node(s) from a singly linked list, we can use the slow and fast pointer technique. The slow pointer moves one step at a time, while the fast pointer moves two steps at a time. When the fast pointer reaches the end of the linked list, the slow pointer will be at the middle node.\n",
    "\n",
    "Here's how we can implement this in Python:"
   ]
  },
  {
   "cell_type": "code",
   "execution_count": 1,
   "id": "334d19c1",
   "metadata": {},
   "outputs": [
    {
     "name": "stdout",
     "output_type": "stream",
     "text": [
      "1 2 3 4 5 \n",
      "1 2 4 5 \n",
      "2 4 6 7 5 1 \n",
      "2 4 6 5 1 \n"
     ]
    }
   ],
   "source": [
    "class ListNode:\n",
    "    def __init__(self, val=0, next=None):\n",
    "        self.val = val\n",
    "        self.next = next\n",
    "\n",
    "def find_middle(head):\n",
    "    slow = head\n",
    "    fast = head\n",
    "    prev_slow = None\n",
    "\n",
    "    while fast and fast.next:\n",
    "        fast = fast.next.next\n",
    "        prev_slow = slow\n",
    "        slow = slow.next\n",
    "\n",
    "    return prev_slow, slow\n",
    "\n",
    "def delete_middle(head):\n",
    "    if not head or not head.next:\n",
    "        return head\n",
    "\n",
    "    prev_middle, middle = find_middle(head)\n",
    "\n",
    "    if prev_middle:\n",
    "        prev_middle.next = middle.next\n",
    "    else:\n",
    "        # If the middle is the first node, update the head\n",
    "        head = middle.next\n",
    "\n",
    "    return head\n",
    "\n",
    "def print_linked_list(head):\n",
    "    current = head\n",
    "    while current:\n",
    "        print(current.val, end=\" \")\n",
    "        current = current.next\n",
    "    print()\n",
    "\n",
    "# Test cases\n",
    "# Example 1\n",
    "linked_list1 = ListNode(1, ListNode(2, ListNode(3, ListNode(4, ListNode(5)))))\n",
    "print_linked_list(linked_list1)  # Output: 1 2 3 4 5\n",
    "modified_list1 = delete_middle(linked_list1)\n",
    "print_linked_list(modified_list1)  # Output: 1 2 4 5\n",
    "\n",
    "# Example 2\n",
    "linked_list2 = ListNode(2, ListNode(4, ListNode(6, ListNode(7, ListNode(5, ListNode(1))))))\n",
    "print_linked_list(linked_list2)  # Output: 2 4 6 7 5 1\n",
    "modified_list2 = delete_middle(linked_list2)\n",
    "print_linked_list(modified_list2)  # Output: 2 4 6 5 1\n"
   ]
  },
  {
   "cell_type": "markdown",
   "id": "3a61a6da",
   "metadata": {},
   "source": [
    "# <aside>\n",
    "💡 **Question 2**\n",
    "\n",
    "Given a linked list of **N** nodes. The task is to check if the linked list has a loop. Linked list can contain self loop.\n",
    "\n",
    "**Example 1:**\n",
    "    \n",
    "    Input:\n",
    "N = 3\n",
    "value[] = {1,3,4}\n",
    "x(position at which tail is connected) = 2\n",
    "Output:True\n",
    "Explanation:In above test case N = 3.\n",
    "The linked list with nodes N = 3 is\n",
    "given. Then value of x=2 is given which\n",
    "means last node is connected with xth\n",
    "node of linked list. Therefore, there\n",
    "exists a loop.\n",
    "\n",
    "Example 2:\n",
    "    \n",
    "    Input:\n",
    "N = 4\n",
    "value[] = {1,8,3,4}\n",
    "x = 0\n",
    "Output:False\n",
    "Explanation:For N = 4 ,x = 0 means\n",
    "then lastNode->next = NULL, then\n",
    "the Linked list does not contains\n",
    "any loop.\n",
    "\n",
    "</aside>"
   ]
  },
  {
   "cell_type": "markdown",
   "id": "41ca485c",
   "metadata": {},
   "source": [
    "# Solution"
   ]
  },
  {
   "cell_type": "markdown",
   "id": "983b3511",
   "metadata": {},
   "source": [
    "To check if a linked list has a loop, we can use the Floyd's Tortoise and Hare (Cycle Detection) algorithm. This algorithm efficiently detects a cycle in a linked list using two pointers: slow and fast.\n",
    "\n",
    "Here's how we can implement this in Python:"
   ]
  },
  {
   "cell_type": "code",
   "execution_count": 2,
   "id": "5fc0258b",
   "metadata": {},
   "outputs": [
    {
     "name": "stdout",
     "output_type": "stream",
     "text": [
      "True\n",
      "False\n"
     ]
    }
   ],
   "source": [
    "class ListNode:\n",
    "    def __init__(self, val=0, next=None):\n",
    "        self.val = val\n",
    "        self.next = next\n",
    "\n",
    "def has_loop(head):\n",
    "    if not head or not head.next:\n",
    "        return False\n",
    "\n",
    "    slow = head\n",
    "    fast = head.next\n",
    "\n",
    "    while slow != fast:\n",
    "        if not fast or not fast.next:\n",
    "            return False\n",
    "        slow = slow.next\n",
    "        fast = fast.next.next\n",
    "\n",
    "    return True\n",
    "\n",
    "# Test cases\n",
    "# Example 1\n",
    "linked_list1 = ListNode(1)\n",
    "linked_list1.next = ListNode(3)\n",
    "linked_list1.next.next = ListNode(4)\n",
    "linked_list1.next.next.next = linked_list1.next  # Create a loop\n",
    "print(has_loop(linked_list1))  # Output: True\n",
    "\n",
    "# Example 2\n",
    "linked_list2 = ListNode(1)\n",
    "linked_list2.next = ListNode(8)\n",
    "linked_list2.next.next = ListNode(3)\n",
    "linked_list2.next.next.next = ListNode(4)\n",
    "print(has_loop(linked_list2))  # Output: False\n"
   ]
  },
  {
   "cell_type": "markdown",
   "id": "8a5070df",
   "metadata": {},
   "source": [
    "# <aside>\n",
    "💡 **Question 3**\n",
    "\n",
    "Given a linked list consisting of **L** nodes and given a number **N**. The task is to find the **N**th node from the end of the linked list.\n",
    "\n",
    "**Example 1:**\n",
    "    \n",
    "    Input:\n",
    "N = 2\n",
    "LinkedList: 1->2->3->4->5->6->7->8->9\n",
    "Output:8\n",
    "Explanation:In the first example, there\n",
    "are 9 nodes in linked list and we need\n",
    "to find 2nd node from end. 2nd node\n",
    "from end is 8.\n",
    "\n",
    "\n",
    "Example 2:\n",
    "    \n",
    "    Input:\n",
    "N = 5\n",
    "LinkedList: 10->5->100->5\n",
    "Output:-1\n",
    "Explanation:In the second example, there\n",
    "are 4 nodes in the linked list and we\n",
    "need to find 5th from the end. Since 'n'\n",
    "is more than the number of nodes in the\n",
    "linked list, the output is -1.\n",
    "\n",
    "</aside>"
   ]
  },
  {
   "cell_type": "markdown",
   "id": "8ea42e1a",
   "metadata": {},
   "source": [
    "# Solution"
   ]
  },
  {
   "cell_type": "markdown",
   "id": "3b13485b",
   "metadata": {},
   "source": [
    "To find the Nth node from the end of a linked list, we can use the two-pointer approach. We can have two pointers - a slow pointer and a fast pointer. The fast pointer will move N nodes ahead of the slow pointer, and then both pointers will move together until the fast pointer reaches the end of the linked list. At this point, the slow pointer will be at the Nth node from the end.\n",
    "\n",
    "Here's how we can implement this in Python:"
   ]
  },
  {
   "cell_type": "code",
   "execution_count": 3,
   "id": "06ed8be5",
   "metadata": {},
   "outputs": [
    {
     "name": "stdout",
     "output_type": "stream",
     "text": [
      "7\n",
      "-1\n"
     ]
    }
   ],
   "source": [
    "class ListNode:\n",
    "    def __init__(self, val=0, next=None):\n",
    "        self.val = val\n",
    "        self.next = next\n",
    "\n",
    "def find_nth_from_end(head, N):\n",
    "    if not head:\n",
    "        return -1\n",
    "\n",
    "    slow = head\n",
    "    fast = head\n",
    "\n",
    "    # Move the fast pointer N nodes ahead\n",
    "    for _ in range(N):\n",
    "        if not fast:\n",
    "            return -1\n",
    "        fast = fast.next\n",
    "\n",
    "    # Move both pointers until the fast pointer reaches the end\n",
    "    while fast and fast.next:\n",
    "        slow = slow.next\n",
    "        fast = fast.next\n",
    "\n",
    "    # If the fast pointer reaches the end, the slow pointer is at the Nth node from the end\n",
    "    return slow.val\n",
    "\n",
    "# Test cases\n",
    "# Example 1\n",
    "linked_list1 = ListNode(1)\n",
    "linked_list1.next = ListNode(2)\n",
    "linked_list1.next.next = ListNode(3)\n",
    "linked_list1.next.next.next = ListNode(4)\n",
    "linked_list1.next.next.next.next = ListNode(5)\n",
    "linked_list1.next.next.next.next.next = ListNode(6)\n",
    "linked_list1.next.next.next.next.next.next = ListNode(7)\n",
    "linked_list1.next.next.next.next.next.next.next = ListNode(8)\n",
    "linked_list1.next.next.next.next.next.next.next.next = ListNode(9)\n",
    "print(find_nth_from_end(linked_list1, 2))  # Output: 8\n",
    "\n",
    "# Example 2\n",
    "linked_list2 = ListNode(10)\n",
    "linked_list2.next = ListNode(5)\n",
    "linked_list2.next.next = ListNode(100)\n",
    "linked_list2.next.next.next = ListNode(5)\n",
    "print(find_nth_from_end(linked_list2, 5))  # Output: -1\n"
   ]
  },
  {
   "cell_type": "markdown",
   "id": "c5476cb9",
   "metadata": {},
   "source": [
    "# <aside>\n",
    "💡 **Question 4**\n",
    "\n",
    "Given a singly linked list of characters, write a function that returns true if the given list is a palindrome, else false.\n",
    "**Examples:**\n",
    "\n",
    "> Input: R->A->D->A->R->NULL\n",
    "> \n",
    "> \n",
    "> **Output:** Yes\n",
    "> \n",
    "> **Input:** C->O->D->E->NULL\n",
    "> \n",
    "> **Output:** No\n",
    ">\n",
    "\n",
    "\n",
    "</aside>"
   ]
  },
  {
   "cell_type": "markdown",
   "id": "e80efd2b",
   "metadata": {},
   "source": [
    "# Solution"
   ]
  },
  {
   "cell_type": "markdown",
   "id": "4ea5c818",
   "metadata": {},
   "source": [
    "To check if a singly linked list of characters is a palindrome, we can use a two-step approach:\n",
    "\n",
    "Reverse the second half of the linked list.\n",
    "Compare the first half and the reversed second half to check if they are identical.\n",
    "Here's how we can implement this in Python:"
   ]
  },
  {
   "cell_type": "code",
   "execution_count": 4,
   "id": "de3a24df",
   "metadata": {},
   "outputs": [
    {
     "name": "stdout",
     "output_type": "stream",
     "text": [
      "True\n",
      "False\n"
     ]
    }
   ],
   "source": [
    "class ListNode:\n",
    "    def __init__(self, val=0, next=None):\n",
    "        self.val = val\n",
    "        self.next = next\n",
    "\n",
    "def is_palindrome(head):\n",
    "    if not head or not head.next:\n",
    "        return True\n",
    "\n",
    "    # Find the middle of the linked list using slow and fast pointers\n",
    "    slow = head\n",
    "    fast = head\n",
    "    while fast and fast.next:\n",
    "        slow = slow.next\n",
    "        fast = fast.next.next\n",
    "\n",
    "    # Reverse the second half of the linked list\n",
    "    prev = None\n",
    "    current = slow\n",
    "    while current:\n",
    "        next_node = current.next\n",
    "        current.next = prev\n",
    "        prev = current\n",
    "        current = next_node\n",
    "\n",
    "    # Compare the first half and the reversed second half for palindrome check\n",
    "    first_half = head\n",
    "    second_half = prev\n",
    "    while second_half:\n",
    "        if first_half.val != second_half.val:\n",
    "            return False\n",
    "        first_half = first_half.next\n",
    "        second_half = second_half.next\n",
    "\n",
    "    return True\n",
    "\n",
    "# Test cases\n",
    "# Example 1\n",
    "linked_list1 = ListNode('R')\n",
    "linked_list1.next = ListNode('A')\n",
    "linked_list1.next.next = ListNode('D')\n",
    "linked_list1.next.next.next = ListNode('A')\n",
    "linked_list1.next.next.next.next = ListNode('R')\n",
    "print(is_palindrome(linked_list1))  # Output: True\n",
    "\n",
    "# Example 2\n",
    "linked_list2 = ListNode('C')\n",
    "linked_list2.next = ListNode('O')\n",
    "linked_list2.next.next = ListNode('D')\n",
    "linked_list2.next.next.next = ListNode('E')\n",
    "print(is_palindrome(linked_list2))  # Output: False\n"
   ]
  },
  {
   "cell_type": "markdown",
   "id": "b0493e11",
   "metadata": {},
   "source": [
    "# <aside>\n",
    "💡 **Question 7**\n",
    "\n",
    "Given two linked lists, insert nodes of second list into first list at alternate positions of first list.\n",
    "For example, if first list is 5->7->17->13->11 and second is 12->10->2->4->6, the first list should become 5->12->7->10->17->2->13->4->11->6 and second list should become empty. The nodes of second list should only be inserted when there are positions available. For example, if the first list is 1->2->3 and second list is 4->5->6->7->8, then first list should become 1->4->2->5->3->6 and second list to 7->8.\n",
    "\n",
    "Use of extra space is not allowed (Not allowed to create additional nodes), i.e., insertion must be done in-place. Expected time complexity is O(n) where n is number of nodes in first list.\n",
    "\n",
    "</aside>"
   ]
  },
  {
   "cell_type": "markdown",
   "id": "e75f5b0d",
   "metadata": {},
   "source": [
    "# Solution"
   ]
  },
  {
   "cell_type": "markdown",
   "id": "d0ab336a",
   "metadata": {},
   "source": [
    "To insert nodes of the second linked list into the first list at alternate positions without using extra space and with a time complexity of O(n), we can perform the following steps:\n",
    "\n",
    "Traverse both linked lists simultaneously.\n",
    "For each node in the second linked list, remove it from the second list and insert it after the current node of the first linked list.\n",
    "Here's how we can implement this in Python:"
   ]
  },
  {
   "cell_type": "code",
   "execution_count": 5,
   "id": "b56db75d",
   "metadata": {},
   "outputs": [
    {
     "name": "stdout",
     "output_type": "stream",
     "text": [
      "First Linked List:\n",
      "5 7 17 13 11 \n",
      "Second Linked List:\n",
      "12 10 2 4 6 \n",
      "Modified First Linked List:\n",
      "5 12 7 10 17 2 13 4 11 6 \n",
      "Modified Second Linked List:\n",
      "\n"
     ]
    }
   ],
   "source": [
    "class ListNode:\n",
    "    def __init__(self, val=0, next=None):\n",
    "        self.val = val\n",
    "        self.next = next\n",
    "\n",
    "def insert_alternate_positions(first_head, second_head):\n",
    "    if not second_head:\n",
    "        return first_head\n",
    "\n",
    "    first_current = first_head\n",
    "    second_current = second_head\n",
    "\n",
    "    while first_current and second_current:\n",
    "        first_next = first_current.next\n",
    "        second_next = second_current.next\n",
    "\n",
    "        first_current.next = second_current\n",
    "        second_current.next = first_next\n",
    "\n",
    "        first_current = first_next\n",
    "        second_current = second_next\n",
    "\n",
    "    return first_head, second_current\n",
    "\n",
    "def print_linked_list(head):\n",
    "    current = head\n",
    "    while current:\n",
    "        print(current.val, end=\" \")\n",
    "        current = current.next\n",
    "    print()\n",
    "\n",
    "# Test cases\n",
    "# Example 1\n",
    "first_linked_list1 = ListNode(5)\n",
    "first_linked_list1.next = ListNode(7)\n",
    "first_linked_list1.next.next = ListNode(17)\n",
    "first_linked_list1.next.next.next = ListNode(13)\n",
    "first_linked_list1.next.next.next.next = ListNode(11)\n",
    "\n",
    "second_linked_list1 = ListNode(12)\n",
    "second_linked_list1.next = ListNode(10)\n",
    "second_linked_list1.next.next = ListNode(2)\n",
    "second_linked_list1.next.next.next = ListNode(4)\n",
    "second_linked_list1.next.next.next.next = ListNode(6)\n",
    "\n",
    "print(\"First Linked List:\")\n",
    "print_linked_list(first_linked_list1)\n",
    "print(\"Second Linked List:\")\n",
    "print_linked_list(second_linked_list1)\n",
    "\n",
    "first_head, second_head = insert_alternate_positions(first_linked_list1, second_linked_list1)\n",
    "\n",
    "print(\"Modified First Linked List:\")\n",
    "print_linked_list(first_head)\n",
    "print(\"Modified Second Linked List:\")\n",
    "print_linked_list(second_head)\n"
   ]
  },
  {
   "cell_type": "markdown",
   "id": "aac991a2",
   "metadata": {},
   "source": [
    "# <aside>\n",
    "💡 **Question 8**\n",
    "\n",
    "Given a singly linked list, find if the linked list is [circular](https://www.geeksforgeeks.org/circular-linked-list/amp/) or not.\n",
    "\n",
    "> A linked list is called circular if it is not NULL-terminated and all nodes are connected in the form of a cycle. Below is an example of a circular linked list.\n",
    "> \n",
    "</aside>"
   ]
  },
  {
   "cell_type": "markdown",
   "id": "f9c5ac6a",
   "metadata": {},
   "source": [
    "# Solution"
   ]
  },
  {
   "cell_type": "markdown",
   "id": "c178656c",
   "metadata": {},
   "source": [
    "To determine if a singly linked list is circular or not, we can use the Floyd's Tortoise and Hare (Cycle Detection) algorithm. In this algorithm, we use two pointers: slow and fast. The slow pointer moves one step at a time, while the fast pointer moves two steps at a time. If the linked list is circular, the fast pointer will eventually catch up to the slow pointer, indicating the presence of a cycle.\n",
    "\n",
    "Here's how we can implement this in Python:"
   ]
  },
  {
   "cell_type": "code",
   "execution_count": 6,
   "id": "8625fef8",
   "metadata": {},
   "outputs": [
    {
     "name": "stdout",
     "output_type": "stream",
     "text": [
      "True\n",
      "False\n"
     ]
    }
   ],
   "source": [
    "class ListNode:\n",
    "    def __init__(self, val=0, next=None):\n",
    "        self.val = val\n",
    "        self.next = next\n",
    "\n",
    "def is_circular(head):\n",
    "    if not head:\n",
    "        return False\n",
    "\n",
    "    slow = head\n",
    "    fast = head.next\n",
    "\n",
    "    while fast and fast.next:\n",
    "        if slow == fast:\n",
    "            return True\n",
    "        slow = slow.next\n",
    "        fast = fast.next.next\n",
    "\n",
    "    return False\n",
    "\n",
    "# Test cases\n",
    "# Example 1\n",
    "linked_list1 = ListNode(1)\n",
    "linked_list1.next = ListNode(2)\n",
    "linked_list1.next.next = ListNode(3)\n",
    "linked_list1.next.next.next = linked_list1  # Create a cycle\n",
    "print(is_circular(linked_list1))  # Output: True\n",
    "\n",
    "# Example 2\n",
    "linked_list2 = ListNode(1)\n",
    "linked_list2.next = ListNode(2)\n",
    "linked_list2.next.next = ListNode(3)\n",
    "print(is_circular(linked_list2))  # Output: False\n"
   ]
  },
  {
   "cell_type": "code",
   "execution_count": null,
   "id": "c92d3c5c",
   "metadata": {},
   "outputs": [],
   "source": []
  }
 ],
 "metadata": {
  "kernelspec": {
   "display_name": "Python 3 (ipykernel)",
   "language": "python",
   "name": "python3"
  },
  "language_info": {
   "codemirror_mode": {
    "name": "ipython",
    "version": 3
   },
   "file_extension": ".py",
   "mimetype": "text/x-python",
   "name": "python",
   "nbconvert_exporter": "python",
   "pygments_lexer": "ipython3",
   "version": "3.9.7"
  }
 },
 "nbformat": 4,
 "nbformat_minor": 5
}
