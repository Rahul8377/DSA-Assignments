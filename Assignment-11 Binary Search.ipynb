{
 "cells": [
  {
   "cell_type": "markdown",
   "id": "9407abc8",
   "metadata": {},
   "source": [
    "# Assignment Questions 11"
   ]
  },
  {
   "cell_type": "markdown",
   "id": "63083611",
   "metadata": {},
   "source": [
    "# <aside>\n",
    "💡 **Question 1**\n",
    "\n",
    "Given a non-negative integer `x`, return *the square root of* `x` *rounded down to the nearest integer*. The returned integer should be **non-negative** as well.\n",
    "\n",
    "You **must not use** any built-in exponent function or operator.\n",
    "\n",
    "- For example, do not use `pow(x, 0.5)` in c++ or `x ** 0.5` in python.\n",
    "\n",
    "**Example 1:**\n",
    "\n",
    "Input: x = 4\n",
    "Output: 2\n",
    "Explanation: The square root of 4 is 2, so we return 2.\n",
    "    \n",
    "\n",
    "\n",
    "**Example 2:**\n",
    "    \n",
    "Input: x = 8\n",
    "Output: 2\n",
    "Explanation: The square root of 8 is 2.82842..., and since we round it down to the nearest integer, 2 is returned.    \n",
    "\n",
    "</aside>\n"
   ]
  },
  {
   "cell_type": "markdown",
   "id": "68476004",
   "metadata": {},
   "source": [
    "To find the square root of a non-negative integer x and round it down to the nearest integer, we can use a binary search approach to find the integer square root.\n",
    "\n",
    "The idea is to find the largest integer y such that y*y <= x. We can use binary search to find this integer y.\n",
    "\n",
    "Here's the Python function to calculate the square root:"
   ]
  },
  {
   "cell_type": "code",
   "execution_count": 1,
   "id": "edd1488f",
   "metadata": {},
   "outputs": [
    {
     "name": "stdout",
     "output_type": "stream",
     "text": [
      "2\n",
      "2\n"
     ]
    }
   ],
   "source": [
    "def sqrt(x):\n",
    "    if x == 0 or x == 1:\n",
    "        return x\n",
    "\n",
    "    left, right = 1, x // 2\n",
    "\n",
    "    while left <= right:\n",
    "        mid = (left + right) // 2\n",
    "        mid_squared = mid * mid\n",
    "\n",
    "        if mid_squared == x:\n",
    "            return mid\n",
    "        elif mid_squared < x:\n",
    "            left = mid + 1\n",
    "        else:\n",
    "            right = mid - 1\n",
    "\n",
    "    return right\n",
    "\n",
    "# Test examples\n",
    "print(sqrt(4))  # Output: 2\n",
    "print(sqrt(8))  # Output: 2\n"
   ]
  },
  {
   "cell_type": "markdown",
   "id": "9fefd64a",
   "metadata": {},
   "source": [
    "# <aside>\n",
    "💡 **Question 2**\n",
    "\n",
    "A peak element is an element that is strictly greater than its neighbors.\n",
    "\n",
    "Given a **0-indexed** integer array `nums`, find a peak element, and return its index. If the array contains multiple peaks, return the index to **any of the peaks**.\n",
    "\n",
    "You may imagine that `nums[-1] = nums[n] = -∞`. In other words, an element is always considered to be strictly greater than a neighbor that is outside the array.\n",
    "\n",
    "You must write an algorithm that runs in `O(log n)` time.\n",
    "\n",
    "**Example 1:**\n",
    "    \n",
    "    Input: nums = [1,2,3,1]\n",
    "Output: 2\n",
    "Explanation: 3 is a peak element and your function should return the index number 2.\n",
    "\n",
    "Example 2:\n",
    "    \n",
    "    Input: nums = [1,2,1,3,5,6,4]\n",
    "Output: 5\n",
    "Explanation: Your function can return either index number 1 where the peak element is 2, or index number 5 where the peak element is 6.\n",
    "\n",
    "</aside>"
   ]
  },
  {
   "cell_type": "markdown",
   "id": "8927a215",
   "metadata": {},
   "source": [
    "# Solution"
   ]
  },
  {
   "cell_type": "markdown",
   "id": "ddf8088b",
   "metadata": {},
   "source": [
    "To find a peak element in a given array nums with a time complexity of O(log n), we can use the binary search algorithm. The idea is to narrow down the search space by comparing elements with their neighbors.\n",
    "\n",
    "Here's a Python function to achieve this:"
   ]
  },
  {
   "cell_type": "code",
   "execution_count": 1,
   "id": "133c8ceb",
   "metadata": {},
   "outputs": [
    {
     "name": "stdout",
     "output_type": "stream",
     "text": [
      "2\n",
      "5\n"
     ]
    }
   ],
   "source": [
    "def find_peak_element(nums):\n",
    "    left, right = 0, len(nums) - 1\n",
    "\n",
    "    while left < right:\n",
    "        mid = left + (right - left) // 2\n",
    "\n",
    "        if nums[mid] > nums[mid + 1]:\n",
    "            right = mid\n",
    "        else:\n",
    "            left = mid + 1\n",
    "\n",
    "    return left\n",
    "\n",
    "# Test cases\n",
    "print(find_peak_element([1, 2, 3, 1]))  # Output: 2\n",
    "print(find_peak_element([1, 2, 1, 3, 5, 6, 4]))  # Output: 5 or 1\n"
   ]
  },
  {
   "cell_type": "markdown",
   "id": "f3a83cdc",
   "metadata": {},
   "source": [
    "\n",
    "To find a peak element in a given array nums with a time complexity of O(log n), we can use the binary search algorithm. The idea is to narrow down the search space by comparing elements with their neighbors.\n",
    "\n",
    "Here's a Python function to achieve this:\n",
    "\n",
    "python\n",
    "Copy code\n",
    "def find_peak_element(nums):\n",
    "    left, right = 0, len(nums) - 1\n",
    "\n",
    "    while left < right:\n",
    "        mid = left + (right - left) // 2\n",
    "\n",
    "        if nums[mid] > nums[mid + 1]:\n",
    "            right = mid\n",
    "        else:\n",
    "            left = mid + 1\n",
    "\n",
    "    return left\n",
    "\n",
    "# Test cases\n",
    "print(find_peak_element([1, 2, 3, 1]))  # Output: 2\n",
    "print(find_peak_element([1, 2, 1, 3, 5, 6, 4]))  # Output: 5 or 1\n",
    "Explanation:\n",
    "\n",
    "We start with defining the search space with left and right pointers at the beginning and end of the array, respectively.\n",
    "We perform a binary search within this search space until left becomes equal to right. At each step, we calculate the middle index mid to compare nums[mid] with its right neighbor nums[mid + 1].\n",
    "If nums[mid] > nums[mid + 1], it means we are on the decreasing side of the peak, and the peak element (strictly greater than its right neighbor) might be to the left of the mid. So, we update right to mid, effectively narrowing the search space to the left half.\n",
    "If nums[mid] <= nums[mid + 1], it means we are on the increasing side of the peak, and the peak element might be to the right of the mid. So, we update left to mid + 1, effectively narrowing the search space to the right half.\n",
    "We repeat the process until left and right converge to a single index, which will be the index of the peak element.\n",
    "Note: The algorithm returns any peak element it finds. In the second example, the function may return either 5 or 1, both of which are peak elements."
   ]
  },
  {
   "cell_type": "markdown",
   "id": "8f9621fc",
   "metadata": {},
   "source": [
    "# <aside>\n",
    "💡 **Question 3**\n",
    "\n",
    "****\n",
    "\n",
    "Given an array `nums` containing `n` distinct numbers in the range `[0, n]`, return *the only number in the range that is missing from the array.*\n",
    "\n",
    "**Example 1:**\n",
    "    \n",
    "    \n",
    "    Input: nums = [3,0,1]\n",
    "Output: 2\n",
    "Explanation: n = 3 since there are 3 numbers, so all numbers are in the range [0,3]. 2 is the missing number in the range since it does not appear in nums.\n",
    "\n",
    "    \n",
    "    Example 2:\n",
    "    \n",
    "    \n",
    "    Input: nums = [0,1]\n",
    "Output: 2\n",
    "Explanation: n = 2 since there are 2 numbers, so all numbers are in the range [0,2]. 2 is the missing number in the range since it does not appear in nums.\n",
    "\n",
    "    \n",
    "    Example 3:\n",
    "    \n",
    "    Input: nums = [9,6,4,2,3,5,7,0,1]\n",
    "Output: 8\n",
    "Explanation: n = 9 since there are 9 numbers, so all numbers are in the range [0,9]. 8 is the missing number in the range since it does not appear in nums.\n",
    "\n",
    "</aside>"
   ]
  },
  {
   "cell_type": "markdown",
   "id": "c4fe9ffb",
   "metadata": {},
   "source": [
    "# Solution"
   ]
  },
  {
   "cell_type": "markdown",
   "id": "c8d44f2e",
   "metadata": {},
   "source": [
    "To find the missing number in the given range, we can use the XOR operation. The idea is to XOR all the elements in the array with all the numbers in the range [0, n]. The XOR of two equal numbers will cancel out, leaving only the missing number in the result.\n",
    "\n",
    "Here's a Python function to find the missing number using XOR:"
   ]
  },
  {
   "cell_type": "code",
   "execution_count": 2,
   "id": "ae6d051d",
   "metadata": {},
   "outputs": [
    {
     "name": "stdout",
     "output_type": "stream",
     "text": [
      "2\n",
      "2\n",
      "8\n"
     ]
    }
   ],
   "source": [
    "def find_missing_number(nums):\n",
    "    n = len(nums)\n",
    "    missing_number = n\n",
    "\n",
    "    for i in range(n):\n",
    "        missing_number ^= i ^ nums[i]\n",
    "\n",
    "    return missing_number\n",
    "\n",
    "# Test cases\n",
    "print(find_missing_number([3, 0, 1]))  # Output: 2\n",
    "print(find_missing_number([0, 1]))  # Output: 2\n",
    "print(find_missing_number([9, 6, 4, 2, 3, 5, 7, 0, 1]))  # Output: 8\n"
   ]
  },
  {
   "cell_type": "markdown",
   "id": "3307f0e7",
   "metadata": {},
   "source": [
    "Explanation:\n",
    "\n",
    "We initialize the missing_number to n, which is the maximum possible number in the range [0, n].\n",
    "Then, we iterate through the nums array and XOR each element with its index i and with missing_number. This effectively cancels out all the numbers that are present in the array.\n",
    "After the loop, the only remaining value in missing_number will be the missing number in the range [0, n], and we return it as the result.\n",
    "This algorithm has a time complexity of O(n) since it iterates through the entire array once. It works for arrays with distinct numbers and can find the missing number even if the elements are not sorted."
   ]
  },
  {
   "cell_type": "markdown",
   "id": "6c93ea01",
   "metadata": {},
   "source": [
    "# <aside>\n",
    "💡 **Question 4**\n",
    "\n",
    "Given an array of integers `nums` containing `n + 1` integers where each integer is in the range `[1, n]` inclusive.\n",
    "\n",
    "There is only **one repeated number** in `nums`, return *this repeated number*.\n",
    "\n",
    "You must solve the problem **without** modifying the array `nums` and uses only constant extra space.\n",
    "\n",
    "**Example 1:**\n",
    "    \n",
    "    \n",
    "    Input: nums = [1,3,4,2,2]\n",
    "Output: 2\n",
    "\n",
    "    \n",
    "    Example 2:\n",
    "        \n",
    "        Input: nums = [3,1,3,4,2]\n",
    "Output: 3\n",
    "\n",
    "</aside>"
   ]
  },
  {
   "cell_type": "markdown",
   "id": "7f7128fd",
   "metadata": {},
   "source": [
    "# Solution"
   ]
  },
  {
   "cell_type": "markdown",
   "id": "0e762458",
   "metadata": {},
   "source": [
    "To find the repeated number in the given array nums, we can use the Floyd's Tortoise and Hare (Cycle Detection) algorithm. This algorithm is specifically designed to find cycles in linked lists, but it can also be used to find duplicates in an array.\n",
    "\n",
    "Here's how the algorithm works:\n",
    "\n",
    "Initialize two pointers, slow and fast, to the first element of the array.\n",
    "Move slow one step at a time (i.e., slow = nums[slow]), and fast two steps at a time (i.e., fast = nums[nums[fast]]) until they meet.\n",
    "When they meet, reset one of the pointers (e.g., fast) to the first element of the array and move both pointers one step at a time until they meet again. The point where they meet is the start of the cycle.\n",
    "The start of the cycle corresponds to the repeated number in the array.\n",
    "Let's implement this algorithm in Python:"
   ]
  },
  {
   "cell_type": "code",
   "execution_count": 3,
   "id": "3191ceb9",
   "metadata": {},
   "outputs": [
    {
     "name": "stdout",
     "output_type": "stream",
     "text": [
      "2\n",
      "3\n"
     ]
    }
   ],
   "source": [
    "def find_duplicate(nums):\n",
    "    # Phase 1: Find the intersection point of the cycle (if there's a cycle)\n",
    "    slow = nums[0]\n",
    "    fast = nums[0]\n",
    "\n",
    "    while True:\n",
    "        slow = nums[slow]\n",
    "        fast = nums[nums[fast]]\n",
    "\n",
    "        if slow == fast:\n",
    "            break\n",
    "\n",
    "    # Phase 2: Find the start of the cycle (repeated number)\n",
    "    fast = nums[0]\n",
    "    while slow != fast:\n",
    "        slow = nums[slow]\n",
    "        fast = nums[fast]\n",
    "\n",
    "    return slow\n",
    "\n",
    "# Test cases\n",
    "print(find_duplicate([1, 3, 4, 2, 2]))  # Output: 2\n",
    "print(find_duplicate([3, 1, 3, 4, 2]))  # Output: 3\n"
   ]
  },
  {
   "cell_type": "markdown",
   "id": "806a46fc",
   "metadata": {},
   "source": [
    "Explanation:\n",
    "\n",
    "In phase 1, we use the slow and fast pointers to find the intersection point inside the cycle. Since there's only one repeated number in the array, there must be a cycle where the duplicate number is located. The intersection point is guaranteed to be inside the cycle, as it cannot be at the beginning (0) due to the constraint that the numbers are in the range [1, n].\n",
    "In phase 2, we reset one of the pointers (fast) to the first element and move both pointers until they meet again. The point where they meet corresponds to the start of the cycle, which is the repeated number we are looking for.\n",
    "This algorithm runs in O(n) time and uses only constant extra space, fulfilling the requirements of the problem."
   ]
  },
  {
   "cell_type": "markdown",
   "id": "65ba371b",
   "metadata": {},
   "source": [
    "<aside>\n",
    "💡 **Question 5**\n",
    "\n",
    "Given two integer arrays `nums1` and `nums2`, return *an array of their intersection*. Each element in the result must be **unique** and you may return the result in **any order**.\n",
    "\n",
    "**Example 1:**\n",
    "\n",
    "Input: nums1 = [1,2,2,1], nums2 = [2,2]\n",
    "Output: [2]\n",
    "\n",
    "    Example 2:\n",
    "        \n",
    "        Input: nums1 = [4,9,5], nums2 = [9,4,9,8,4]\n",
    "Output: [9,4]\n",
    "Explanation: [4,9] is also accepted.\n",
    "\n",
    "</aside>"
   ]
  },
  {
   "cell_type": "markdown",
   "id": "7d58d185",
   "metadata": {},
   "source": [
    "# Solution"
   ]
  },
  {
   "cell_type": "markdown",
   "id": "5a2f711c",
   "metadata": {},
   "source": [
    "To find the intersection of two arrays nums1 and nums2 with unique elements, we can use Python's set data structure. Sets automatically remove duplicate elements, and we can easily find the intersection of two sets.\n",
    "\n",
    "Here's the Python function to achieve this:"
   ]
  },
  {
   "cell_type": "code",
   "execution_count": 6,
   "id": "df74e898",
   "metadata": {},
   "outputs": [
    {
     "name": "stdout",
     "output_type": "stream",
     "text": [
      "[2]\n",
      "[9, 4]\n"
     ]
    }
   ],
   "source": [
    "def intersection(nums1, nums2):\n",
    "    set_nums1 = set(nums1)\n",
    "    set_nums2 = set(nums2)\n",
    "    \n",
    "    return list(set_nums1.intersection(set_nums2))\n",
    "\n",
    "# Test cases\n",
    "print(intersection([1, 2, 2, 1], [2, 2]))  # Output: [2]\n",
    "print(intersection([4, 9, 5], [9, 4, 9, 8, 4]))  # Output: [9, 4] or [4, 9]\n"
   ]
  },
  {
   "cell_type": "markdown",
   "id": "56f2d6e0",
   "metadata": {},
   "source": [
    "<aside>\n",
    "💡 **Question 6**\n",
    "\n",
    "Suppose an array of length `n` sorted in ascending order is **rotated** between `1` and `n` times. For example, the array `nums = [0,1,2,4,5,6,7]` might become:\n",
    "\n",
    "- `[4,5,6,7,0,1,2]` if it was rotated `4` times.\n",
    "- `[0,1,2,4,5,6,7]` if it was rotated `7` times.\n",
    "\n",
    "Notice that **rotating** an array `[a[0], a[1], a[2], ..., a[n-1]]` 1 time results in the array `[a[n-1], a[0], a[1], a[2], ..., a[n-2]]`.\n",
    "\n",
    "Given the sorted rotated array `nums` of **unique** elements, return *the minimum element of this array*.\n",
    "\n",
    "You must write an algorithm that runs in `O(log n) time.`\n",
    "\n",
    "**Example 1:**\n",
    "\n",
    "    Input: nums = [3,4,5,1,2]\n",
    "Output: 1\n",
    "Explanation: The original array was [1,2,3,4,5] rotated 3 times.\n",
    "\n",
    "    Example 2:\n",
    "        \n",
    "        Input: nums = [4,5,6,7,0,1,2]\n",
    "Output: 0\n",
    "Explanation: The original array was [0,1,2,4,5,6,7] and it was rotated 4 times.\n",
    "\n",
    "    \n",
    "    \n",
    "    Example 3:\n",
    "        \n",
    "        \n",
    "        Input: nums = [11,13,15,17]\n",
    "Output: 11\n",
    "Explanation: The original array was [11,13,15,17] and it was rotated 4 times.\n",
    "</aside>"
   ]
  },
  {
   "cell_type": "markdown",
   "id": "c1c32284",
   "metadata": {},
   "source": [
    "# Solution"
   ]
  },
  {
   "cell_type": "markdown",
   "id": "4f1cadc0",
   "metadata": {},
   "source": [
    "To find the minimum element in a sorted, rotated array with unique elements in O(log n) time, we can use the binary search algorithm. The idea is to find the pivot point where the rotation occurs and then return the element just after the pivot as the minimum element.\n",
    "\n",
    "Here's a Python function to achieve this:"
   ]
  },
  {
   "cell_type": "code",
   "execution_count": 7,
   "id": "506ff557",
   "metadata": {},
   "outputs": [
    {
     "name": "stdout",
     "output_type": "stream",
     "text": [
      "1\n",
      "0\n",
      "11\n"
     ]
    }
   ],
   "source": [
    "def find_minimum(nums):\n",
    "    left, right = 0, len(nums) - 1\n",
    "\n",
    "    while left < right:\n",
    "        mid = left + (right - left) // 2\n",
    "\n",
    "        if nums[mid] > nums[right]:\n",
    "            left = mid + 1\n",
    "        else:\n",
    "            right = mid\n",
    "\n",
    "    return nums[left]\n",
    "\n",
    "# Test cases\n",
    "print(find_minimum([3, 4, 5, 1, 2]))  # Output: 1\n",
    "print(find_minimum([4, 5, 6, 7, 0, 1, 2]))  # Output: 0\n",
    "print(find_minimum([11, 13, 15, 17]))  # Output: 11\n"
   ]
  },
  {
   "cell_type": "markdown",
   "id": "99fc606e",
   "metadata": {},
   "source": [
    "Explanation:\n",
    "\n",
    "We initialize two pointers, left and right, to the beginning and end of the array, respectively.\n",
    "In each iteration of the binary search, we calculate the middle index mid.\n",
    "We compare the element at mid with the element at right. If nums[mid] is greater than nums[right], it means the pivot (the point of rotation) lies somewhere to the right of mid, so we update left = mid + 1.\n",
    "If nums[mid] is less than or equal to nums[right], it means the pivot is at or to the left of mid, so we update right = mid.\n",
    "The loop continues until left and right converge to the minimum element, and we return nums[left] as the result.\n",
    "The binary search approach ensures that the algorithm runs in O(log n) time, making it efficient for finding the minimum element in a sorted, rotated array."
   ]
  },
  {
   "cell_type": "markdown",
   "id": "a866615d",
   "metadata": {},
   "source": [
    "# <aside>\n",
    "💡 **Question 7**\n",
    "\n",
    "Given an array of integers `nums` sorted in non-decreasing order, find the starting and ending position of a given `target` value.\n",
    "\n",
    "If `target` is not found in the array, return `[-1, -1]`.\n",
    "\n",
    "You must write an algorithm with `O(log n)` runtime complexity.\n",
    "\n",
    "**Example 1:**\n",
    "    \n",
    "    Input: nums = [5,7,7,8,8,10], target = 8\n",
    "Output: [3,4]\n",
    "Example 2:\n",
    "    \n",
    "    Input: nums = [5,7,7,8,8,10], target = 6\n",
    "Output: [-1,-1]\n",
    "\n",
    "    Example 3:\n",
    "        \n",
    "        Input: nums = [], target = 0\n",
    "Output: [-1,-1]\n",
    "    \n",
    "\n",
    "</aside>"
   ]
  },
  {
   "cell_type": "markdown",
   "id": "f6b8aa8d",
   "metadata": {},
   "source": [
    "# Solution"
   ]
  },
  {
   "cell_type": "markdown",
   "id": "9d6f4967",
   "metadata": {},
   "source": [
    "To find the starting and ending positions of a given target value in the sorted array with O(log n) runtime complexity, we can use binary search twice. One binary search will find the leftmost occurrence of the target, and the other will find the rightmost occurrence.\n",
    "\n",
    "Here's a Python function to achieve this:"
   ]
  },
  {
   "cell_type": "code",
   "execution_count": 8,
   "id": "e81c15d3",
   "metadata": {},
   "outputs": [
    {
     "name": "stdout",
     "output_type": "stream",
     "text": [
      "[3, 4]\n",
      "[-1, -1]\n",
      "[-1, -1]\n"
     ]
    }
   ],
   "source": [
    "def find_leftmost(nums, target):\n",
    "    left, right = 0, len(nums) - 1\n",
    "    leftmost = -1\n",
    "\n",
    "    while left <= right:\n",
    "        mid = left + (right - left) // 2\n",
    "\n",
    "        if nums[mid] == target:\n",
    "            leftmost = mid\n",
    "            right = mid - 1\n",
    "        elif nums[mid] < target:\n",
    "            left = mid + 1\n",
    "        else:\n",
    "            right = mid - 1\n",
    "\n",
    "    return leftmost\n",
    "\n",
    "def find_rightmost(nums, target):\n",
    "    left, right = 0, len(nums) - 1\n",
    "    rightmost = -1\n",
    "\n",
    "    while left <= right:\n",
    "        mid = left + (right - left) // 2\n",
    "\n",
    "        if nums[mid] == target:\n",
    "            rightmost = mid\n",
    "            left = mid + 1\n",
    "        elif nums[mid] < target:\n",
    "            left = mid + 1\n",
    "        else:\n",
    "            right = mid - 1\n",
    "\n",
    "    return rightmost\n",
    "\n",
    "def search_range(nums, target):\n",
    "    leftmost = find_leftmost(nums, target)\n",
    "    rightmost = find_rightmost(nums, target)\n",
    "    return [leftmost, rightmost]\n",
    "\n",
    "# Test cases\n",
    "print(search_range([5, 7, 7, 8, 8, 10], 8))  # Output: [3, 4]\n",
    "print(search_range([5, 7, 7, 8, 8, 10], 6))  # Output: [-1, -1]\n",
    "print(search_range([], 0))  # Output: [-1, -1]\n"
   ]
  },
  {
   "cell_type": "markdown",
   "id": "3c419c69",
   "metadata": {},
   "source": [
    "Explanation:\n",
    "\n",
    "The find_leftmost function performs a binary search to find the leftmost occurrence of the target. When we find a match, we keep updating the leftmost variable to the current mid, and continue the binary search to the left to find any earlier occurrences.\n",
    "The find_rightmost function performs a binary search to find the rightmost occurrence of the target. When we find a match, we keep updating the rightmost variable to the current mid, and continue the binary search to the right to find any later occurrences.\n",
    "The search_range function calls the find_leftmost and find_rightmost functions and returns a list containing the leftmost and rightmost occurrences of the target. If the target is not found, the functions will return -1, and the output will be [-1, -1]. Otherwise, it will return the starting and ending positions of the target in the array.\n",
    "Since binary search is used twice separately, the overall time complexity is O(log n), meeting the required runtime complexity."
   ]
  },
  {
   "cell_type": "markdown",
   "id": "16d879ca",
   "metadata": {},
   "source": [
    "# <aside>\n",
    "💡 **Question 8**\n",
    "\n",
    "Given two integer arrays `nums1` and `nums2`, return *an array of their intersection*. Each element in the result must appear as many times as it shows in both arrays and you may return the result in **any order**.\n",
    "\n",
    "**Example 1:**\n",
    "\n",
    "Input: nums1 = [1,2,2,1], nums2 = [2,2]\n",
    "Output: [2,2]\n",
    "\n",
    "    Example 2:\n",
    "        \n",
    "        Input: nums1 = [4,9,5], nums2 = [9,4,9,8,4]\n",
    "Output: [4,9]\n",
    "Explanation: [9,4] is also accepted.\n",
    "\n",
    "</aside>"
   ]
  },
  {
   "cell_type": "markdown",
   "id": "5046c843",
   "metadata": {},
   "source": [
    "# Solution"
   ]
  },
  {
   "cell_type": "markdown",
   "id": "fa348e1b",
   "metadata": {},
   "source": [
    "To find the intersection of two integer arrays nums1 and nums2, taking into account the count of occurrences, we can use a Python dictionary to keep track of the elements and their frequencies in each array.\n",
    "\n",
    "Here's a Python function to achieve this:"
   ]
  },
  {
   "cell_type": "code",
   "execution_count": 9,
   "id": "455f2acc",
   "metadata": {},
   "outputs": [
    {
     "name": "stdout",
     "output_type": "stream",
     "text": [
      "[2, 2]\n",
      "[4, 9]\n"
     ]
    }
   ],
   "source": [
    "def find_intersection(nums1, nums2):\n",
    "    # Create dictionaries to store element frequencies\n",
    "    freq_nums1 = {}\n",
    "    freq_nums2 = {}\n",
    "    \n",
    "    # Count element frequencies in nums1\n",
    "    for num in nums1:\n",
    "        freq_nums1[num] = freq_nums1.get(num, 0) + 1\n",
    "        \n",
    "    # Count element frequencies in nums2\n",
    "    for num in nums2:\n",
    "        freq_nums2[num] = freq_nums2.get(num, 0) + 1\n",
    "        \n",
    "    # Find the intersection of elements with frequencies\n",
    "    intersection = []\n",
    "    for num in freq_nums1:\n",
    "        if num in freq_nums2:\n",
    "            count = min(freq_nums1[num], freq_nums2[num])\n",
    "            intersection.extend([num] * count)\n",
    "            \n",
    "    return intersection\n",
    "\n",
    "# Test cases\n",
    "print(find_intersection([1, 2, 2, 1], [2, 2]))  # Output: [2, 2]\n",
    "print(find_intersection([4, 9, 5], [9, 4, 9, 8, 4]))  # Output: [4, 9]\n"
   ]
  },
  {
   "cell_type": "markdown",
   "id": "aeaf9fc3",
   "metadata": {},
   "source": [
    "Explanation:\n",
    "\n",
    "We first create two dictionaries freq_nums1 and freq_nums2 to store the frequencies of elements in nums1 and nums2, respectively.\n",
    "We iterate through each element in nums1 and count its frequency in freq_nums1.\n",
    "Similarly, we iterate through each element in nums2 and count its frequency in freq_nums2.\n",
    "We then find the common elements between the two dictionaries, which represent the intersection of elements between nums1 and nums2.\n",
    "For each common element, we take the minimum of its frequencies in both arrays and add that element with the corresponding count to the intersection list.\n",
    "Finally, we return the intersection list, which contains the elements that appear in both arrays with their respective counts.\n",
    "This algorithm runs in linear time O(n) since it iterates through both arrays once to count the element frequencies. The result will contain elements that appear as many times as they occur in both arrays. The order of elements in the output list may vary due to the nature of dictionary iteration, but all occurrences will be present as required."
   ]
  },
  {
   "cell_type": "code",
   "execution_count": null,
   "id": "364c44b1",
   "metadata": {},
   "outputs": [],
   "source": []
  }
 ],
 "metadata": {
  "kernelspec": {
   "display_name": "Python 3 (ipykernel)",
   "language": "python",
   "name": "python3"
  },
  "language_info": {
   "codemirror_mode": {
    "name": "ipython",
    "version": 3
   },
   "file_extension": ".py",
   "mimetype": "text/x-python",
   "name": "python",
   "nbconvert_exporter": "python",
   "pygments_lexer": "ipython3",
   "version": "3.9.7"
  }
 },
 "nbformat": 4,
 "nbformat_minor": 5
}
