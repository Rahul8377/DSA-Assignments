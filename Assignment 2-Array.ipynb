{
 "cells": [
  {
   "cell_type": "markdown",
   "id": "13bbf086",
   "metadata": {},
   "source": [
    "# <aside>\n",
    "💡 **Question 1**\n",
    "Given an integer array nums of 2n integers, group these integers into n pairs (a1, b1), (a2, b2),..., (an, bn) such that the sum of min(ai, bi) for all i is maximized. Return the maximized sum.\n",
    "\n",
    "**Example 1:**\n",
    "Input: nums = [1,4,3,2]\n",
    "Output: 4\n",
    "\n",
    "**Explanation:** All possible pairings (ignoring the ordering of elements) are:\n",
    "\n",
    "1. (1, 4), (2, 3) -> min(1, 4) + min(2, 3) = 1 + 2 = 3\n",
    "2. (1, 3), (2, 4) -> min(1, 3) + min(2, 4) = 1 + 2 = 3\n",
    "3. (1, 2), (3, 4) -> min(1, 2) + min(3, 4) = 1 + 3 = 4\n",
    "So the maximum possible sum is 4\n",
    "</aside>"
   ]
  },
  {
   "cell_type": "markdown",
   "id": "e3ba6bb6",
   "metadata": {},
   "source": [
    "# Solution:"
   ]
  },
  {
   "cell_type": "markdown",
   "id": "555390e5",
   "metadata": {},
   "source": [
    "To solve this problem, we need to pair the numbers in such a way that the sum of the minimum values in each pair is maximized. The key observation is that to maximize the sum, we should pair the numbers that are closest to each other.\n",
    "\n",
    "Here's an approach to solve this problem:\n",
    "\n",
    "Sort the array nums in ascending order.\n",
    "\n",
    "Initialize a variable max_sum to 0. This variable will keep track of the maximized sum.\n",
    "\n",
    "Iterate over the sorted array starting from index 0 with a step size of 2.\n",
    "\n",
    "For each iteration, add the value at the current index to max_sum.\n",
    "\n",
    "After iterating through the entire array, max_sum will contain the maximized sum of the minimum values.\n",
    "\n",
    "Return max_sum.\n",
    "\n",
    "Here's the Python code that implements the above algorithm:"
   ]
  },
  {
   "cell_type": "code",
   "execution_count": 2,
   "id": "26766baf",
   "metadata": {},
   "outputs": [
    {
     "name": "stdout",
     "output_type": "stream",
     "text": [
      "4\n"
     ]
    }
   ],
   "source": [
    "def arrayPairSum(nums):\n",
    "    nums.sort()  # Step 1\n",
    "    max_sum = 0  # Step 2\n",
    "    for i in range(0, len(nums), 2):  # Step 3\n",
    "        max_sum += nums[i]  # Step 4\n",
    "    return max_sum  # Step 6\n",
    "\n",
    "nums = [1, 4, 3, 2]\n",
    "result = arrayPairSum(nums)\n",
    "print(result)  # Output: 4\n"
   ]
  },
  {
   "cell_type": "markdown",
   "id": "de91955e",
   "metadata": {},
   "source": [
    "# Question 2\n",
    "Alice has n candies, where the ith candy is of type candyType[i]. Alice noticed that she started to gain weight, so she visited a doctor. \n",
    "\n",
    "The doctor advised Alice to only eat n / 2 of the candies she has (n is always even). Alice likes her candies very much, and she wants to eat the maximum number of different types of candies while still following the doctor's advice. \n",
    "\n",
    "Given the integer array candyType of length n, return the maximum number of different types of candies she can eat if she only eats n / 2 of them.\n",
    "\n",
    "Example 1:\n",
    "\n",
    "Input: candyType = [1,1,2,2,3,3]\n",
    "\n",
    "Output: 3\n",
    "\n",
    "Explanation: Alice can only eat 6 / 2 = 3 candies. Since there are only 3 types, she can eat one of each type."
   ]
  },
  {
   "cell_type": "markdown",
   "id": "98c06350",
   "metadata": {},
   "source": [
    "# Solution:"
   ]
  },
  {
   "cell_type": "markdown",
   "id": "6070fcef",
   "metadata": {},
   "source": [
    "To find the maximum number of different types of candies that Alice can eat while following the doctor's advice, we need to determine the number of unique candy types and compare it with half of the total number of candies.\n",
    "\n",
    "Here's an approach to solve this problem:\n",
    "\n",
    "Convert the candyType array into a set to get the unique candy types.\n",
    "\n",
    "Calculate the maximum number of unique candy types Alice can eat, which is the minimum of the length of the unique candy types set and n / 2.\n",
    "\n",
    "Return the maximum number of unique candy types.\n",
    "\n",
    "Here's the Python code that implements the above algorithm:\n"
   ]
  },
  {
   "cell_type": "code",
   "execution_count": 3,
   "id": "a6eb4669",
   "metadata": {},
   "outputs": [],
   "source": [
    "def distributeCandies(candyType):\n",
    "    unique_candy_types = set(candyType)  # Step 1\n",
    "    max_candies = min(len(unique_candy_types), len(candyType) // 2)  # Step 2\n",
    "    return max_candies  # Step 3\n"
   ]
  },
  {
   "cell_type": "code",
   "execution_count": 4,
   "id": "95453f82",
   "metadata": {},
   "outputs": [
    {
     "name": "stdout",
     "output_type": "stream",
     "text": [
      "3\n"
     ]
    }
   ],
   "source": [
    "candyType = [1, 1, 2, 2, 3, 3]\n",
    "result = distributeCandies(candyType)\n",
    "print(result)  # Output: 3\n"
   ]
  },
  {
   "cell_type": "markdown",
   "id": "40109b1a",
   "metadata": {},
   "source": [
    "# Question 3\n",
    "We define a harmonious array as an array where the difference between its maximum value\n",
    "and its minimum value is exactly 1.\n",
    "\n",
    "Given an integer array nums, return the length of its longest harmonious subsequence\n",
    "among all its possible subsequences.\n",
    "\n",
    "A subsequence of an array is a sequence that can be derived from the array by deleting some or no elements without changing the order of the remaining elements.\n",
    "\n",
    "Example 1:\n",
    "Input: nums = [1,3,2,2,5,2,3,7]\n",
    "Output: 5\n",
    "\n",
    "Explanation: The longest harmonious subsequence is [3,2,2,2,3]."
   ]
  },
  {
   "cell_type": "markdown",
   "id": "7cf2ee07",
   "metadata": {},
   "source": [
    "# Solution:"
   ]
  },
  {
   "cell_type": "markdown",
   "id": "6acdad68",
   "metadata": {},
   "source": [
    "To find the length of the longest harmonious subsequence in the given array, we need to count the occurrences of each number and check for pairs of numbers that have a difference of 1.\n",
    "\n",
    "Here's an approach to solve this problem:\n",
    "\n",
    "Initialize an empty dictionary counter to keep track of the count of each number in the array.\n",
    "\n",
    "Iterate over the array nums and update the count of each number in the counter dictionary.\n",
    "\n",
    "Initialize a variable max_length to 0. This variable will store the length of the longest harmonious subsequence.\n",
    "\n",
    "Iterate over the keys in the counter dictionary.\n",
    "\n",
    "For each key, check if the count of the current number plus the count of the number with a difference of 1 is greater than the current max_length.\n",
    "\n",
    "If the condition is true, update max_length with the sum of the counts.\n",
    "\n",
    "Return max_length.\n",
    "\n",
    "Here's the Python code that implements the above algorithm:\n",
    "\n",
    "\n"
   ]
  },
  {
   "cell_type": "code",
   "execution_count": 5,
   "id": "d038f074",
   "metadata": {},
   "outputs": [],
   "source": [
    "def findLHS(nums):\n",
    "    counter = {}  # Step 1\n",
    "    for num in nums:  # Step 2\n",
    "        counter[num] = counter.get(num, 0) + 1\n",
    "    \n",
    "    max_length = 0  # Step 3\n",
    "    for num in counter.keys():  # Step 4\n",
    "        if num + 1 in counter:  # Step 5\n",
    "            current_length = counter[num] + counter[num + 1]\n",
    "            max_length = max(max_length, current_length)\n",
    "    \n",
    "    return max_length  # Step 7\n"
   ]
  },
  {
   "cell_type": "code",
   "execution_count": 6,
   "id": "298494e6",
   "metadata": {},
   "outputs": [
    {
     "name": "stdout",
     "output_type": "stream",
     "text": [
      "5\n"
     ]
    }
   ],
   "source": [
    "nums = [1, 3, 2, 2, 5, 2, 3, 7]\n",
    "result = findLHS(nums)\n",
    "print(result)  # Output: 5\n"
   ]
  },
  {
   "cell_type": "markdown",
   "id": "ec3061ad",
   "metadata": {},
   "source": [
    "# Question 4\n",
    "You have a long flowerbed in which some of the plots are planted, and some are not.\n",
    "However, flowers cannot be planted in adjacent plots.\n",
    "Given an integer array flowerbed containing 0's and 1's, where 0 means empty and 1 means not empty, and an integer n, return true if n new flowers can be planted in the flowerbed without violating the no-adjacent-flowers rule and false otherwise.\n",
    "\n",
    "Example 1:\n",
    "Input: flowerbed = [1,0,0,0,1], n = 1\n",
    "Output: true"
   ]
  },
  {
   "cell_type": "markdown",
   "id": "d8b5735e",
   "metadata": {},
   "source": [
    "# Solution : "
   ]
  },
  {
   "cell_type": "markdown",
   "id": "f2992c94",
   "metadata": {},
   "source": [
    "To solve this problem, we can iterate over the flowerbed and check if each empty plot (0) can be used to plant a new flower without violating the adjacent flower rule.\n",
    "\n",
    "Here's an approach to solve this problem:\n",
    "\n",
    "Initialize a variable count to 0. This variable will keep track of the number of flowers that can be planted.\n",
    "\n",
    "Iterate over the flowerbed.\n",
    "\n",
    "For each iteration, check if the current plot is empty (0) and its adjacent plots are also empty or out of bounds.\n",
    "\n",
    "If the condition is true, increment count by 1 and mark the current plot as planted (1) to prevent planting adjacent flowers.\n",
    "\n",
    "After iterating through the flowerbed, check if the number of planted flowers count is greater than or equal to the required number of flowers n.\n",
    "\n",
    "Return True if the condition is true, indicating that n new flowers can be planted. Otherwise, return False.\n",
    "\n",
    "Here's the Python code that implements the above algorithm:"
   ]
  },
  {
   "cell_type": "code",
   "execution_count": 7,
   "id": "a36657e1",
   "metadata": {},
   "outputs": [],
   "source": [
    "def canPlaceFlowers(flowerbed, n):\n",
    "    count = 0  # Step 1\n",
    "    length = len(flowerbed)\n",
    "    for i in range(length):  # Step 2\n",
    "        if flowerbed[i] == 0 and (i == 0 or flowerbed[i-1] == 0) and (i == length-1 or flowerbed[i+1] == 0):  # Step 3\n",
    "            count += 1\n",
    "            flowerbed[i] = 1  # Step 4\n",
    "        if count >= n:  # Step 5\n",
    "            return True\n",
    "    return False  # Step 6\n"
   ]
  },
  {
   "cell_type": "code",
   "execution_count": 8,
   "id": "bd315364",
   "metadata": {},
   "outputs": [
    {
     "name": "stdout",
     "output_type": "stream",
     "text": [
      "True\n"
     ]
    }
   ],
   "source": [
    "flowerbed = [1, 0, 0, 0, 1]\n",
    "n = 1\n",
    "result = canPlaceFlowers(flowerbed, n)\n",
    "print(result)  # Output: True\n"
   ]
  },
  {
   "cell_type": "markdown",
   "id": "4dcfb720",
   "metadata": {},
   "source": [
    "# Question 5\n",
    "Given an integer array nums, find three numbers whose product is maximum and return the maximum product.\n",
    "\n",
    "Example 1:\n",
    "Input: nums = [1,2,3]\n",
    "Output: 6"
   ]
  },
  {
   "cell_type": "markdown",
   "id": "8a4dfa82",
   "metadata": {},
   "source": [
    "# Solution:"
   ]
  },
  {
   "cell_type": "markdown",
   "id": "60fdb717",
   "metadata": {},
   "source": [
    "To find the maximum product of three numbers in the given array, we can consider two cases:\n",
    "\n",
    "The three numbers are all positive: In this case, we can simply take the product of the three largest numbers in the array.\n",
    "\n",
    "The three numbers include at least one negative number: In this case, we need to consider the possibility that multiplying two negative numbers can result in a positive product. To handle this case, we find the product of the two smallest (most negative) numbers in the array and multiply it with the largest number.\n",
    "\n",
    "Here's an approach to solve this problem:\n",
    "\n",
    "Sort the array nums in ascending order.\n",
    "\n",
    "Calculate the product of the three largest numbers in the array and store it in a variable max_product_pos.\n",
    "\n",
    "Calculate the product of the two smallest numbers and the largest number in the array and store it in a variable max_product_neg.\n",
    "\n",
    "Return the maximum value between max_product_pos and max_product_neg.\n",
    "\n",
    "Here's the Python code that implements the above algorithm:"
   ]
  },
  {
   "cell_type": "code",
   "execution_count": 9,
   "id": "367891e9",
   "metadata": {},
   "outputs": [],
   "source": [
    "def maximumProduct(nums):\n",
    "    nums.sort()  # Step 1\n",
    "    n = len(nums)\n",
    "    max_product_pos = nums[n-1] * nums[n-2] * nums[n-3]  # Step 2\n",
    "    max_product_neg = nums[0] * nums[1] * nums[n-1]  # Step 3\n",
    "    return max(max_product_pos, max_product_neg)  # Step 4\n"
   ]
  },
  {
   "cell_type": "code",
   "execution_count": 10,
   "id": "832d6f5d",
   "metadata": {},
   "outputs": [
    {
     "name": "stdout",
     "output_type": "stream",
     "text": [
      "60\n"
     ]
    }
   ],
   "source": [
    "nums = [1, 2, 3, 4, 5]\n",
    "result = maximumProduct(nums)\n",
    "print(result)  \n"
   ]
  },
  {
   "cell_type": "markdown",
   "id": "76b04fd2",
   "metadata": {},
   "source": [
    "# Question 6\n",
    "Given an array of integers nums which is sorted in ascending order, and an integer target,\n",
    "write a function to search target in nums. If target exists, then return its index. Otherwise,\n",
    "return -1.\n",
    "\n",
    "You must write an algorithm with O(log n) runtime complexity.\n",
    "\n",
    "Input: nums = [-1,0,3,5,9,12], target = 9\n",
    "Output: 4\n",
    "\n",
    "Explanation: 9 exists in nums and its index is 4"
   ]
  },
  {
   "cell_type": "markdown",
   "id": "34e165ac",
   "metadata": {},
   "source": [
    "# Solution:"
   ]
  },
  {
   "cell_type": "markdown",
   "id": "d5f3e58a",
   "metadata": {},
   "source": [
    "To search for a target number in a sorted array with O(log n) runtime complexity, we can use the Binary Search algorithm. The idea is to divide the array into two halves and check if the target is in the left half or the right half. We continue dividing the array in half until we find the target or determine that it doesn't exist in the array.\n",
    "\n",
    "Here's the algorithm to solve this problem:\n",
    "\n",
    "Initialize two pointers, left and right, to the start and end of the array respectively.\n",
    "\n",
    "While left is less than or equal to right, do the following:\n",
    "a. Calculate the middle index as (left + right) // 2.\n",
    "b. If the middle element is equal to the target, return the middle index.\n",
    "c. If the middle element is greater than the target, update right to middle - 1.\n",
    "d. If the middle element is less than the target, update left to middle + 1.\n",
    "\n",
    "If the target is not found, return -1.\n",
    "\n",
    "Here's the Python code that implements the above algorithm:"
   ]
  },
  {
   "cell_type": "code",
   "execution_count": 11,
   "id": "689a9fdd",
   "metadata": {},
   "outputs": [],
   "source": [
    "def search(nums, target):\n",
    "    left, right = 0, len(nums) - 1  # Step 1\n",
    "    while left <= right:  # Step 2\n",
    "        middle = (left + right) // 2  # Step 2a\n",
    "        if nums[middle] == target:  # Step 2b\n",
    "            return middle\n",
    "        elif nums[middle] > target:  # Step 2c\n",
    "            right = middle - 1\n",
    "        else:  # Step 2d\n",
    "            left = middle + 1\n",
    "    return -1  # Step 3\n"
   ]
  },
  {
   "cell_type": "code",
   "execution_count": 12,
   "id": "3fbd0c26",
   "metadata": {},
   "outputs": [
    {
     "name": "stdout",
     "output_type": "stream",
     "text": [
      "4\n"
     ]
    }
   ],
   "source": [
    "nums = [-1, 0, 3, 5, 9, 12]\n",
    "target = 9\n",
    "result = search(nums, target)\n",
    "print(result)  # Output: 4\n"
   ]
  },
  {
   "cell_type": "markdown",
   "id": "f58efbc6",
   "metadata": {},
   "source": [
    "# Question 7\n",
    "An array is monotonic if it is either monotone increasing or monotone decreasing.\n",
    "\n",
    "An array nums is monotone increasing if for all i <= j, nums[i] <= nums[j]. An array nums is\n",
    "monotone decreasing if for all i <= j, nums[i] >= nums[j].\n",
    "\n",
    "Given an integer array nums, return true if the given array is monotonic, or false otherwise.\n",
    "\n",
    "Example 1:\n",
    "Input: nums = [1,2,2,3]\n",
    "Output: true"
   ]
  },
  {
   "cell_type": "markdown",
   "id": "c7466773",
   "metadata": {},
   "source": [
    "# Solution:"
   ]
  },
  {
   "cell_type": "markdown",
   "id": "d34c34fe",
   "metadata": {},
   "source": [
    "Here's an approach to solve this problem:\n",
    "\n",
    "Initialize two flags, isIncreasing and isDecreasing, as True.\n",
    "\n",
    "Iterate over the array nums starting from index 1.\n",
    "\n",
    "For each iteration, check if the current element is less than the previous element. If true, set isIncreasing to False.\n",
    "\n",
    "For each iteration, check if the current element is greater than the previous element. If true, set isDecreasing to False.\n",
    "\n",
    "Return the logical OR (isIncreasing or isDecreasing) to determine if the array is monotonic.\n",
    "\n",
    "Here's the Python code that implements the above algorithm:"
   ]
  },
  {
   "cell_type": "code",
   "execution_count": 13,
   "id": "5e715726",
   "metadata": {},
   "outputs": [],
   "source": [
    "def isMonotonic(nums):\n",
    "    isIncreasing = True  # Step 1\n",
    "    isDecreasing = True  # Step 1\n",
    "\n",
    "    for i in range(1, len(nums)):  # Step 2\n",
    "        if nums[i] < nums[i-1]:  # Step 3\n",
    "            isIncreasing = False\n",
    "        if nums[i] > nums[i-1]:  # Step 4\n",
    "            isDecreasing = False\n",
    "\n",
    "    return isIncreasing or isDecreasing  # Step 5\n"
   ]
  },
  {
   "cell_type": "code",
   "execution_count": 14,
   "id": "7feaf4d7",
   "metadata": {},
   "outputs": [
    {
     "name": "stdout",
     "output_type": "stream",
     "text": [
      "True\n"
     ]
    }
   ],
   "source": [
    "nums = [1, 2, 2, 3]\n",
    "result = isMonotonic(nums)\n",
    "print(result)  # Output: True\n"
   ]
  },
  {
   "cell_type": "markdown",
   "id": "23d3cd99",
   "metadata": {},
   "source": [
    "# Question 8\n",
    "You are given an integer array nums and an integer k.\n",
    "\n",
    "In one operation, you can choose any index i where 0 <= i < nums.length and change nums[i] to nums[i] + x where x is an integer from the range [-k, k]. You can apply this operation at most once for each index i.\n",
    "\n",
    "The score of nums is the difference between the maximum and minimum elements in nums.\n",
    "\n",
    "Return the minimum score of nums after applying the mentioned operation at most once for each index in it.\n",
    "\n",
    "Example 1:\n",
    "Input: nums = [1], k = 0\n",
    "Output: 0\n",
    "\n",
    "Explanation: The score is max(nums) - min(nums) = 1 - 1 = 0."
   ]
  },
  {
   "cell_type": "markdown",
   "id": "2f67345b",
   "metadata": {},
   "source": [
    "# Solution:"
   ]
  },
  {
   "cell_type": "markdown",
   "id": "7b61ba60",
   "metadata": {},
   "source": [
    "To minimize the score of the array nums after applying the mentioned operation at most once for each index, we can modify the minimum and maximum elements in nums by the maximum possible amount within the range [-k, k]. This will ensure that the difference between the maximum and minimum elements is minimized.\n",
    "\n",
    "Here's an approach to solve this problem:\n",
    "\n",
    "Initialize the variables min_num and max_num to the minimum and maximum elements in nums respectively.\n",
    "\n",
    "If the difference between max_num and min_num is less than or equal to 2 * k, return 0 as it is not possible to decrease the difference further.\n",
    "\n",
    "Otherwise, calculate the average value avg between min_num and max_num.\n",
    "\n",
    "Iterate over nums and update each element as follows:\n",
    "a. If an element is less than avg - k, set it to avg - k.\n",
    "b. If an element is greater than avg + k, set it to avg + k.\n",
    "\n",
    "Return the difference between the maximum and minimum elements in the modified nums array.\n",
    "\n",
    "Here's the Python code that implements the above algorithm:"
   ]
  },
  {
   "cell_type": "code",
   "execution_count": 15,
   "id": "4f27c966",
   "metadata": {},
   "outputs": [],
   "source": [
    "def minimumScore(nums, k):\n",
    "    min_num = min(nums)  # Step 1\n",
    "    max_num = max(nums)  # Step 1\n",
    "\n",
    "    if max_num - min_num <= 2 * k:  # Step 2\n",
    "        return 0\n",
    "\n",
    "    avg = (min_num + max_num) // 2  # Step 3\n",
    "\n",
    "    for i in range(len(nums)):  # Step 4\n",
    "        if nums[i] < avg - k:\n",
    "            nums[i] = avg - k\n",
    "        elif nums[i] > avg + k:\n",
    "            nums[i] = avg + k\n",
    "\n",
    "    return max(nums) - min(nums)  # Step 5\n"
   ]
  },
  {
   "cell_type": "code",
   "execution_count": 16,
   "id": "67bb9eaa",
   "metadata": {},
   "outputs": [
    {
     "name": "stdout",
     "output_type": "stream",
     "text": [
      "0\n"
     ]
    }
   ],
   "source": [
    "nums = [1]\n",
    "k = 0\n",
    "result = minimumScore(nums, k)\n",
    "print(result)  # Output: 0\n"
   ]
  },
  {
   "cell_type": "code",
   "execution_count": null,
   "id": "b130dcc4",
   "metadata": {},
   "outputs": [],
   "source": []
  }
 ],
 "metadata": {
  "kernelspec": {
   "display_name": "Python 3 (ipykernel)",
   "language": "python",
   "name": "python3"
  },
  "language_info": {
   "codemirror_mode": {
    "name": "ipython",
    "version": 3
   },
   "file_extension": ".py",
   "mimetype": "text/x-python",
   "name": "python",
   "nbconvert_exporter": "python",
   "pygments_lexer": "ipython3",
   "version": "3.9.7"
  }
 },
 "nbformat": 4,
 "nbformat_minor": 5
}
