{
 "cells": [
  {
   "cell_type": "markdown",
   "id": "66158bad",
   "metadata": {},
   "source": [
    "# Assignment Questions 9\n"
   ]
  },
  {
   "cell_type": "markdown",
   "id": "77cd0f51",
   "metadata": {},
   "source": [
    "# <aside>\n",
    "💡 **Question 1**\n",
    "\n",
    "Given an integer `n`, return *`true` if it is a power of two. Otherwise, return `false`*.\n",
    "\n",
    "An integer `n` is a power of two, if there exists an integer `x` such that `n == 2x`.\n",
    "\n",
    "**Example 1:**\n",
    "Input: n = 1 \n",
    "\n",
    "Output: true\n",
    "\n",
    "**Example 2:**\n",
    "Input: n = 16 \n",
    "\n",
    "Output: true\n",
    "\n",
    "**Example 3:**\n",
    "Input: n = 3 \n",
    "\n",
    "Output: false\n",
    "\n",
    "</aside>"
   ]
  },
  {
   "cell_type": "markdown",
   "id": "0317b781",
   "metadata": {},
   "source": [
    "# Solution"
   ]
  },
  {
   "cell_type": "markdown",
   "id": "ad2c4fd9",
   "metadata": {},
   "source": [
    "To determine whether an integer n is a power of two, we can follow a simple algorithm. We need to check if n is greater than 0 and if it has only one bit set to 1. If both conditions are true, then n is a power of two.\n",
    "\n",
    "Here's the Python function to implement this algorithm:"
   ]
  },
  {
   "cell_type": "code",
   "execution_count": 1,
   "id": "158c87b8",
   "metadata": {},
   "outputs": [],
   "source": [
    "def is_power_of_two(n):\n",
    "    # Check if n is greater than 0 and only one bit is set to 1\n",
    "    return n > 0 and (n & (n - 1)) == 0\n"
   ]
  },
  {
   "cell_type": "code",
   "execution_count": 2,
   "id": "a7c45c1d",
   "metadata": {},
   "outputs": [
    {
     "name": "stdout",
     "output_type": "stream",
     "text": [
      "True\n",
      "True\n",
      "False\n"
     ]
    }
   ],
   "source": [
    "print(is_power_of_two(1))   # Output: True\n",
    "print(is_power_of_two(16))  # Output: True\n",
    "print(is_power_of_two(3))   # Output: False\n"
   ]
  },
  {
   "cell_type": "markdown",
   "id": "c88ec0cc",
   "metadata": {},
   "source": [
    "Explanation:\n",
    "\n",
    "For n = 1, the binary representation is 0b1, which is 2^0. So, it is a power of two.\n",
    "For n = 16, the binary representation is 0b10000, which is 2^4. So, it is a power of two.\n",
    "For n = 3, the binary representation is 0b11, which is not a power of two because it has more than one bit set to 1."
   ]
  },
  {
   "cell_type": "markdown",
   "id": "767cc2af",
   "metadata": {},
   "source": [
    "# <aside>\n",
    "💡 **Question 2**\n",
    "\n",
    "Given a number n, find the sum of the first natural numbers.\n",
    "\n",
    "**Example 1:**\n",
    "\n",
    "Input: n = 3 \n",
    "\n",
    "Output: 6\n",
    "\n",
    "**Example 2:**\n",
    "\n",
    "Input  : 5 \n",
    "\n",
    "Output : 15\n",
    "\n",
    "</aside>"
   ]
  },
  {
   "cell_type": "markdown",
   "id": "4751f184",
   "metadata": {},
   "source": [
    "# Solution"
   ]
  },
  {
   "cell_type": "markdown",
   "id": "691cf249",
   "metadata": {},
   "source": [
    "To find the sum of the first n natural numbers, we can use the formula for the sum of an arithmetic series:\n",
    "\n",
    "Sum = (n * (n + 1)) / 2\n",
    "\n",
    "Here's the Python function to implement this:"
   ]
  },
  {
   "cell_type": "code",
   "execution_count": 3,
   "id": "e7267195",
   "metadata": {},
   "outputs": [],
   "source": [
    "def sum_of_first_n_natural_numbers(n):\n",
    "    return (n * (n + 1)) // 2\n"
   ]
  },
  {
   "cell_type": "markdown",
   "id": "aff6bcce",
   "metadata": {},
   "source": [
    "Let's test the function with the provided examples:\n",
    "\n",
    "python\n"
   ]
  },
  {
   "cell_type": "code",
   "execution_count": 4,
   "id": "2fe1dccb",
   "metadata": {},
   "outputs": [
    {
     "name": "stdout",
     "output_type": "stream",
     "text": [
      "6\n",
      "15\n"
     ]
    }
   ],
   "source": [
    "print(sum_of_first_n_natural_numbers(3))  # Output: 6\n",
    "print(sum_of_first_n_natural_numbers(5))  # Output: 15\n"
   ]
  },
  {
   "cell_type": "markdown",
   "id": "dacb7235",
   "metadata": {},
   "source": [
    "Explanation:\n",
    "\n",
    "For n = 3, the sum of the first 3 natural numbers is 1 + 2 + 3 = 6.\n",
    "\n",
    "For n = 5, the sum of the first 5 natural numbers is 1 + 2 + 3 + 4 + 5 = 15."
   ]
  },
  {
   "cell_type": "markdown",
   "id": "c8f7479c",
   "metadata": {},
   "source": [
    "# <aside>\n",
    "💡 **Question 3**\n",
    "\n",
    "****Given a positive integer, N. Find the factorial of N. \n",
    "\n",
    "**Example 1:**\n",
    "\n",
    "Input: N = 5 \n",
    "\n",
    "Output: 120\n",
    "\n",
    "**Example 2:**\n",
    "\n",
    "Input: N = 4\n",
    "\n",
    "Output: 24\n",
    "\n",
    "</aside>"
   ]
  },
  {
   "cell_type": "markdown",
   "id": "453600f0",
   "metadata": {},
   "source": [
    "# Solution"
   ]
  },
  {
   "cell_type": "markdown",
   "id": "5c631fd9",
   "metadata": {},
   "source": [
    "To find the factorial of a positive integer N, we need to multiply all positive integers from 1 to N.\n",
    "\n",
    "Here's the Python function to calculate the factorial:"
   ]
  },
  {
   "cell_type": "code",
   "execution_count": 5,
   "id": "f6307122",
   "metadata": {},
   "outputs": [],
   "source": [
    "def factorial(N):\n",
    "    if N == 0 or N == 1:\n",
    "        return 1\n",
    "    else:\n",
    "        return N * factorial(N - 1)\n"
   ]
  },
  {
   "cell_type": "code",
   "execution_count": 6,
   "id": "cf1e1e84",
   "metadata": {},
   "outputs": [
    {
     "name": "stdout",
     "output_type": "stream",
     "text": [
      "120\n",
      "24\n"
     ]
    }
   ],
   "source": [
    "print(factorial(5))  # Output: 120\n",
    "print(factorial(4))  # Output: 24\n"
   ]
  },
  {
   "cell_type": "markdown",
   "id": "bb45f5d4",
   "metadata": {},
   "source": [
    "Explanation:\n",
    "\n",
    "For N = 5, the factorial is 5 * 4 * 3 * 2 * 1 = 120.\n",
    "\n",
    "For N = 4, the factorial is 4 * 3 * 2 * 1 = 24."
   ]
  },
  {
   "cell_type": "markdown",
   "id": "661b8165",
   "metadata": {},
   "source": [
    "# <aside>\n",
    "💡 **Question 4**\n",
    "\n",
    "Given a number N and a power P, the task is to find the exponent of this number raised to the given power, i.e. N^P.\n",
    "\n",
    "**Example 1 :** \n",
    "\n",
    "Input: N = 5, P = 2\n",
    "\n",
    "Output: 25\n",
    "\n",
    "**Example 2 :**\n",
    "Input: N = 2, P = 5\n",
    "\n",
    "Output: 32\n",
    "\n",
    "</aside>"
   ]
  },
  {
   "cell_type": "markdown",
   "id": "b7ba09cf",
   "metadata": {},
   "source": [
    "# Solution"
   ]
  },
  {
   "cell_type": "markdown",
   "id": "866ac79b",
   "metadata": {},
   "source": [
    "To find the exponent of a number N raised to the power P, we can use the ** operator in Python, which represents the exponentiation operation.\n",
    "\n",
    "Here's the Python function to calculate N^P:"
   ]
  },
  {
   "cell_type": "code",
   "execution_count": 7,
   "id": "b1c726bc",
   "metadata": {},
   "outputs": [],
   "source": [
    "def power(N, P):\n",
    "    return N ** P\n"
   ]
  },
  {
   "cell_type": "code",
   "execution_count": 8,
   "id": "34375886",
   "metadata": {},
   "outputs": [
    {
     "name": "stdout",
     "output_type": "stream",
     "text": [
      "25\n",
      "32\n"
     ]
    }
   ],
   "source": [
    "print(power(5, 2))  # Output: 25\n",
    "print(power(2, 5))  # Output: 32\n"
   ]
  },
  {
   "cell_type": "markdown",
   "id": "e42b7a5b",
   "metadata": {},
   "source": [
    "# <aside>\n",
    "💡 **Question 5**\n",
    "\n",
    "Given an array of integers **arr**, the task is to find maximum element of that array using recursion.\n",
    "\n",
    "**Example 1:**\n",
    "\n",
    "Input: arr = {1, 4, 3, -5, -4, 8, 6};\n",
    "Output: 8\n",
    "\n",
    "**Example 2:**\n",
    "\n",
    "Input: arr = {1, 4, 45, 6, 10, -8};\n",
    "Output: 45\n",
    "\n",
    "</aside>"
   ]
  },
  {
   "cell_type": "markdown",
   "id": "af692d91",
   "metadata": {},
   "source": [
    "# Solution"
   ]
  },
  {
   "cell_type": "markdown",
   "id": "22651593",
   "metadata": {},
   "source": [
    "To find the maximum element of an array using recursion, we can divide the problem into subproblems and compare the maximum elements of the subarrays. The base case of the recursion will be when the array size becomes 1, and in that case, the maximum element will be the single element in the array.\n",
    "\n",
    "Here's the Python function to find the maximum element of an array using recursion:"
   ]
  },
  {
   "cell_type": "code",
   "execution_count": 9,
   "id": "bd7e4e02",
   "metadata": {},
   "outputs": [],
   "source": [
    "def find_max(arr):\n",
    "    # Base case: If the array has only one element, return that element\n",
    "    if len(arr) == 1:\n",
    "        return arr[0]\n",
    "    \n",
    "    # Recursive case: Find the maximum of the first element and the maximum of the rest of the elements\n",
    "    return max(arr[0], find_max(arr[1:]))\n"
   ]
  },
  {
   "cell_type": "code",
   "execution_count": 10,
   "id": "a80b9cd5",
   "metadata": {},
   "outputs": [
    {
     "name": "stdout",
     "output_type": "stream",
     "text": [
      "8\n",
      "45\n"
     ]
    }
   ],
   "source": [
    "arr1 = [1, 4, 3, -5, -4, 8, 6]\n",
    "arr2 = [1, 4, 45, 6, 10, -8]\n",
    "\n",
    "print(find_max(arr1))  # Output: 8\n",
    "print(find_max(arr2))  # Output: 45\n"
   ]
  },
  {
   "cell_type": "markdown",
   "id": "c58695b1",
   "metadata": {},
   "source": [
    "Explanation:\n",
    "\n",
    "In the first example, the maximum element in the array {1, 4, 3, -5, -4, 8, 6} is 8.\n",
    "\n",
    "In the second example, the maximum element in the array {1, 4, 45, 6, 10, -8} is 45."
   ]
  },
  {
   "cell_type": "markdown",
   "id": "c2255c0d",
   "metadata": {},
   "source": [
    "# <aside>\n",
    "💡 **Question 6**\n",
    "\n",
    "Given first term (a), common difference (d) and a integer N of the Arithmetic Progression series, the task is to find Nth term of the series.\n",
    "\n",
    "**Example 1:**\n",
    "\n",
    "Input : a = 2 d = 1 N = 5\n",
    "Output : 6\n",
    "The 5th term of the series is : 6\n",
    "\n",
    "**Example 2:**\n",
    "\n",
    "Input : a = 5 d = 2 N = 10\n",
    "Output : 23\n",
    "The 10th term of the series is : 23\n",
    "\n",
    "</aside>"
   ]
  },
  {
   "cell_type": "markdown",
   "id": "e214271c",
   "metadata": {},
   "source": [
    "# Solution"
   ]
  },
  {
   "cell_type": "markdown",
   "id": "59009bf0",
   "metadata": {},
   "source": [
    "To find the Nth term of an Arithmetic Progression (AP) series given the first term (a), common difference (d), and the integer N, we can use the formula for the Nth term of an AP:\n",
    "\n",
    "Nth term = a + (N - 1) * d\n",
    "\n",
    "Here's the Python function to calculate the Nth term of the AP series:\n",
    "\n",
    "python\n",
    "C"
   ]
  },
  {
   "cell_type": "code",
   "execution_count": 12,
   "id": "4e9e796c",
   "metadata": {},
   "outputs": [],
   "source": [
    "def nth_term_of_ap(a, d, N):\n",
    "    return a + (N - 1) * d\n"
   ]
  },
  {
   "cell_type": "code",
   "execution_count": 13,
   "id": "00afd17b",
   "metadata": {},
   "outputs": [
    {
     "name": "stdout",
     "output_type": "stream",
     "text": [
      "6\n",
      "23\n"
     ]
    }
   ],
   "source": [
    "print(nth_term_of_ap(2, 1, 5))  # Output: 6\n",
    "print(nth_term_of_ap(5, 2, 10))  # Output: 23\n"
   ]
  },
  {
   "cell_type": "markdown",
   "id": "dbc6c2d4",
   "metadata": {},
   "source": [
    "Explanation:\n",
    "\n",
    "In the first example, the first term (a) is 2, the common difference (d) is 1, and we need to find the 5th term (N = 5). Using the formula, the 5th term is 2 + (5 - 1) * 1 = 6.\n",
    "In the second example, the first term (a) is 5, the common difference (d) is 2, and we need to find the 10th term (N = 10). Using the formula, the 10th term is 5 + (10 - 1) * 2 = 23."
   ]
  },
  {
   "cell_type": "markdown",
   "id": "8798a141",
   "metadata": {},
   "source": [
    "# <aside>\n",
    "💡 **Question 8**\n",
    "\n",
    "Given an array, find a product of all array elements.\n",
    "\n",
    "**Example 1:**\n",
    "\n",
    "Input  : arr[] = {1, 2, 3, 4, 5}\n",
    "Output : 120\n",
    "**Example 2:**\n",
    "\n",
    "Input  : arr[] = {1, 6, 3}\n",
    "Output : 18\n",
    "\n",
    "</aside>"
   ]
  },
  {
   "cell_type": "markdown",
   "id": "6feb48f8",
   "metadata": {},
   "source": [
    "# Solution"
   ]
  },
  {
   "cell_type": "markdown",
   "id": "5f967d56",
   "metadata": {},
   "source": [
    "To find the product of all elements in an array, you can iterate through the array and multiply all the elements together. Here's the Python function to calculate the product of all array elements:"
   ]
  },
  {
   "cell_type": "code",
   "execution_count": 14,
   "id": "56696316",
   "metadata": {},
   "outputs": [],
   "source": [
    "def product_of_array_elements(arr):\n",
    "    product = 1\n",
    "    for num in arr:\n",
    "        product *= num\n",
    "    return product\n"
   ]
  },
  {
   "cell_type": "code",
   "execution_count": 15,
   "id": "38ac03d0",
   "metadata": {},
   "outputs": [
    {
     "name": "stdout",
     "output_type": "stream",
     "text": [
      "120\n",
      "18\n"
     ]
    }
   ],
   "source": [
    "arr1 = [1, 2, 3, 4, 5]\n",
    "arr2 = [1, 6, 3]\n",
    "\n",
    "print(product_of_array_elements(arr1))  # Output: 120\n",
    "print(product_of_array_elements(arr2))  # Output: 18\n"
   ]
  },
  {
   "cell_type": "markdown",
   "id": "afebacc1",
   "metadata": {},
   "source": [
    "Explanation:\n",
    "\n",
    "In the first example, the product of all elements in the array {1, 2, 3, 4, 5} is 1 * 2 * 3 * 4 * 5 = 120.\n",
    "In the second example, the product of all elements in the array {1, 6, 3} is 1 * 6 * 3 = 18."
   ]
  },
  {
   "cell_type": "code",
   "execution_count": null,
   "id": "948db3cb",
   "metadata": {},
   "outputs": [],
   "source": []
  }
 ],
 "metadata": {
  "kernelspec": {
   "display_name": "Python 3 (ipykernel)",
   "language": "python",
   "name": "python3"
  },
  "language_info": {
   "codemirror_mode": {
    "name": "ipython",
    "version": 3
   },
   "file_extension": ".py",
   "mimetype": "text/x-python",
   "name": "python",
   "nbconvert_exporter": "python",
   "pygments_lexer": "ipython3",
   "version": "3.9.7"
  }
 },
 "nbformat": 4,
 "nbformat_minor": 5
}
