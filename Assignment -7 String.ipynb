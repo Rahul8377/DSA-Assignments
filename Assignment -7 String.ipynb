{
 "cells": [
  {
   "cell_type": "markdown",
   "id": "a860291b",
   "metadata": {},
   "source": [
    "# <aside>\n",
    "💡 **Question 1**\n",
    "\n",
    "Given two strings s and t, *determine if they are isomorphic*.\n",
    "\n",
    "Two strings s and t are isomorphic if the characters in s can be replaced to get t.\n",
    "\n",
    "All occurrences of a character must be replaced with another character while preserving the order of characters. No two characters may map to the same character, but a character may map to itself.\n",
    "\n",
    "**Example 1:**\n",
    "\n",
    "**Input:** s = \"egg\", t = \"add\"\n",
    "\n",
    "**Output:** true\n",
    "\n",
    "</aside>"
   ]
  },
  {
   "cell_type": "markdown",
   "id": "3efa1986",
   "metadata": {},
   "source": [
    "# Solution"
   ]
  },
  {
   "cell_type": "markdown",
   "id": "939a6df9",
   "metadata": {},
   "source": [
    "To determine if two strings, s and t, are isomorphic, we need to check if we can replace the characters in s to obtain t while preserving the order of characters and ensuring that no two characters map to the same character. A character may map to itself.\n",
    "\n",
    "Here's an approach to solve this problem:\n",
    "\n",
    "Initialize two dictionaries, s_map and t_map, to store the mapping of characters from s to t and from t to s, respectively.\n",
    "\n",
    "Iterate over the characters in s and t simultaneously using a loop.\n",
    "\n",
    "For each character s_char in s and t_char in t at the current index:\n",
    "\n",
    "If s_char is not present in s_map and t_char is not present in t_map, add the mapping s_char: t_char to s_map and t_char: s_char to t_map.\n",
    "\n",
    "If either s_char is not present in s_map but t_char is present in t_map, or s_char is present in s_map but not mapped to t_char, return False as the mapping is invalid.\n",
    "\n",
    "If the loop completes without returning False, return True as the strings s and t are isomorphic."
   ]
  },
  {
   "cell_type": "code",
   "execution_count": 3,
   "id": "8c68705a",
   "metadata": {},
   "outputs": [],
   "source": [
    "def is_isomorphic(s, t):\n",
    "    if len(s) != len(t):\n",
    "        return False\n",
    "\n",
    "    s_map = {}\n",
    "    t_map = {}\n",
    "\n",
    "    for i in range(len(s)):\n",
    "        s_char = s[i]\n",
    "        t_char = t[i]\n",
    "\n",
    "        if s_char not in s_map and t_char not in t_map:\n",
    "            s_map[s_char] = t_char\n",
    "            t_map[t_char] = s_char\n",
    "        elif s_map.get(s_char) != t_char or t_map.get(t_char) != s_char:\n",
    "            return False\n",
    "\n",
    "    return True\n"
   ]
  },
  {
   "cell_type": "code",
   "execution_count": 4,
   "id": "268e4ff6",
   "metadata": {},
   "outputs": [
    {
     "name": "stdout",
     "output_type": "stream",
     "text": [
      "True\n"
     ]
    }
   ],
   "source": [
    "s = \"egg\"\n",
    "t = \"add\"\n",
    "print(is_isomorphic(s, t))\n",
    "\n"
   ]
  },
  {
   "cell_type": "markdown",
   "id": "8fe74050",
   "metadata": {},
   "source": [
    "# <aside>\n",
    "💡 **Question 2**\n",
    "\n",
    "Given a string num which represents an integer, return true *if* num *is a **strobogrammatic number***.\n",
    "\n",
    "A **strobogrammatic number** is a number that looks the same when rotated 180 degrees (looked at upside down).\n",
    "\n",
    "**Example 1:**\n",
    "\n",
    "**Input:** num = \"69\"\n",
    "\n",
    "**Output:**\n",
    "\n",
    "true\n",
    "\n",
    "</aside>"
   ]
  },
  {
   "cell_type": "markdown",
   "id": "c0048fc5",
   "metadata": {},
   "source": [
    "# Solution"
   ]
  },
  {
   "cell_type": "markdown",
   "id": "92f32186",
   "metadata": {},
   "source": [
    "To determine if a given string num is a strobogrammatic number, we need to check if it looks the same when rotated 180 degrees (upside down). This means that certain pairs of characters should be present in num.\n",
    "\n",
    "Here's an approach to solve this problem:\n",
    "\n",
    "Initialize two pointers, left and right, pointing to the start and end of num respectively.\n",
    "\n",
    "Iterate while left is less than or equal to right.\n",
    "\n",
    "Get the characters at positions left and right in num.\n",
    "\n",
    "Check if the pair of characters is valid:\n",
    "    \n",
    "If the pair is not one of the following: \"00\", \"11\", \"88\", \"69\", or \"96\", return False as num is not strobogrammatic.\n",
    "\n",
    "Move left one step to the right by incrementing it, and move right one step to the left by decrementing it.\n",
    "\n",
    "If the loop completes without returning False, return True as num is a strobogrammatic number."
   ]
  },
  {
   "cell_type": "code",
   "execution_count": 5,
   "id": "87ffa094",
   "metadata": {},
   "outputs": [],
   "source": [
    "def is_strobogrammatic(num):\n",
    "    left, right = 0, len(num) - 1\n",
    "    valid_pairs = {\"00\", \"11\", \"88\", \"69\", \"96\"}\n",
    "\n",
    "    while left <= right:\n",
    "        pair = num[left] + num[right]\n",
    "        if pair not in valid_pairs:\n",
    "            return False\n",
    "        left += 1\n",
    "        right -= 1\n",
    "\n",
    "    return True\n"
   ]
  },
  {
   "cell_type": "code",
   "execution_count": 6,
   "id": "a65a50e0",
   "metadata": {},
   "outputs": [
    {
     "name": "stdout",
     "output_type": "stream",
     "text": [
      "True\n"
     ]
    }
   ],
   "source": [
    "num = \"69\"\n",
    "print(is_strobogrammatic(num))\n"
   ]
  },
  {
   "cell_type": "markdown",
   "id": "aa420a75",
   "metadata": {},
   "source": [
    "# <aside>\n",
    "💡 **Question 3**\n",
    "\n",
    "Given two non-negative integers, num1 and num2 represented as string, return *the sum of* num1 *and* num2 *as a string*.\n",
    "\n",
    "You must solve the problem without using any built-in library for handling large integers (such as BigInteger). You must also not convert the inputs to integers directly.\n",
    "\n",
    "**Example 1:**\n",
    "\n",
    "**Input:** num1 = \"11\", num2 = \"123\"\n",
    "\n",
    "**Output:**\n",
    "\n",
    "\"134\"\n",
    "\n",
    "</aside>"
   ]
  },
  {
   "cell_type": "markdown",
   "id": "65b669a0",
   "metadata": {},
   "source": [
    "# Solution"
   ]
  },
  {
   "cell_type": "markdown",
   "id": "2488b109",
   "metadata": {},
   "source": [
    "Here's an approach to solve this problem:\n",
    "\n",
    "Initialize an empty string result to store the sum of num1 and num2.\n",
    "\n",
    "Initialize two pointers, p1 and p2, pointing to the rightmost digits of num1 and num2, respectively.\n",
    "\n",
    "Initialize a carry variable carry to 0.\n",
    "\n",
    "Iterate while p1 or p2 is greater than or equal to 0, or if carry is non-zero.\n",
    "\n",
    "Get the digits at positions p1 and p2 in num1 and num2, respectively. If p1 or p2 becomes less than 0, consider the digit as 0.\n",
    "\n",
    "Calculate the sum of the digits and the carry: digit_sum = int(num1[p1]) + int(num2[p2]) + carry.\n",
    "    \n",
    "Calculate the current digit of the result and update the carry: current_digit = digit_sum % 10 and carry = digit_sum // 10.\n",
    "    \n",
    "Append the current digit to the left side of the result string.\n",
    "\n",
    "Move p1 and p2 one step to the left by decrementing them.\n",
    "\n",
    "If the carry is non-zero after the loop, append it to the left side of the result string.\n",
    "\n",
    "Reverse the result string to obtain the correct order of digits.\n",
    "\n",
    "Return the result string."
   ]
  },
  {
   "cell_type": "code",
   "execution_count": 7,
   "id": "e40b67f1",
   "metadata": {},
   "outputs": [],
   "source": [
    "def add_strings(num1, num2):\n",
    "    p1, p2 = len(num1) - 1, len(num2) - 1\n",
    "    carry = 0\n",
    "    result = \"\"\n",
    "\n",
    "    while p1 >= 0 or p2 >= 0 or carry > 0:\n",
    "        digit_sum = (int(num1[p1]) if p1 >= 0 else 0) + (int(num2[p2]) if p2 >= 0 else 0) + carry\n",
    "        current_digit = digit_sum % 10\n",
    "        carry = digit_sum // 10\n",
    "        result += str(current_digit)\n",
    "        p1 -= 1\n",
    "        p2 -= 1\n",
    "\n",
    "    if carry > 0:\n",
    "        result += str(carry)\n",
    "\n",
    "    return result[::-1]\n"
   ]
  },
  {
   "cell_type": "code",
   "execution_count": 8,
   "id": "6eab6c7e",
   "metadata": {},
   "outputs": [
    {
     "name": "stdout",
     "output_type": "stream",
     "text": [
      "134\n"
     ]
    }
   ],
   "source": [
    "num1 = \"11\"\n",
    "num2 = \"123\"\n",
    "print(add_strings(num1, num2))\n"
   ]
  },
  {
   "cell_type": "markdown",
   "id": "4fe44d7d",
   "metadata": {},
   "source": [
    "# <aside>\n",
    "💡 **Question 4**\n",
    "\n",
    "Given a string s, reverse the order of characters in each word within a sentence while still preserving whitespace and initial word order.\n",
    "\n",
    "**Example 1:**\n",
    "\n",
    "**Input:** s = \"Let's take LeetCode contest\"\n",
    "\n",
    "**Output:** \"s'teL ekat edoCteeL tsetnoc\"\n",
    "\n",
    "</aside>"
   ]
  },
  {
   "cell_type": "markdown",
   "id": "9377de85",
   "metadata": {},
   "source": [
    "# Solution"
   ]
  },
  {
   "cell_type": "markdown",
   "id": "025ab97a",
   "metadata": {},
   "source": [
    "To reverse the order of characters in each word within a sentence while preserving whitespace and the initial word order, we can follow these steps:\n",
    "\n",
    "Split the string s into a list of words using whitespace as the delimiter. Let's call this list words.\n",
    "\n",
    "Initialize an empty list called reversed_words.\n",
    "\n",
    "Iterate over each word in words.\n",
    "\n",
    "Reverse the characters in the current word.\n",
    "\n",
    "Append the reversed word to the reversed_words list.\n",
    "\n",
    "Join the words in the reversed_words list using whitespace as the separator to form the final reversed sentence.\n"
   ]
  },
  {
   "cell_type": "code",
   "execution_count": 9,
   "id": "8d8329e0",
   "metadata": {},
   "outputs": [],
   "source": [
    "def reverse_words(s):\n",
    "    words = s.split()\n",
    "    reversed_words = []\n",
    "\n",
    "    for word in words:\n",
    "        reversed_word = word[::-1]\n",
    "        reversed_words.append(reversed_word)\n",
    "\n",
    "    return ' '.join(reversed_words)\n"
   ]
  },
  {
   "cell_type": "code",
   "execution_count": 10,
   "id": "e329b2e5",
   "metadata": {},
   "outputs": [
    {
     "name": "stdout",
     "output_type": "stream",
     "text": [
      "s'teL ekat edoCteeL tsetnoc\n"
     ]
    }
   ],
   "source": [
    "s = \"Let's take LeetCode contest\"\n",
    "print(reverse_words(s))\n"
   ]
  },
  {
   "cell_type": "markdown",
   "id": "b5503a8d",
   "metadata": {},
   "source": [
    "# <aside>\n",
    "💡 **Question 5**\n",
    "\n",
    "Given a string s and an integer k, reverse the first k characters for every 2k characters counting from the start of the string.\n",
    "\n",
    "If there are fewer than k characters left, reverse all of them. If there are less than 2k but greater than or equal to k characters, then reverse the first k characters and leave the other as original.\n",
    "\n",
    "**Example 1:**\n",
    "\n",
    "**Input:** s = \"abcdefg\", k = 2\n",
    "\n",
    "**Output:**\n",
    "\n",
    "\"bacdfeg\"\n",
    "\n",
    "</aside>"
   ]
  },
  {
   "cell_type": "markdown",
   "id": "f8595db9",
   "metadata": {},
   "source": [
    "# Solution"
   ]
  },
  {
   "cell_type": "markdown",
   "id": "edacf4c1",
   "metadata": {},
   "source": [
    "To reverse the first k characters for every 2k characters counting from the start of the string s, we can follow these steps:\n",
    "\n",
    "Initialize an empty list called result to store the modified characters.\n",
    "\n",
    "Iterate over the characters in s using a loop with an index i.\n",
    "\n",
    "For each character at index i, check if i is a multiple of 2k or if i is within the range of the first k characters.\n",
    "\n",
    "If either condition is met, reverse the next k characters starting from the current index i and append them to the result list.\n",
    "\n",
    "If none of the conditions are met, append the character at index i directly to the result list.\n",
    "\\\n",
    "Join the characters in the result list to form the final modified string.\n"
   ]
  },
  {
   "cell_type": "code",
   "execution_count": 11,
   "id": "8489d4e0",
   "metadata": {},
   "outputs": [],
   "source": [
    "def reverse_str(s, k):\n",
    "    result = []\n",
    "    n = len(s)\n",
    "\n",
    "    for i in range(0, n, 2 * k):\n",
    "        result.extend(s[i:i+k][::-1])\n",
    "        result.extend(s[i+k:i+2*k])\n",
    "\n",
    "    return ''.join(result)\n"
   ]
  },
  {
   "cell_type": "code",
   "execution_count": 12,
   "id": "24104978",
   "metadata": {},
   "outputs": [
    {
     "name": "stdout",
     "output_type": "stream",
     "text": [
      "bacdfeg\n"
     ]
    }
   ],
   "source": [
    "s = \"abcdefg\"\n",
    "k = 2\n",
    "print(reverse_str(s, k))\n"
   ]
  },
  {
   "cell_type": "markdown",
   "id": "df257572",
   "metadata": {},
   "source": [
    "# <aside>\n",
    "💡 **Question 6**\n",
    "\n",
    "Given two strings s and goal, return true *if and only if* s *can become* goal *after some number of **shifts** on* s.\n",
    "\n",
    "A **shift** on s consists of moving the leftmost character of s to the rightmost position.\n",
    "\n",
    "- For example, if s = \"abcde\", then it will be \"bcdea\" after one shift.\n",
    "\n",
    "**Example 1:**\n",
    "\n",
    "**Input:** s = \"abcde\", goal = \"cdeab\"\n",
    "\n",
    "**Output:**\n",
    "\n",
    "true\n",
    "\n",
    "</aside>"
   ]
  },
  {
   "cell_type": "markdown",
   "id": "026a1c8b",
   "metadata": {},
   "source": [
    "# Solution"
   ]
  },
  {
   "cell_type": "markdown",
   "id": "71494117",
   "metadata": {},
   "source": [
    "To determine if string s can become string goal after some number of shifts, we can check if goal is a substring of s concatenated with itself.\n",
    "\n",
    "Here's an approach to solve this problem:\n",
    "\n",
    "Check if the lengths of s and goal are equal. If not, return False because it is impossible for s to become goal through shifts.\n",
    "\n",
    "Concatenate s with itself to form a new string concat.\n",
    "\n",
    "Check if goal is a substring of concat.\n",
    "\n",
    "If goal is a substring of concat, return True.\n",
    "\n",
    "If goal is not a substring of concat, return False."
   ]
  },
  {
   "cell_type": "code",
   "execution_count": 13,
   "id": "cef9cdd2",
   "metadata": {},
   "outputs": [],
   "source": [
    "def rotate_string(s, goal):\n",
    "    if len(s) != len(goal):\n",
    "        return False\n",
    "\n",
    "    concat = s + s\n",
    "\n",
    "    return goal in concat\n"
   ]
  },
  {
   "cell_type": "code",
   "execution_count": 14,
   "id": "f0a82eac",
   "metadata": {},
   "outputs": [
    {
     "name": "stdout",
     "output_type": "stream",
     "text": [
      "True\n"
     ]
    }
   ],
   "source": [
    "s = \"abcde\"\n",
    "goal = \"cdeab\"\n",
    "print(rotate_string(s, goal))\n"
   ]
  },
  {
   "cell_type": "markdown",
   "id": "27b1ca75",
   "metadata": {},
   "source": [
    "# <aside>\n",
    "💡 **Question 7**\n",
    "\n",
    "Given two strings s and t, return true *if they are equal when both are typed into empty text editors*. '#' means a backspace character.\n",
    "\n",
    "Note that after backspacing an empty text, the text will continue empty.\n",
    "\n",
    "**Example 1:**\n",
    "\n",
    "**Input:** s = \"ab#c\", t = \"ad#c\"\n",
    "\n",
    "**Output:** true\n",
    "\n",
    "**Explanation:**\n",
    "\n",
    "Both s and t become \"ac\".\n",
    "\n",
    "</aside>"
   ]
  },
  {
   "cell_type": "markdown",
   "id": "882095a8",
   "metadata": {},
   "source": [
    "# Solution"
   ]
  },
  {
   "cell_type": "markdown",
   "id": "8a89e5a8",
   "metadata": {},
   "source": [
    "To determine if two strings s and t are equal when both are typed into empty text editors (accounting for backspace characters), we can use a stack-based approach.\n",
    "\n",
    "Here's an approach to solve this problem:\n",
    "\n",
    "Define a helper function process_string(s) that takes a string s as input and returns the processed string after applying the backspace logic.\n",
    "Initialize an empty stack.\n",
    "\n",
    "Iterate over each character c in s.\n",
    "\n",
    "If c is not a backspace character ('#'), push it onto the stack.\n",
    "\n",
    "If c is a backspace character ('#') and the stack is not empty, pop the topmost element from the stack.\n",
    "\n",
    "Convert the stack into a string and return it.\n",
    "\n",
    "Process strings s and t using the helper function process_string() to obtain the processed versions of both strings.\n",
    "\n",
    "Compare the processed strings s_processed and t_processed.\n",
    "\n",
    "If s_processed is equal to t_processed, return True.\n",
    "\n",
    "If s_processed is not equal to t_processed, return False."
   ]
  },
  {
   "cell_type": "code",
   "execution_count": 15,
   "id": "3797bfcd",
   "metadata": {},
   "outputs": [],
   "source": [
    "def process_string(s):\n",
    "    stack = []\n",
    "\n",
    "    for c in s:\n",
    "        if c != '#':\n",
    "            stack.append(c)\n",
    "        elif stack:\n",
    "            stack.pop()\n",
    "\n",
    "    return ''.join(stack)\n",
    "\n",
    "\n",
    "def backspace_compare(s, t):\n",
    "    s_processed = process_string(s)\n",
    "    t_processed = process_string(t)\n",
    "\n",
    "    return s_processed == t_processed\n"
   ]
  },
  {
   "cell_type": "code",
   "execution_count": 16,
   "id": "9ef5c61d",
   "metadata": {},
   "outputs": [
    {
     "name": "stdout",
     "output_type": "stream",
     "text": [
      "True\n"
     ]
    }
   ],
   "source": [
    "s = \"ab#c\"\n",
    "t = \"ad#c\"\n",
    "print(backspace_compare(s, t))\n"
   ]
  },
  {
   "cell_type": "markdown",
   "id": "8092a72f",
   "metadata": {},
   "source": [
    "# <aside>\n",
    "💡 **Question 8**\n",
    "\n",
    "You are given an array coordinates, coordinates[i] = [x, y], where [x, y] represents the coordinate of a point. Check if these points make a straight line in the XY plane.\n",
    "\n",
    "</aside>\n",
    "**Input:** coordinates = [[1,2],[2,3],[3,4],[4,5],[5,6],[6,7]]\n",
    "\n",
    "**Output:** true"
   ]
  },
  {
   "cell_type": "markdown",
   "id": "bc4dc2e4",
   "metadata": {},
   "source": [
    "# Solution"
   ]
  },
  {
   "cell_type": "markdown",
   "id": "a1fa03aa",
   "metadata": {},
   "source": [
    "Here's an approach to solve this problem:\n",
    "\n",
    "Get the coordinates of the first two points, (x1, y1) and (x2, y2), from the input array coordinates.\n",
    "\n",
    "Calculate the slope between these two points using the formula slope = (y2 - y1) / (x2 - x1). Note that we don't need to worry about dividing by zero because we assume that the input points are distinct.\n",
    "\n",
    "Iterate over the remaining points in coordinates starting from the third point at index 2.\n",
    "\n",
    "Get the coordinates of the current point (xi, yi).\n",
    "\n",
    "Calculate the slope between the current point and the first point using the formula current_slope = (yi - y1) / (xi - x1).\n",
    "\n",
    "Check if the current slope is not equal to the initial slope. If not equal, return False because the points do not form a straight line.\n",
    "\n",
    "If the loop completes without returning False, return True because all points form a straight line."
   ]
  },
  {
   "cell_type": "code",
   "execution_count": 17,
   "id": "bac86e81",
   "metadata": {},
   "outputs": [],
   "source": [
    "def checkStraightLine(coordinates):\n",
    "    x1, y1 = coordinates[0]\n",
    "    x2, y2 = coordinates[1]\n",
    "    initial_slope = (y2 - y1) / (x2 - x1)\n",
    "\n",
    "    for i in range(2, len(coordinates)):\n",
    "        xi, yi = coordinates[i]\n",
    "        current_slope = (yi - y1) / (xi - x1)\n",
    "\n",
    "        if current_slope != initial_slope:\n",
    "            return False\n",
    "\n",
    "    return True\n"
   ]
  },
  {
   "cell_type": "code",
   "execution_count": 18,
   "id": "d7ea5322",
   "metadata": {},
   "outputs": [
    {
     "name": "stdout",
     "output_type": "stream",
     "text": [
      "True\n"
     ]
    }
   ],
   "source": [
    "coordinates = [[1,2],[2,3],[3,4],[4,5],[5,6],[6,7]]\n",
    "print(checkStraightLine(coordinates))\n"
   ]
  },
  {
   "cell_type": "code",
   "execution_count": null,
   "id": "5482ee30",
   "metadata": {},
   "outputs": [],
   "source": []
  }
 ],
 "metadata": {
  "kernelspec": {
   "display_name": "Python 3 (ipykernel)",
   "language": "python",
   "name": "python3"
  },
  "language_info": {
   "codemirror_mode": {
    "name": "ipython",
    "version": 3
   },
   "file_extension": ".py",
   "mimetype": "text/x-python",
   "name": "python",
   "nbconvert_exporter": "python",
   "pygments_lexer": "ipython3",
   "version": "3.9.7"
  }
 },
 "nbformat": 4,
 "nbformat_minor": 5
}
